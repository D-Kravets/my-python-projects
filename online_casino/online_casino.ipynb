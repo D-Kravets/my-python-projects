{
 "cells": [
  {
   "cell_type": "code",
   "execution_count": 1,
   "metadata": {},
   "outputs": [],
   "source": [
    "import pandas as pd\n",
    "log=pd.read_csv('log.csv', header=None)"
   ]
  },
  {
   "cell_type": "code",
   "execution_count": 2,
   "metadata": {},
   "outputs": [],
   "source": [
    "#меянем заголовки файла log\n",
    "log.columns=['user_id','time','bet','win']"
   ]
  },
  {
   "cell_type": "code",
   "execution_count": 3,
   "metadata": {},
   "outputs": [
    {
     "data": {
      "text/html": [
       "<div>\n",
       "<style scoped>\n",
       "    .dataframe tbody tr th:only-of-type {\n",
       "        vertical-align: middle;\n",
       "    }\n",
       "\n",
       "    .dataframe tbody tr th {\n",
       "        vertical-align: top;\n",
       "    }\n",
       "\n",
       "    .dataframe thead th {\n",
       "        text-align: right;\n",
       "    }\n",
       "</style>\n",
       "<table border=\"1\" class=\"dataframe\">\n",
       "  <thead>\n",
       "    <tr style=\"text-align: right;\">\n",
       "      <th></th>\n",
       "      <th>user_id</th>\n",
       "      <th>time</th>\n",
       "      <th>bet</th>\n",
       "      <th>win</th>\n",
       "    </tr>\n",
       "  </thead>\n",
       "  <tbody>\n",
       "    <tr>\n",
       "      <th>301</th>\n",
       "      <td>Запись пользователя № - user_939</td>\n",
       "      <td>[2019-02-02 9:09:54</td>\n",
       "      <td>NaN</td>\n",
       "      <td>NaN</td>\n",
       "    </tr>\n",
       "    <tr>\n",
       "      <th>134</th>\n",
       "      <td>Запись пользователя № - user_952</td>\n",
       "      <td>[2019-01-14 13:14:58</td>\n",
       "      <td>NaN</td>\n",
       "      <td>NaN</td>\n",
       "    </tr>\n",
       "  </tbody>\n",
       "</table>\n",
       "</div>"
      ],
      "text/plain": [
       "                              user_id                  time  bet  win\n",
       "301  Запись пользователя № - user_939   [2019-02-02 9:09:54  NaN  NaN\n",
       "134  Запись пользователя № - user_952  [2019-01-14 13:14:58  NaN  NaN"
      ]
     },
     "execution_count": 3,
     "metadata": {},
     "output_type": "execute_result"
    }
   ],
   "source": [
    "log.sample(2)"
   ]
  },
  {
   "cell_type": "code",
   "execution_count": 4,
   "metadata": {},
   "outputs": [
    {
     "data": {
      "text/html": [
       "<div>\n",
       "<style scoped>\n",
       "    .dataframe tbody tr th:only-of-type {\n",
       "        vertical-align: middle;\n",
       "    }\n",
       "\n",
       "    .dataframe tbody tr th {\n",
       "        vertical-align: top;\n",
       "    }\n",
       "\n",
       "    .dataframe thead th {\n",
       "        text-align: right;\n",
       "    }\n",
       "</style>\n",
       "<table border=\"1\" class=\"dataframe\">\n",
       "  <thead>\n",
       "    <tr style=\"text-align: right;\">\n",
       "      <th></th>\n",
       "      <th>Юзверь</th>\n",
       "      <th>мейл</th>\n",
       "      <th>Гео</th>\n",
       "    </tr>\n",
       "  </thead>\n",
       "  <tbody>\n",
       "    <tr>\n",
       "      <th>0</th>\n",
       "      <td>User_943</td>\n",
       "      <td>Accumanst@gmail.com</td>\n",
       "      <td>Ижевск</td>\n",
       "    </tr>\n",
       "    <tr>\n",
       "      <th>1</th>\n",
       "      <td>User_908</td>\n",
       "      <td>Advismowr@mail.ru</td>\n",
       "      <td>Ижевск</td>\n",
       "    </tr>\n",
       "  </tbody>\n",
       "</table>\n",
       "</div>"
      ],
      "text/plain": [
       "     Юзверь                 мейл     Гео\n",
       "0  User_943  Accumanst@gmail.com  Ижевск\n",
       "1  User_908    Advismowr@mail.ru  Ижевск"
      ]
     },
     "execution_count": 4,
     "metadata": {},
     "output_type": "execute_result"
    }
   ],
   "source": [
    "#загрузка файла со сменой кодировки\n",
    "users=pd.read_csv('users.csv', encoding='koi8-r', sep='\\t')\n",
    "users.head(2)"
   ]
  },
  {
   "cell_type": "code",
   "execution_count": 5,
   "metadata": {},
   "outputs": [
    {
     "data": {
      "text/html": [
       "<div>\n",
       "<style scoped>\n",
       "    .dataframe tbody tr th:only-of-type {\n",
       "        vertical-align: middle;\n",
       "    }\n",
       "\n",
       "    .dataframe tbody tr th {\n",
       "        vertical-align: top;\n",
       "    }\n",
       "\n",
       "    .dataframe thead th {\n",
       "        text-align: right;\n",
       "    }\n",
       "</style>\n",
       "<table border=\"1\" class=\"dataframe\">\n",
       "  <thead>\n",
       "    <tr style=\"text-align: right;\">\n",
       "      <th></th>\n",
       "      <th>user_id</th>\n",
       "      <th>email</th>\n",
       "      <th>geo</th>\n",
       "    </tr>\n",
       "  </thead>\n",
       "  <tbody>\n",
       "    <tr>\n",
       "      <th>0</th>\n",
       "      <td>User_943</td>\n",
       "      <td>Accumanst@gmail.com</td>\n",
       "      <td>Ижевск</td>\n",
       "    </tr>\n",
       "    <tr>\n",
       "      <th>1</th>\n",
       "      <td>User_908</td>\n",
       "      <td>Advismowr@mail.ru</td>\n",
       "      <td>Ижевск</td>\n",
       "    </tr>\n",
       "  </tbody>\n",
       "</table>\n",
       "</div>"
      ],
      "text/plain": [
       "    user_id                email     geo\n",
       "0  User_943  Accumanst@gmail.com  Ижевск\n",
       "1  User_908    Advismowr@mail.ru  Ижевск"
      ]
     },
     "execution_count": 5,
     "metadata": {},
     "output_type": "execute_result"
    }
   ],
   "source": [
    "users.columns=['user_id', 'email', 'geo']\n",
    "users.head(2)"
   ]
  },
  {
   "cell_type": "code",
   "execution_count": 6,
   "metadata": {},
   "outputs": [
    {
     "data": {
      "text/plain": [
       "array(['Запись пользователя № - user_919',\n",
       "       'Запись пользователя № - user_973',\n",
       "       'Запись пользователя № - user_903',\n",
       "       'Запись пользователя № - user_954',\n",
       "       'Запись пользователя № - user_917',\n",
       "       'Запись пользователя № - user_900',\n",
       "       'Запись пользователя № - user_980',\n",
       "       'Запись пользователя № - user_906',\n",
       "       'Запись пользователя № - user_952',\n",
       "       'Запись пользователя № - user_972',\n",
       "       'Запись пользователя № - user_966',\n",
       "       'Запись пользователя № - user_964',\n",
       "       'Запись пользователя № - user_978',\n",
       "       'Запись пользователя № - user_968',\n",
       "       'Запись пользователя № - user_974',\n",
       "       'Запись пользователя № - user_998',\n",
       "       'Запись пользователя № - user_990',\n",
       "       'Запись пользователя № - user_942',\n",
       "       'Запись пользователя № - user_929',\n",
       "       'Запись пользователя № - user_976',\n",
       "       'Запись пользователя № - user_927',\n",
       "       'Запись пользователя № - user_951',\n",
       "       'Запись пользователя № - user_949',\n",
       "       'Запись пользователя № - user_987',\n",
       "       'Запись пользователя № - user_985',\n",
       "       'Запись пользователя № - user_992',\n",
       "       'Запись пользователя № - user_937',\n",
       "       'Запись пользователя № - user_913',\n",
       "       'Запись пользователя № - user_948',\n",
       "       'Запись пользователя № - user_916',\n",
       "       'Запись пользователя № - user_938',\n",
       "       'Запись пользователя № - user_997',\n",
       "       'Запись пользователя № - user_940',\n",
       "       'Запись пользователя № - user_918',\n",
       "       'Запись пользователя № - user_960',\n",
       "       'Запись пользователя № - user_905',\n",
       "       'Запись пользователя № - user_924',\n",
       "       'Запись пользователя № - user_958',\n",
       "       'Запись пользователя № - user_920',\n",
       "       'Запись пользователя № - user_943',\n",
       "       'Запись пользователя № - user_935',\n",
       "       'Запись пользователя № - user_915',\n",
       "       'Запись пользователя № - user_921',\n",
       "       'Запись пользователя № - user_999',\n",
       "       'Запись пользователя № - user_982',\n",
       "       'Запись пользователя № - user_928',\n",
       "       'Запись пользователя № - user_944',\n",
       "       'Запись пользователя № - user_912',\n",
       "       'Запись пользователя № - user_969',\n",
       "       'Запись пользователя № - user_901',\n",
       "       'Запись пользователя № - user_995',\n",
       "       'Запись пользователя № - user_933',\n",
       "       'Запись пользователя № - user_986',\n",
       "       'Запись пользователя № - user_971',\n",
       "       'Запись пользователя № - user_977',\n",
       "       'Запись пользователя № - user_979',\n",
       "       'Запись пользователя № - user_910',\n",
       "       'Запись пользователя № - user_994',\n",
       "       'Запись пользователя № - user_907',\n",
       "       'Запись пользователя № - user_941',\n",
       "       'Запись пользователя № - user_989',\n",
       "       'Запись пользователя № - user_955',\n",
       "       'Запись пользователя № - user_991',\n",
       "       'Запись пользователя № - user_996',\n",
       "       'Запись пользователя № - user_926',\n",
       "       'Запись пользователя № - user_984',\n",
       "       'Запись пользователя № - user_957',\n",
       "       'Запись пользователя № - user_914',\n",
       "       'Запись пользователя № - user_988',\n",
       "       'Запись пользователя № - user_923',\n",
       "       'Запись пользователя № - user_967',\n",
       "       'Запись пользователя № - user_945',\n",
       "       'Запись пользователя № - user_993',\n",
       "       'Запись пользователя № - user_908',\n",
       "       'Запись пользователя № - user_930',\n",
       "       'Запись пользователя № - user_981',\n",
       "       'Запись пользователя № - user_936',\n",
       "       'Запись пользователя № - user_922',\n",
       "       'Запись пользователя № - user_962',\n",
       "       'Запись пользователя № - user_965',\n",
       "       'Запись пользователя № - user_959',\n",
       "       'Запись пользователя № - user_963',\n",
       "       'Запись пользователя № - user_904',\n",
       "       'Запись пользователя № - user_931',\n",
       "       'Запись пользователя № - user_1000',\n",
       "       'Запись пользователя № - user_946',\n",
       "       'Запись пользователя № - user_970',\n",
       "       'Запись пользователя № - user_939',\n",
       "       'Запись пользователя № - user_961',\n",
       "       'Запись пользователя № - user_911',\n",
       "       'Запись пользователя № - user_950',\n",
       "       'Запись пользователя № - user_956',\n",
       "       'Запись пользователя № - user_909',\n",
       "       'Запись пользователя № - user_983',\n",
       "       'Запись пользователя № - user_902',\n",
       "       'Запись пользователя № - user_947',\n",
       "       'Запись пользователя № - user_975',\n",
       "       'Запись пользователя № - user_953',\n",
       "       'Запись пользователя № - user_925',\n",
       "       'Запись пользователя № - user_934',\n",
       "       'Запись пользователя № - user_932', '#error'], dtype=object)"
      ]
     },
     "execution_count": 6,
     "metadata": {},
     "output_type": "execute_result"
    }
   ],
   "source": [
    "log.user_id.unique()"
   ]
  },
  {
   "cell_type": "code",
   "execution_count": 7,
   "metadata": {},
   "outputs": [],
   "source": [
    "log_win=log[log['win']>0]"
   ]
  },
  {
   "cell_type": "code",
   "execution_count": 8,
   "metadata": {},
   "outputs": [
    {
     "data": {
      "text/plain": [
       "138"
      ]
     },
     "execution_count": 8,
     "metadata": {},
     "output_type": "execute_result"
    }
   ],
   "source": [
    "win_count=len(log_win)\n",
    "win_count"
   ]
  },
  {
   "cell_type": "code",
   "execution_count": 9,
   "metadata": {},
   "outputs": [
    {
     "data": {
      "text/html": [
       "<div>\n",
       "<style scoped>\n",
       "    .dataframe tbody tr th:only-of-type {\n",
       "        vertical-align: middle;\n",
       "    }\n",
       "\n",
       "    .dataframe tbody tr th {\n",
       "        vertical-align: top;\n",
       "    }\n",
       "\n",
       "    .dataframe thead th {\n",
       "        text-align: right;\n",
       "    }\n",
       "</style>\n",
       "<table border=\"1\" class=\"dataframe\">\n",
       "  <thead>\n",
       "    <tr style=\"text-align: right;\">\n",
       "      <th></th>\n",
       "      <th>user_id</th>\n",
       "      <th>time</th>\n",
       "      <th>bet</th>\n",
       "      <th>win</th>\n",
       "    </tr>\n",
       "  </thead>\n",
       "  <tbody>\n",
       "    <tr>\n",
       "      <th>732</th>\n",
       "      <td>Запись пользователя № - user_909</td>\n",
       "      <td>[2019-03-21 7:22:31</td>\n",
       "      <td>1000.0</td>\n",
       "      <td>7189.0</td>\n",
       "    </tr>\n",
       "    <tr>\n",
       "      <th>955</th>\n",
       "      <td>Запись пользователя № - user_967</td>\n",
       "      <td>[2019-04-18 19:43:51</td>\n",
       "      <td>200.0</td>\n",
       "      <td>5213.0</td>\n",
       "    </tr>\n",
       "  </tbody>\n",
       "</table>\n",
       "</div>"
      ],
      "text/plain": [
       "                              user_id                  time     bet     win\n",
       "732  Запись пользователя № - user_909   [2019-03-21 7:22:31  1000.0  7189.0\n",
       "955  Запись пользователя № - user_967  [2019-04-18 19:43:51   200.0  5213.0"
      ]
     },
     "execution_count": 9,
     "metadata": {},
     "output_type": "execute_result"
    }
   ],
   "source": [
    "log2=log.query('bet<2000 & win>0')\n",
    "log2.sample(2)"
   ]
  },
  {
   "cell_type": "code",
   "execution_count": 10,
   "metadata": {},
   "outputs": [],
   "source": [
    "new_log=log[~log.user_id.str.match(\"#error\")]"
   ]
  },
  {
   "cell_type": "code",
   "execution_count": 11,
   "metadata": {},
   "outputs": [
    {
     "data": {
      "text/html": [
       "<div>\n",
       "<style scoped>\n",
       "    .dataframe tbody tr th:only-of-type {\n",
       "        vertical-align: middle;\n",
       "    }\n",
       "\n",
       "    .dataframe tbody tr th {\n",
       "        vertical-align: top;\n",
       "    }\n",
       "\n",
       "    .dataframe thead th {\n",
       "        text-align: right;\n",
       "    }\n",
       "</style>\n",
       "<table border=\"1\" class=\"dataframe\">\n",
       "  <thead>\n",
       "    <tr style=\"text-align: right;\">\n",
       "      <th></th>\n",
       "      <th>user_id</th>\n",
       "      <th>time</th>\n",
       "      <th>bet</th>\n",
       "      <th>win</th>\n",
       "    </tr>\n",
       "  </thead>\n",
       "  <tbody>\n",
       "    <tr>\n",
       "      <th>0</th>\n",
       "      <td>Запись пользователя № - user_919</td>\n",
       "      <td>[2019-01-01 14:06:51</td>\n",
       "      <td>NaN</td>\n",
       "      <td>NaN</td>\n",
       "    </tr>\n",
       "    <tr>\n",
       "      <th>1</th>\n",
       "      <td>Запись пользователя № - user_973</td>\n",
       "      <td>[2019-01-01 14:51:16</td>\n",
       "      <td>NaN</td>\n",
       "      <td>NaN</td>\n",
       "    </tr>\n",
       "  </tbody>\n",
       "</table>\n",
       "</div>"
      ],
      "text/plain": [
       "                            user_id                  time  bet  win\n",
       "0  Запись пользователя № - user_919  [2019-01-01 14:06:51  NaN  NaN\n",
       "1  Запись пользователя № - user_973  [2019-01-01 14:51:16  NaN  NaN"
      ]
     },
     "execution_count": 11,
     "metadata": {},
     "output_type": "execute_result"
    }
   ],
   "source": [
    "#log.user_id=log.user_id.apply(lambda x: x.replace('Запись пользователя № - ','') )\n",
    "#log.user_id=log.user_id.apply(lambda x: x.replace(\"#error\",''))\n",
    "\n",
    "log.head(2)"
   ]
  },
  {
   "cell_type": "code",
   "execution_count": 12,
   "metadata": {},
   "outputs": [],
   "source": [
    "def users(us):\n",
    "    if \"Запись\" in us:\n",
    "        return us[24:]\n",
    "    elif \"#error\" in us:\n",
    "        return \"\"\n",
    "log.user_id=log.user_id.apply(users)"
   ]
  },
  {
   "cell_type": "code",
   "execution_count": 13,
   "metadata": {},
   "outputs": [
    {
     "data": {
      "text/html": [
       "<div>\n",
       "<style scoped>\n",
       "    .dataframe tbody tr th:only-of-type {\n",
       "        vertical-align: middle;\n",
       "    }\n",
       "\n",
       "    .dataframe tbody tr th {\n",
       "        vertical-align: top;\n",
       "    }\n",
       "\n",
       "    .dataframe thead th {\n",
       "        text-align: right;\n",
       "    }\n",
       "</style>\n",
       "<table border=\"1\" class=\"dataframe\">\n",
       "  <thead>\n",
       "    <tr style=\"text-align: right;\">\n",
       "      <th></th>\n",
       "      <th>user_id</th>\n",
       "      <th>time</th>\n",
       "      <th>bet</th>\n",
       "      <th>win</th>\n",
       "    </tr>\n",
       "  </thead>\n",
       "  <tbody>\n",
       "    <tr>\n",
       "      <th>522</th>\n",
       "      <td>user_947</td>\n",
       "      <td>2019-02-26 15:01:40</td>\n",
       "      <td>100.0</td>\n",
       "      <td>4378.0</td>\n",
       "    </tr>\n",
       "    <tr>\n",
       "      <th>623</th>\n",
       "      <td>user_996</td>\n",
       "      <td>2019-03-09 12:51:58</td>\n",
       "      <td>NaN</td>\n",
       "      <td>NaN</td>\n",
       "    </tr>\n",
       "  </tbody>\n",
       "</table>\n",
       "</div>"
      ],
      "text/plain": [
       "      user_id                 time    bet     win\n",
       "522  user_947  2019-02-26 15:01:40  100.0  4378.0\n",
       "623  user_996  2019-03-09 12:51:58    NaN     NaN"
      ]
     },
     "execution_count": 13,
     "metadata": {},
     "output_type": "execute_result"
    }
   ],
   "source": [
    "log.time=log.time.str.strip('[')\n",
    "log.sample(2)"
   ]
  },
  {
   "cell_type": "code",
   "execution_count": 14,
   "metadata": {},
   "outputs": [
    {
     "data": {
      "text/plain": [
       "15"
      ]
     },
     "execution_count": 14,
     "metadata": {},
     "output_type": "execute_result"
    }
   ],
   "source": [
    "len(log[log.time.isna()])"
   ]
  },
  {
   "cell_type": "code",
   "execution_count": 15,
   "metadata": {},
   "outputs": [
    {
     "data": {
      "text/html": [
       "<div>\n",
       "<style scoped>\n",
       "    .dataframe tbody tr th:only-of-type {\n",
       "        vertical-align: middle;\n",
       "    }\n",
       "\n",
       "    .dataframe tbody tr th {\n",
       "        vertical-align: top;\n",
       "    }\n",
       "\n",
       "    .dataframe thead th {\n",
       "        text-align: right;\n",
       "    }\n",
       "</style>\n",
       "<table border=\"1\" class=\"dataframe\">\n",
       "  <thead>\n",
       "    <tr style=\"text-align: right;\">\n",
       "      <th></th>\n",
       "      <th>user_id</th>\n",
       "      <th>bet</th>\n",
       "      <th>win</th>\n",
       "    </tr>\n",
       "  </thead>\n",
       "  <tbody>\n",
       "    <tr>\n",
       "      <th>921</th>\n",
       "      <td>NaN</td>\n",
       "      <td>600.0</td>\n",
       "      <td>5340.0</td>\n",
       "    </tr>\n",
       "    <tr>\n",
       "      <th>16</th>\n",
       "      <td>user_974</td>\n",
       "      <td>NaN</td>\n",
       "      <td>NaN</td>\n",
       "    </tr>\n",
       "  </tbody>\n",
       "</table>\n",
       "</div>"
      ],
      "text/plain": [
       "      user_id    bet     win\n",
       "921       NaN  600.0  5340.0\n",
       "16   user_974    NaN     NaN"
      ]
     },
     "execution_count": 15,
     "metadata": {},
     "output_type": "execute_result"
    }
   ],
   "source": [
    "#из 2х столбцов user_id и time оставляем где нет пропусков и объединяем с оставшейся частью таблицы\n",
    "res = pd.concat([log[['user_id', 'time']].dropna(axis = 1), log[['bet', 'win']]])\n",
    "res.sample(2)"
   ]
  },
  {
   "cell_type": "code",
   "execution_count": 16,
   "metadata": {},
   "outputs": [
    {
     "data": {
      "text/html": [
       "<div>\n",
       "<style scoped>\n",
       "    .dataframe tbody tr th:only-of-type {\n",
       "        vertical-align: middle;\n",
       "    }\n",
       "\n",
       "    .dataframe tbody tr th {\n",
       "        vertical-align: top;\n",
       "    }\n",
       "\n",
       "    .dataframe thead th {\n",
       "        text-align: right;\n",
       "    }\n",
       "</style>\n",
       "<table border=\"1\" class=\"dataframe\">\n",
       "  <thead>\n",
       "    <tr style=\"text-align: right;\">\n",
       "      <th></th>\n",
       "      <th>user_id</th>\n",
       "      <th>time</th>\n",
       "      <th>bet</th>\n",
       "      <th>win</th>\n",
       "    </tr>\n",
       "  </thead>\n",
       "  <tbody>\n",
       "    <tr>\n",
       "      <th>471</th>\n",
       "      <td>user_959</td>\n",
       "      <td>2019-02-20 20:32:30</td>\n",
       "      <td>700.0</td>\n",
       "      <td>NaN</td>\n",
       "    </tr>\n",
       "    <tr>\n",
       "      <th>130</th>\n",
       "      <td>user_993</td>\n",
       "      <td>2019-01-14 1:14:30</td>\n",
       "      <td>NaN</td>\n",
       "      <td>NaN</td>\n",
       "    </tr>\n",
       "  </tbody>\n",
       "</table>\n",
       "</div>"
      ],
      "text/plain": [
       "      user_id                 time    bet  win\n",
       "471  user_959  2019-02-20 20:32:30  700.0  NaN\n",
       "130  user_993   2019-01-14 1:14:30    NaN  NaN"
      ]
     },
     "execution_count": 16,
     "metadata": {},
     "output_type": "execute_result"
    }
   ],
   "source": [
    "ret = log.dropna(subset=['user_id', 'time'], axis = 0)\n",
    "ret.sample(2)"
   ]
  },
  {
   "cell_type": "code",
   "execution_count": 17,
   "metadata": {},
   "outputs": [
    {
     "data": {
      "text/html": [
       "<div>\n",
       "<style scoped>\n",
       "    .dataframe tbody tr th:only-of-type {\n",
       "        vertical-align: middle;\n",
       "    }\n",
       "\n",
       "    .dataframe tbody tr th {\n",
       "        vertical-align: top;\n",
       "    }\n",
       "\n",
       "    .dataframe thead th {\n",
       "        text-align: right;\n",
       "    }\n",
       "</style>\n",
       "<table border=\"1\" class=\"dataframe\">\n",
       "  <thead>\n",
       "    <tr style=\"text-align: right;\">\n",
       "      <th></th>\n",
       "      <th>user_id</th>\n",
       "      <th>time</th>\n",
       "      <th>bet</th>\n",
       "      <th>win</th>\n",
       "    </tr>\n",
       "  </thead>\n",
       "  <tbody>\n",
       "    <tr>\n",
       "      <th>812</th>\n",
       "      <td>Запись пользователя № - user_917</td>\n",
       "      <td>[2019-03-31 6:25:54</td>\n",
       "      <td>600.0</td>\n",
       "      <td>6439.0</td>\n",
       "    </tr>\n",
       "    <tr>\n",
       "      <th>329</th>\n",
       "      <td>Запись пользователя № - user_934</td>\n",
       "      <td>[2019-02-06 0:18:15</td>\n",
       "      <td>NaN</td>\n",
       "      <td>NaN</td>\n",
       "    </tr>\n",
       "  </tbody>\n",
       "</table>\n",
       "</div>"
      ],
      "text/plain": [
       "                              user_id                 time    bet     win\n",
       "812  Запись пользователя № - user_917  [2019-03-31 6:25:54  600.0  6439.0\n",
       "329  Запись пользователя № - user_934  [2019-02-06 0:18:15    NaN     NaN"
      ]
     },
     "execution_count": 17,
     "metadata": {},
     "output_type": "execute_result"
    }
   ],
   "source": [
    "#удалить дубликаты из столбцов user_id, time\n",
    "log = pd.read_csv('log.csv', header = None)\n",
    "log.columns = ['user_id','time','bet','win']\n",
    "res = log.drop_duplicates(subset = ['user_id', 'time'])\n",
    "res.sample(2)"
   ]
  },
  {
   "cell_type": "code",
   "execution_count": 18,
   "metadata": {},
   "outputs": [
    {
     "data": {
      "text/html": [
       "<div>\n",
       "<style scoped>\n",
       "    .dataframe tbody tr th:only-of-type {\n",
       "        vertical-align: middle;\n",
       "    }\n",
       "\n",
       "    .dataframe tbody tr th {\n",
       "        vertical-align: top;\n",
       "    }\n",
       "\n",
       "    .dataframe thead th {\n",
       "        text-align: right;\n",
       "    }\n",
       "</style>\n",
       "<table border=\"1\" class=\"dataframe\">\n",
       "  <thead>\n",
       "    <tr style=\"text-align: right;\">\n",
       "      <th></th>\n",
       "      <th>user_id</th>\n",
       "      <th>time</th>\n",
       "      <th>bet</th>\n",
       "      <th>win</th>\n",
       "    </tr>\n",
       "  </thead>\n",
       "  <tbody>\n",
       "    <tr>\n",
       "      <th>679</th>\n",
       "      <td>Запись пользователя № - user_954</td>\n",
       "      <td>2019-03-16 13:21:35</td>\n",
       "      <td>400.0</td>\n",
       "      <td>NaN</td>\n",
       "    </tr>\n",
       "    <tr>\n",
       "      <th>172</th>\n",
       "      <td>Запись пользователя № - user_941</td>\n",
       "      <td>2019-01-19 19:57:19</td>\n",
       "      <td>NaN</td>\n",
       "      <td>NaN</td>\n",
       "    </tr>\n",
       "  </tbody>\n",
       "</table>\n",
       "</div>"
      ],
      "text/plain": [
       "                              user_id                 time    bet  win\n",
       "679  Запись пользователя № - user_954  2019-03-16 13:21:35  400.0  NaN\n",
       "172  Запись пользователя № - user_941  2019-01-19 19:57:19    NaN  NaN"
      ]
     },
     "execution_count": 18,
     "metadata": {},
     "output_type": "execute_result"
    }
   ],
   "source": [
    "#убрать символ \"[\" перед датой, преобразовать в дату\n",
    "log = pd.read_csv('log.csv', header = None)\n",
    "log.columns = ['user_id','time','bet','win']\n",
    "log.time = log.time.str.strip('[')\n",
    "res = log.drop_duplicates(subset = ['user_id', 'time'])\n",
    "res.sample(2)"
   ]
  },
  {
   "cell_type": "code",
   "execution_count": 19,
   "metadata": {},
   "outputs": [
    {
     "data": {
      "text/plain": [
       "13     57\n",
       "28     59\n",
       "150    54\n",
       "188    34\n",
       "204    26\n",
       "Name: time, dtype: int64"
      ]
     },
     "execution_count": 19,
     "metadata": {},
     "output_type": "execute_result"
    }
   ],
   "source": [
    "#убираем дубликаты, переименовываем, убираем первый символ в time и переводим в формат даты и времени, берем только минуты\n",
    "log = pd.read_csv(\"log.csv\")  \n",
    "log = log.dropna()  \n",
    "log.columns = ['user_id', 'time', 'bet', 'win']  \n",
    "log['time'] = log['time'].apply(lambda x: x[1:])  \n",
    "log['time'] = pd.to_datetime(log['time'])\n",
    "log['time'] = log.time.apply(lambda x: x.minute)\n",
    "log['time'].head() "
   ]
  },
  {
   "cell_type": "code",
   "execution_count": 20,
   "metadata": {},
   "outputs": [
    {
     "data": {
      "text/plain": [
       "13     2019\n",
       "28     2019\n",
       "150    2019\n",
       "188    2019\n",
       "204    2019\n",
       "       ... \n",
       "966    2019\n",
       "970    2019\n",
       "971    2019\n",
       "975    2019\n",
       "990    2019\n",
       "Name: time, Length: 133, dtype: int64"
      ]
     },
     "execution_count": 20,
     "metadata": {},
     "output_type": "execute_result"
    }
   ],
   "source": [
    "#дополнительно к прошлому создаем новую серию с годом\n",
    "log = pd.read_csv(\"log.csv\")  \n",
    "log = log.dropna()  \n",
    "log.columns = ['user_id', 'time', 'bet', 'win']  \n",
    "log['time'] = log['time'].apply(lambda x: x[1:])  \n",
    "log['time'] = pd.to_datetime(log['time'])\n",
    "year_column = log['time'].dt.year\n",
    "year_column"
   ]
  },
  {
   "cell_type": "code",
   "execution_count": 21,
   "metadata": {},
   "outputs": [
    {
     "data": {
      "text/plain": [
       "2    1\n",
       "3    1\n",
       "4    2\n",
       "1    3\n",
       "dtype: int64"
      ]
     },
     "execution_count": 21,
     "metadata": {},
     "output_type": "execute_result"
    }
   ],
   "source": [
    "test = pd.Series([1, 1, 1, 2, 3, 4, 4])  \n",
    "test.value_counts(ascending = True) "
   ]
  },
  {
   "cell_type": "code",
   "execution_count": 22,
   "metadata": {},
   "outputs": [
    {
     "data": {
      "text/html": [
       "<div>\n",
       "<style scoped>\n",
       "    .dataframe tbody tr th:only-of-type {\n",
       "        vertical-align: middle;\n",
       "    }\n",
       "\n",
       "    .dataframe tbody tr th {\n",
       "        vertical-align: top;\n",
       "    }\n",
       "\n",
       "    .dataframe thead th {\n",
       "        text-align: right;\n",
       "    }\n",
       "</style>\n",
       "<table border=\"1\" class=\"dataframe\">\n",
       "  <thead>\n",
       "    <tr style=\"text-align: right;\">\n",
       "      <th></th>\n",
       "      <th>user_id</th>\n",
       "      <th>time</th>\n",
       "      <th>bet</th>\n",
       "      <th>win</th>\n",
       "      <th>minute</th>\n",
       "      <th>month</th>\n",
       "      <th>day_of_week</th>\n",
       "    </tr>\n",
       "  </thead>\n",
       "  <tbody>\n",
       "    <tr>\n",
       "      <th>234</th>\n",
       "      <td>Запись пользователя № - user_916</td>\n",
       "      <td>2019-01-26 01:14:55</td>\n",
       "      <td>NaN</td>\n",
       "      <td>NaN</td>\n",
       "      <td>14.0</td>\n",
       "      <td>1.0</td>\n",
       "      <td>5.0</td>\n",
       "    </tr>\n",
       "    <tr>\n",
       "      <th>636</th>\n",
       "      <td>Запись пользователя № - user_934</td>\n",
       "      <td>2019-03-10 16:10:41</td>\n",
       "      <td>NaN</td>\n",
       "      <td>NaN</td>\n",
       "      <td>10.0</td>\n",
       "      <td>3.0</td>\n",
       "      <td>6.0</td>\n",
       "    </tr>\n",
       "  </tbody>\n",
       "</table>\n",
       "</div>"
      ],
      "text/plain": [
       "                              user_id                time  bet  win  minute  \\\n",
       "234  Запись пользователя № - user_916 2019-01-26 01:14:55  NaN  NaN    14.0   \n",
       "636  Запись пользователя № - user_934 2019-03-10 16:10:41  NaN  NaN    10.0   \n",
       "\n",
       "     month  day_of_week  \n",
       "234    1.0          5.0  \n",
       "636    3.0          6.0  "
      ]
     },
     "execution_count": 22,
     "metadata": {},
     "output_type": "execute_result"
    }
   ],
   "source": [
    "log = pd.read_csv('log.csv', header = None)\n",
    "log.columns = ['user_id', 'time', 'bet', 'win']\n",
    "\n",
    "log.time=log.time.str.strip('[')\n",
    "log['time'] = pd.to_datetime(log['time'])\n",
    "log['minute'] = log['time'].dt.minute\n",
    "log['month'] = log['time'].apply(lambda x: x.month)\n",
    "log['day_of_week'] = log['time'].dt.dayofweek\n",
    "log.sample(2)"
   ]
  },
  {
   "cell_type": "code",
   "execution_count": 23,
   "metadata": {},
   "outputs": [
    {
     "data": {
      "text/plain": [
       "user_id\n",
       "Запись пользователя № - user_956        500.0\n",
       "Запись пользователя № - user_901        600.0\n",
       "Запись пользователя № - user_904        600.0\n",
       "Запись пользователя № - user_932        700.0\n",
       "Запись пользователя № - user_936        800.0\n",
       "                                      ...    \n",
       "Запись пользователя № - user_905      53395.0\n",
       "#error                                78378.0\n",
       "Запись пользователя № - user_910     232121.0\n",
       "Запись пользователя № - user_917     304221.0\n",
       "Запись пользователя № - user_942    1791528.0\n",
       "Name: bet, Length: 102, dtype: float64"
      ]
     },
     "execution_count": 23,
     "metadata": {},
     "output_type": "execute_result"
    }
   ],
   "source": [
    "log.groupby('user_id').agg({'bet':'sum'}).bet.sort_values()"
   ]
  },
  {
   "cell_type": "code",
   "execution_count": 24,
   "metadata": {},
   "outputs": [
    {
     "data": {
      "text/plain": [
       "36.0    25\n",
       "31.0    23\n",
       "6.0     22\n",
       "50.0    22\n",
       "14.0    21\n",
       "Name: minute, dtype: int64"
      ]
     },
     "execution_count": 24,
     "metadata": {},
     "output_type": "execute_result"
    }
   ],
   "source": [
    "#минута, которая встречаталсь чаще всего\n",
    "log['minute'].value_counts(ascending = False).head()"
   ]
  },
  {
   "cell_type": "code",
   "execution_count": 25,
   "metadata": {},
   "outputs": [
    {
     "data": {
      "text/plain": [
       "4.0    170\n",
       "2.0    259\n",
       "3.0    264\n",
       "1.0    292\n",
       "Name: month, dtype: int64"
      ]
     },
     "execution_count": 25,
     "metadata": {},
     "output_type": "execute_result"
    }
   ],
   "source": [
    "#месяц, который встречался реже всего\n",
    "log['month'].value_counts(ascending = True)"
   ]
  },
  {
   "cell_type": "code",
   "execution_count": 26,
   "metadata": {},
   "outputs": [
    {
     "data": {
      "text/plain": [
       "283"
      ]
     },
     "execution_count": 26,
     "metadata": {},
     "output_type": "execute_result"
    }
   ],
   "source": [
    "#количество выходных дней\n",
    "log.day_of_week.value_counts()[5] + log.day_of_week.value_counts()[6]"
   ]
  },
  {
   "cell_type": "code",
   "execution_count": 27,
   "metadata": {},
   "outputs": [
    {
     "data": {
      "text/plain": [
       "283"
      ]
     },
     "execution_count": 27,
     "metadata": {},
     "output_type": "execute_result"
    }
   ],
   "source": [
    "#количество выходных дней\n",
    "holidays = log['day_of_week'].apply(lambda x: x > 4)\n",
    "sum(holidays)"
   ]
  },
  {
   "cell_type": "code",
   "execution_count": 28,
   "metadata": {},
   "outputs": [
    {
     "data": {
      "text/plain": [
       "283"
      ]
     },
     "execution_count": 28,
     "metadata": {},
     "output_type": "execute_result"
    }
   ],
   "source": [
    "#количество выходных дней\n",
    "sum(log['day_of_week'] > 4)"
   ]
  },
  {
   "cell_type": "code",
   "execution_count": 29,
   "metadata": {},
   "outputs": [
    {
     "data": {
      "text/plain": [
       "вечер    227\n",
       "день     240\n",
       "утро     253\n",
       "ночь     265\n",
       "Name: hour, dtype: int64"
      ]
     },
     "execution_count": 29,
     "metadata": {},
     "output_type": "execute_result"
    }
   ],
   "source": [
    "#с 0 до 5 часов — ночь, с 6 до 11 — утро, с 12 до 17 — день, с 18 до 23 — вечер.\n",
    "log = pd.read_csv('log.csv', header = None)\n",
    "log.columns = ['user_id', 'time', 'bet', 'win']\n",
    "\n",
    "log.time=log.time.str.strip('[')\n",
    "log['time'] = pd.to_datetime(log['time'])\n",
    "log = log.dropna(axis = 0, subset=['time'])\n",
    "log['hour'] = log.time.dt.hour\n",
    "\n",
    "def daytime (hour):\n",
    "    if hour >= 0 and hour <= 5:\n",
    "        return 'ночь'\n",
    "    elif hour >= 6 and hour <= 11:\n",
    "        return 'утро'\n",
    "    elif hour >=12 and hour <= 17:\n",
    "        return 'день'\n",
    "    elif hour >= 18 and hour <= 23:\n",
    "        return 'вечер'\n",
    "\n",
    "log.hour = log.hour.apply(daytime)\n",
    "log.hour.value_counts(ascending = True)"
   ]
  },
  {
   "cell_type": "code",
   "execution_count": 30,
   "metadata": {},
   "outputs": [
    {
     "data": {
      "text/html": [
       "<div>\n",
       "<style scoped>\n",
       "    .dataframe tbody tr th:only-of-type {\n",
       "        vertical-align: middle;\n",
       "    }\n",
       "\n",
       "    .dataframe tbody tr th {\n",
       "        vertical-align: top;\n",
       "    }\n",
       "\n",
       "    .dataframe thead th {\n",
       "        text-align: right;\n",
       "    }\n",
       "</style>\n",
       "<table border=\"1\" class=\"dataframe\">\n",
       "  <thead>\n",
       "    <tr style=\"text-align: right;\">\n",
       "      <th></th>\n",
       "      <th>user_id</th>\n",
       "      <th>time</th>\n",
       "      <th>bet</th>\n",
       "      <th>win</th>\n",
       "      <th>hour</th>\n",
       "    </tr>\n",
       "  </thead>\n",
       "  <tbody>\n",
       "    <tr>\n",
       "      <th>955</th>\n",
       "      <td>Запись пользователя № - user_967</td>\n",
       "      <td>2019-04-18 19:43:51</td>\n",
       "      <td>200.0</td>\n",
       "      <td>5213.0</td>\n",
       "      <td>19</td>\n",
       "    </tr>\n",
       "    <tr>\n",
       "      <th>966</th>\n",
       "      <td>Запись пользователя № - user_940</td>\n",
       "      <td>2019-04-19 20:34:13</td>\n",
       "      <td>10754.0</td>\n",
       "      <td>32279.0</td>\n",
       "      <td>20</td>\n",
       "    </tr>\n",
       "  </tbody>\n",
       "</table>\n",
       "</div>"
      ],
      "text/plain": [
       "                              user_id                time      bet      win  \\\n",
       "955  Запись пользователя № - user_967 2019-04-18 19:43:51    200.0   5213.0   \n",
       "966  Запись пользователя № - user_940 2019-04-19 20:34:13  10754.0  32279.0   \n",
       "\n",
       "     hour  \n",
       "955    19  \n",
       "966    20  "
      ]
     },
     "execution_count": 30,
     "metadata": {},
     "output_type": "execute_result"
    }
   ],
   "source": [
    "log = pd.read_csv('log.csv', header = None)\n",
    "log.columns = ['user_id', 'time', 'bet', 'win']\n",
    "log = log.dropna()\n",
    "log.time=log.time.str.strip('[')\n",
    "log['time'] = pd.to_datetime(log['time'])\n",
    "log['hour'] = log.time.dt.hour\n",
    "log.sample(2)"
   ]
  },
  {
   "cell_type": "code",
   "execution_count": 31,
   "metadata": {},
   "outputs": [
    {
     "data": {
      "text/plain": [
       "0.0          515\n",
       "500.0         50\n",
       "100.0         48\n",
       "300.0         42\n",
       "800.0         42\n",
       "200.0         40\n",
       "400.0         40\n",
       "700.0         38\n",
       "600.0         37\n",
       "1000.0        37\n",
       "900.0         30\n",
       "9754.0        10\n",
       "10554.0       10\n",
       "10154.0        7\n",
       "10254.0        7\n",
       "10454.0        6\n",
       "9954.0         6\n",
       "10754.0        5\n",
       "10654.0        5\n",
       "10354.0        4\n",
       "10054.0        4\n",
       "9854.0         2\n",
       "5000.0         1\n",
       "27000.0        1\n",
       "9876.0         1\n",
       "156789.0       1\n",
       "12945.0        1\n",
       "12548.0        1\n",
       "145732.0       1\n",
       "1678321.0      1\n",
       "98753.0        1\n",
       "123981.0       1\n",
       "104540.0       1\n",
       "8700.0         1\n",
       "950.0          1\n",
       "8734.0         1\n",
       "7650.0         1\n",
       "Name: bet, dtype: int64"
      ]
     },
     "execution_count": 31,
     "metadata": {},
     "output_type": "execute_result"
    }
   ],
   "source": [
    "#пропуски в столбце bet не удаляются, а равны 0\n",
    "log = pd.read_csv('log.csv', header = None)\n",
    "log.columns = ['user_id', 'time', 'bet', 'win']\n",
    "log['bet'].fillna(0).value_counts()"
   ]
  },
  {
   "cell_type": "code",
   "execution_count": 32,
   "metadata": {},
   "outputs": [
    {
     "data": {
      "text/plain": [
       "347"
      ]
     },
     "execution_count": 32,
     "metadata": {},
     "output_type": "execute_result"
    }
   ],
   "source": [
    "#Посчитайте, сколько раз участники ставок проиграли деньги. \n",
    "#То есть посчитайте количество строк, для которых в столбце win находится отрицательное значение.\n",
    "log = pd.read_csv('log.csv', header = None)\n",
    "log.columns = ['user_id', 'time', 'bet', 'win']\n",
    "\n",
    "log.bet = log['bet'].fillna(0)\n",
    "log.win = log['win'].fillna(0)\n",
    "\n",
    "def fillna_win(row):  \n",
    "    if row.win != 0:\n",
    "        return row.win\n",
    "    if row.win == 0:\n",
    "        if row.bet == 0:\n",
    "            return row.win\n",
    "        if row.bet != 0:\n",
    "            return -row.bet\n",
    "\n",
    "new_win = log.apply(lambda row: fillna_win(row), axis=1)  \n",
    "  \n",
    "# Заменяем старый столбец с пропусками на новый без пропусков  \n",
    "log['win'] = new_win\n",
    "sum(log.win < 0)"
   ]
  },
  {
   "cell_type": "code",
   "execution_count": 33,
   "metadata": {},
   "outputs": [
    {
     "data": {
      "text/plain": [
       "138"
      ]
     },
     "execution_count": 33,
     "metadata": {},
     "output_type": "execute_result"
    }
   ],
   "source": [
    "#Создайте признак net, хранящий сумму выигрыша с учетом ставки. \n",
    "#Для этого из признака win поэлементно вычтите признак bet и запишите в новый столбец. \n",
    "#После этого посчитайте, у скольких людей выигрыш положительный.\n",
    "\n",
    "log = pd.read_csv('log.csv', header = None)\n",
    "log.columns = ['user_id', 'time', 'bet', 'win']\n",
    "\n",
    "log.bet = log['bet'].fillna(0)\n",
    "log.win = log['win'].fillna(0)\n",
    "\n",
    "log['net'] = log['win'] - log['bet']\n",
    "\n",
    "sum(log.net > 0)"
   ]
  },
  {
   "cell_type": "code",
   "execution_count": 34,
   "metadata": {},
   "outputs": [
    {
     "data": {
      "text/plain": [
       "80253.0"
      ]
     },
     "execution_count": 34,
     "metadata": {},
     "output_type": "execute_result"
    }
   ],
   "source": [
    "#среднее значение по столбцу net при net>0\n",
    "round(log[log['net'] > 0].net.mean(),0)"
   ]
  },
  {
   "cell_type": "code",
   "execution_count": 35,
   "metadata": {},
   "outputs": [
    {
     "data": {
      "text/plain": [
       "5347.0"
      ]
     },
     "execution_count": 35,
     "metadata": {},
     "output_type": "execute_result"
    }
   ],
   "source": [
    "#медианное значение по столбцу net при net>0\n",
    "round(log[log['net'] > 0].net.median(),0)"
   ]
  },
  {
   "cell_type": "code",
   "execution_count": 36,
   "metadata": {},
   "outputs": [
    {
     "data": {
      "text/plain": [
       "48.5"
      ]
     },
     "execution_count": 36,
     "metadata": {},
     "output_type": "execute_result"
    }
   ],
   "source": [
    "#процент людей, совершивших ставку\n",
    "sum(log['bet'] > 0) / len(log['bet']) * 100"
   ]
  },
  {
   "cell_type": "code",
   "execution_count": 37,
   "metadata": {},
   "outputs": [
    {
     "data": {
      "text/plain": [
       "6785.738144329897"
      ]
     },
     "execution_count": 37,
     "metadata": {},
     "output_type": "execute_result"
    }
   ],
   "source": [
    "#среднее значение положительной ставки\n",
    "log[log['bet'] > 0].bet.mean()"
   ]
  },
  {
   "cell_type": "code",
   "execution_count": 38,
   "metadata": {},
   "outputs": [
    {
     "data": {
      "text/plain": [
       "20421.892783505155"
      ]
     },
     "execution_count": 38,
     "metadata": {},
     "output_type": "execute_result"
    }
   ],
   "source": [
    "#среднее значение по столбцу net, если ставка была сделана\n",
    "log[log['bet'] > 0].net.mean()"
   ]
  },
  {
   "cell_type": "code",
   "execution_count": 39,
   "metadata": {},
   "outputs": [
    {
     "data": {
      "text/plain": [
       "-3372.743515850144"
      ]
     },
     "execution_count": 39,
     "metadata": {},
     "output_type": "execute_result"
    }
   ],
   "source": [
    "#средний размер проигрыша\n",
    "log[log['net'] < 0].net.mean()"
   ]
  },
  {
   "cell_type": "code",
   "execution_count": 40,
   "metadata": {},
   "outputs": [
    {
     "name": "stdout",
     "output_type": "stream",
     "text": [
      "% выигрыша составляет:  28.0\n",
      "% проигрыша составляет:  72.0\n"
     ]
    }
   ],
   "source": [
    "#сравнение % выигрыша и проигрыша\n",
    "winner = round(len(log[log['net'] > 0].net) / len(log[log['bet'] > 0].net) * 100, 0)\n",
    "loser = round(len(log[log['net'] < 0].net) / len(log[log['bet'] > 0].net) * 100, 0)\n",
    "print('% выигрыша составляет: ', winner)\n",
    "print('% проигрыша составляет: ', loser)"
   ]
  },
  {
   "cell_type": "code",
   "execution_count": 41,
   "metadata": {},
   "outputs": [
    {
     "name": "stdout",
     "output_type": "stream",
     "text": [
      "48\n"
     ]
    }
   ],
   "source": [
    "#сколько раз была сделана минимальная ставка\n",
    "log = pd.read_csv('log.csv', header = None)\n",
    "log.columns = ['user_id', 'time', 'bet', 'win']\n",
    "\n",
    "log.bet = log['bet'].fillna(0)\n",
    "log.win = log['win'].fillna(0)\n",
    "log['net'] = log.win - log.bet\n",
    "\n",
    "min_bet = log[log['bet'] > 0].bet.min()\n",
    "min_bet_amount = log[log['bet'] == min_bet].bet.count()\n",
    "print(min_bet_amount)"
   ]
  },
  {
   "cell_type": "code",
   "execution_count": 42,
   "metadata": {},
   "outputs": [
    {
     "data": {
      "text/html": [
       "<div>\n",
       "<style scoped>\n",
       "    .dataframe tbody tr th:only-of-type {\n",
       "        vertical-align: middle;\n",
       "    }\n",
       "\n",
       "    .dataframe tbody tr th {\n",
       "        vertical-align: top;\n",
       "    }\n",
       "\n",
       "    .dataframe thead th {\n",
       "        text-align: right;\n",
       "    }\n",
       "</style>\n",
       "<table border=\"1\" class=\"dataframe\">\n",
       "  <thead>\n",
       "    <tr style=\"text-align: right;\">\n",
       "      <th></th>\n",
       "      <th>user_id</th>\n",
       "      <th>email</th>\n",
       "      <th>geo</th>\n",
       "    </tr>\n",
       "  </thead>\n",
       "  <tbody>\n",
       "    <tr>\n",
       "      <th>0</th>\n",
       "      <td>user_943</td>\n",
       "      <td>Accumanst@gmail.com</td>\n",
       "      <td>Ижевск</td>\n",
       "    </tr>\n",
       "    <tr>\n",
       "      <th>1</th>\n",
       "      <td>user_908</td>\n",
       "      <td>Advismowr@mail.ru</td>\n",
       "      <td>Ижевск</td>\n",
       "    </tr>\n",
       "  </tbody>\n",
       "</table>\n",
       "</div>"
      ],
      "text/plain": [
       "    user_id                email     geo\n",
       "0  user_943  Accumanst@gmail.com  Ижевск\n",
       "1  user_908    Advismowr@mail.ru  Ижевск"
      ]
     },
     "execution_count": 42,
     "metadata": {},
     "output_type": "execute_result"
    }
   ],
   "source": [
    "#подготовка users к объединению\n",
    "users=pd.read_csv('users.csv', encoding='koi8-r', sep='\\t')\n",
    "users.columns=['user_id', 'email', 'geo']\n",
    "users.user_id = users.user_id.apply(lambda x: x.lower())\n",
    "users.head(2)"
   ]
  },
  {
   "cell_type": "code",
   "execution_count": 43,
   "metadata": {},
   "outputs": [],
   "source": [
    "#подготовка log к объединению\n",
    "log.user_id = log.user_id.apply(lambda x: x.replace('Запись пользователя № - ',''))\n",
    "log.time=log.time.str.strip('[')\n",
    "log['time'] = pd.to_datetime(log['time'])\n",
    "log = log[log.user_id != '#error']  "
   ]
  },
  {
   "cell_type": "code",
   "execution_count": 44,
   "metadata": {},
   "outputs": [],
   "source": [
    "log_us = pd.merge(log, users, how='inner', on='user_id')"
   ]
  },
  {
   "cell_type": "code",
   "execution_count": 45,
   "metadata": {},
   "outputs": [
    {
     "data": {
      "text/plain": [
       "0.0"
      ]
     },
     "execution_count": 45,
     "metadata": {},
     "output_type": "execute_result"
    }
   ],
   "source": [
    "#группировка по user_id, медианное значение медианного выигрыша\n",
    "log_us.groupby('user_id').win.median().median()"
   ]
  },
  {
   "cell_type": "code",
   "execution_count": 46,
   "metadata": {},
   "outputs": [
    {
     "data": {
      "text/plain": [
       "1986.0"
      ]
     },
     "execution_count": 46,
     "metadata": {},
     "output_type": "execute_result"
    }
   ],
   "source": [
    "log_us.groupby('user_id').net.sum().median()"
   ]
  },
  {
   "cell_type": "code",
   "execution_count": 47,
   "metadata": {},
   "outputs": [
    {
     "data": {
      "text/plain": [
       "5.05"
      ]
     },
     "execution_count": 47,
     "metadata": {},
     "output_type": "execute_result"
    }
   ],
   "source": [
    "#среднее количество нулевых ставок на пользователя\n",
    "wo_bet_count = log_us.query('bet == 0').groupby('user_id').count()\n",
    "wo_bet_count.bet.mean()"
   ]
  },
  {
   "cell_type": "code",
   "execution_count": 48,
   "metadata": {},
   "outputs": [
    {
     "data": {
      "text/html": [
       "<div>\n",
       "<style scoped>\n",
       "    .dataframe tbody tr th:only-of-type {\n",
       "        vertical-align: middle;\n",
       "    }\n",
       "\n",
       "    .dataframe tbody tr th {\n",
       "        vertical-align: top;\n",
       "    }\n",
       "\n",
       "    .dataframe thead th {\n",
       "        text-align: right;\n",
       "    }\n",
       "</style>\n",
       "<table border=\"1\" class=\"dataframe\">\n",
       "  <thead>\n",
       "    <tr style=\"text-align: right;\">\n",
       "      <th></th>\n",
       "      <th>user_id</th>\n",
       "      <th>time</th>\n",
       "      <th>bet</th>\n",
       "      <th>win</th>\n",
       "      <th>net</th>\n",
       "      <th>email</th>\n",
       "      <th>geo</th>\n",
       "    </tr>\n",
       "  </thead>\n",
       "  <tbody>\n",
       "    <tr>\n",
       "      <th>651</th>\n",
       "      <td>user_996</td>\n",
       "      <td>2019-01-10 07:32:17</td>\n",
       "      <td>100.0</td>\n",
       "      <td>0.0</td>\n",
       "      <td>-100.0</td>\n",
       "      <td>Trantawe@yandex.ru</td>\n",
       "      <td>Краснодар</td>\n",
       "    </tr>\n",
       "    <tr>\n",
       "      <th>652</th>\n",
       "      <td>user_996</td>\n",
       "      <td>2019-03-03 11:43:38</td>\n",
       "      <td>0.0</td>\n",
       "      <td>0.0</td>\n",
       "      <td>0.0</td>\n",
       "      <td>Trantawe@yandex.ru</td>\n",
       "      <td>Краснодар</td>\n",
       "    </tr>\n",
       "    <tr>\n",
       "      <th>653</th>\n",
       "      <td>user_996</td>\n",
       "      <td>2019-03-09 12:51:58</td>\n",
       "      <td>0.0</td>\n",
       "      <td>0.0</td>\n",
       "      <td>0.0</td>\n",
       "      <td>Trantawe@yandex.ru</td>\n",
       "      <td>Краснодар</td>\n",
       "    </tr>\n",
       "    <tr>\n",
       "      <th>654</th>\n",
       "      <td>user_996</td>\n",
       "      <td>2019-03-10 10:57:52</td>\n",
       "      <td>100.0</td>\n",
       "      <td>4056.0</td>\n",
       "      <td>3956.0</td>\n",
       "      <td>Trantawe@yandex.ru</td>\n",
       "      <td>Краснодар</td>\n",
       "    </tr>\n",
       "    <tr>\n",
       "      <th>655</th>\n",
       "      <td>user_996</td>\n",
       "      <td>2019-04-10 04:42:20</td>\n",
       "      <td>800.0</td>\n",
       "      <td>0.0</td>\n",
       "      <td>-800.0</td>\n",
       "      <td>Trantawe@yandex.ru</td>\n",
       "      <td>Краснодар</td>\n",
       "    </tr>\n",
       "  </tbody>\n",
       "</table>\n",
       "</div>"
      ],
      "text/plain": [
       "      user_id                time    bet     win     net               email  \\\n",
       "651  user_996 2019-01-10 07:32:17  100.0     0.0  -100.0  Trantawe@yandex.ru   \n",
       "652  user_996 2019-03-03 11:43:38    0.0     0.0     0.0  Trantawe@yandex.ru   \n",
       "653  user_996 2019-03-09 12:51:58    0.0     0.0     0.0  Trantawe@yandex.ru   \n",
       "654  user_996 2019-03-10 10:57:52  100.0  4056.0  3956.0  Trantawe@yandex.ru   \n",
       "655  user_996 2019-04-10 04:42:20  800.0     0.0  -800.0  Trantawe@yandex.ru   \n",
       "\n",
       "           geo  \n",
       "651  Краснодар  \n",
       "652  Краснодар  \n",
       "653  Краснодар  \n",
       "654  Краснодар  \n",
       "655  Краснодар  "
      ]
     },
     "execution_count": 48,
     "metadata": {},
     "output_type": "execute_result"
    }
   ],
   "source": [
    "log_us[log_us.user_id == 'user_996']"
   ]
  },
  {
   "cell_type": "code",
   "execution_count": 49,
   "metadata": {},
   "outputs": [
    {
     "data": {
      "text/html": [
       "<div>\n",
       "<style scoped>\n",
       "    .dataframe tbody tr th:only-of-type {\n",
       "        vertical-align: middle;\n",
       "    }\n",
       "\n",
       "    .dataframe tbody tr th {\n",
       "        vertical-align: top;\n",
       "    }\n",
       "\n",
       "    .dataframe thead th {\n",
       "        text-align: right;\n",
       "    }\n",
       "</style>\n",
       "<table border=\"1\" class=\"dataframe\">\n",
       "  <thead>\n",
       "    <tr style=\"text-align: right;\">\n",
       "      <th></th>\n",
       "      <th>user_id</th>\n",
       "      <th>time</th>\n",
       "      <th>bet</th>\n",
       "      <th>win</th>\n",
       "      <th>net</th>\n",
       "      <th>email</th>\n",
       "      <th>geo</th>\n",
       "    </tr>\n",
       "  </thead>\n",
       "  <tbody>\n",
       "    <tr>\n",
       "      <th>0</th>\n",
       "      <td>user_919</td>\n",
       "      <td>2019-01-01 14:06:51</td>\n",
       "      <td>0.0</td>\n",
       "      <td>0.0</td>\n",
       "      <td>0.0</td>\n",
       "      <td>Chikkaverle@icloud.com</td>\n",
       "      <td>Хабаровск</td>\n",
       "    </tr>\n",
       "    <tr>\n",
       "      <th>1</th>\n",
       "      <td>user_919</td>\n",
       "      <td>2019-01-30 10:06:00</td>\n",
       "      <td>0.0</td>\n",
       "      <td>0.0</td>\n",
       "      <td>0.0</td>\n",
       "      <td>Chikkaverle@icloud.com</td>\n",
       "      <td>Хабаровск</td>\n",
       "    </tr>\n",
       "    <tr>\n",
       "      <th>2</th>\n",
       "      <td>user_919</td>\n",
       "      <td>2019-02-05 14:33:44</td>\n",
       "      <td>0.0</td>\n",
       "      <td>0.0</td>\n",
       "      <td>0.0</td>\n",
       "      <td>Chikkaverle@icloud.com</td>\n",
       "      <td>Хабаровск</td>\n",
       "    </tr>\n",
       "    <tr>\n",
       "      <th>3</th>\n",
       "      <td>user_919</td>\n",
       "      <td>2019-02-14 11:38:05</td>\n",
       "      <td>0.0</td>\n",
       "      <td>0.0</td>\n",
       "      <td>0.0</td>\n",
       "      <td>Chikkaverle@icloud.com</td>\n",
       "      <td>Хабаровск</td>\n",
       "    </tr>\n",
       "    <tr>\n",
       "      <th>4</th>\n",
       "      <td>user_919</td>\n",
       "      <td>2019-03-02 04:23:36</td>\n",
       "      <td>300.0</td>\n",
       "      <td>0.0</td>\n",
       "      <td>-300.0</td>\n",
       "      <td>Chikkaverle@icloud.com</td>\n",
       "      <td>Хабаровск</td>\n",
       "    </tr>\n",
       "    <tr>\n",
       "      <th>...</th>\n",
       "      <td>...</td>\n",
       "      <td>...</td>\n",
       "      <td>...</td>\n",
       "      <td>...</td>\n",
       "      <td>...</td>\n",
       "      <td>...</td>\n",
       "      <td>...</td>\n",
       "    </tr>\n",
       "    <tr>\n",
       "      <th>970</th>\n",
       "      <td>user_932</td>\n",
       "      <td>2019-02-24 22:40:06</td>\n",
       "      <td>0.0</td>\n",
       "      <td>0.0</td>\n",
       "      <td>0.0</td>\n",
       "      <td>BraceWalker@bk.ru</td>\n",
       "      <td>Красноярск</td>\n",
       "    </tr>\n",
       "    <tr>\n",
       "      <th>971</th>\n",
       "      <td>user_932</td>\n",
       "      <td>2019-03-15 10:56:14</td>\n",
       "      <td>0.0</td>\n",
       "      <td>0.0</td>\n",
       "      <td>0.0</td>\n",
       "      <td>BraceWalker@bk.ru</td>\n",
       "      <td>Красноярск</td>\n",
       "    </tr>\n",
       "    <tr>\n",
       "      <th>972</th>\n",
       "      <td>user_932</td>\n",
       "      <td>2019-03-18 10:13:24</td>\n",
       "      <td>0.0</td>\n",
       "      <td>0.0</td>\n",
       "      <td>0.0</td>\n",
       "      <td>BraceWalker@bk.ru</td>\n",
       "      <td>Красноярск</td>\n",
       "    </tr>\n",
       "    <tr>\n",
       "      <th>973</th>\n",
       "      <td>user_932</td>\n",
       "      <td>2019-03-27 12:18:24</td>\n",
       "      <td>0.0</td>\n",
       "      <td>0.0</td>\n",
       "      <td>0.0</td>\n",
       "      <td>BraceWalker@bk.ru</td>\n",
       "      <td>Красноярск</td>\n",
       "    </tr>\n",
       "    <tr>\n",
       "      <th>974</th>\n",
       "      <td>user_932</td>\n",
       "      <td>2019-04-18 14:55:26</td>\n",
       "      <td>700.0</td>\n",
       "      <td>6640.0</td>\n",
       "      <td>5940.0</td>\n",
       "      <td>BraceWalker@bk.ru</td>\n",
       "      <td>Красноярск</td>\n",
       "    </tr>\n",
       "  </tbody>\n",
       "</table>\n",
       "<p>975 rows × 7 columns</p>\n",
       "</div>"
      ],
      "text/plain": [
       "      user_id                time    bet     win     net  \\\n",
       "0    user_919 2019-01-01 14:06:51    0.0     0.0     0.0   \n",
       "1    user_919 2019-01-30 10:06:00    0.0     0.0     0.0   \n",
       "2    user_919 2019-02-05 14:33:44    0.0     0.0     0.0   \n",
       "3    user_919 2019-02-14 11:38:05    0.0     0.0     0.0   \n",
       "4    user_919 2019-03-02 04:23:36  300.0     0.0  -300.0   \n",
       "..        ...                 ...    ...     ...     ...   \n",
       "970  user_932 2019-02-24 22:40:06    0.0     0.0     0.0   \n",
       "971  user_932 2019-03-15 10:56:14    0.0     0.0     0.0   \n",
       "972  user_932 2019-03-18 10:13:24    0.0     0.0     0.0   \n",
       "973  user_932 2019-03-27 12:18:24    0.0     0.0     0.0   \n",
       "974  user_932 2019-04-18 14:55:26  700.0  6640.0  5940.0   \n",
       "\n",
       "                      email         geo  \n",
       "0    Chikkaverle@icloud.com   Хабаровск  \n",
       "1    Chikkaverle@icloud.com   Хабаровск  \n",
       "2    Chikkaverle@icloud.com   Хабаровск  \n",
       "3    Chikkaverle@icloud.com   Хабаровск  \n",
       "4    Chikkaverle@icloud.com   Хабаровск  \n",
       "..                      ...         ...  \n",
       "970       BraceWalker@bk.ru  Красноярск  \n",
       "971       BraceWalker@bk.ru  Красноярск  \n",
       "972       BraceWalker@bk.ru  Красноярск  \n",
       "973       BraceWalker@bk.ru  Красноярск  \n",
       "974       BraceWalker@bk.ru  Красноярск  \n",
       "\n",
       "[975 rows x 7 columns]"
      ]
     },
     "execution_count": 49,
     "metadata": {},
     "output_type": "execute_result"
    }
   ],
   "source": [
    "#создание списка кто делал хоть 1 ставку > 0 и вывод в датафрейме\n",
    "spisok = log_us.query('bet > 0').user_id.unique().tolist()\n",
    "log_us[log_us.user_id.isin(spisok)]"
   ]
  },
  {
   "cell_type": "markdown",
   "metadata": {},
   "source": [
    "### Задание 10.11.3**"
   ]
  },
  {
   "cell_type": "markdown",
   "metadata": {},
   "source": [
    "# Сколько в среднем времени проходит между появлением человека в сервисе и первой ставкой? Считать нужно только тех, кто делал ставку и у кого в файле зарегистрирован первый визит без ставки.\n",
    "\n",
    "Чтобы узнать это, напишите метод, считающий минимальное время среди ставок равных 0, и минимальное время среди ставок больше 0. После этого верните разницу между вторым и первым числом. Пройдитесь по всем группам. Если в группе нет ставок больше 0, пропустите эту группу. Просуммируйте разницу во времени для каждой группы (с помощью метода, описанного выше) и поделите на количество групп, которые вы не пропустили."
   ]
  },
  {
   "cell_type": "code",
   "execution_count": 50,
   "metadata": {},
   "outputs": [],
   "source": [
    "spis_f = log_us.groupby('user_id', as_index = False).agg({'time':'min'}).time.tolist()"
   ]
  },
  {
   "cell_type": "code",
   "execution_count": 51,
   "metadata": {},
   "outputs": [
    {
     "data": {
      "text/html": [
       "<div>\n",
       "<style scoped>\n",
       "    .dataframe tbody tr th:only-of-type {\n",
       "        vertical-align: middle;\n",
       "    }\n",
       "\n",
       "    .dataframe tbody tr th {\n",
       "        vertical-align: top;\n",
       "    }\n",
       "\n",
       "    .dataframe thead th {\n",
       "        text-align: right;\n",
       "    }\n",
       "</style>\n",
       "<table border=\"1\" class=\"dataframe\">\n",
       "  <thead>\n",
       "    <tr style=\"text-align: right;\">\n",
       "      <th></th>\n",
       "      <th>user_id</th>\n",
       "      <th>time</th>\n",
       "    </tr>\n",
       "  </thead>\n",
       "  <tbody>\n",
       "    <tr>\n",
       "      <th>0</th>\n",
       "      <td>user_919</td>\n",
       "      <td>2019-01-01 14:06:51</td>\n",
       "    </tr>\n",
       "    <tr>\n",
       "      <th>8</th>\n",
       "      <td>user_973</td>\n",
       "      <td>2019-01-01 14:51:16</td>\n",
       "    </tr>\n",
       "    <tr>\n",
       "      <th>23</th>\n",
       "      <td>user_903</td>\n",
       "      <td>2019-01-01 16:31:16</td>\n",
       "    </tr>\n",
       "    <tr>\n",
       "      <th>32</th>\n",
       "      <td>user_954</td>\n",
       "      <td>2019-01-01 17:17:51</td>\n",
       "    </tr>\n",
       "    <tr>\n",
       "      <th>56</th>\n",
       "      <td>user_900</td>\n",
       "      <td>2019-01-01 04:37:25</td>\n",
       "    </tr>\n",
       "    <tr>\n",
       "      <th>...</th>\n",
       "      <td>...</td>\n",
       "      <td>...</td>\n",
       "    </tr>\n",
       "    <tr>\n",
       "      <th>936</th>\n",
       "      <td>user_975</td>\n",
       "      <td>2019-01-31 04:57:32</td>\n",
       "    </tr>\n",
       "    <tr>\n",
       "      <th>942</th>\n",
       "      <td>user_953</td>\n",
       "      <td>2019-01-31 09:15:44</td>\n",
       "    </tr>\n",
       "    <tr>\n",
       "      <th>950</th>\n",
       "      <td>user_925</td>\n",
       "      <td>2019-02-05 17:33:39</td>\n",
       "    </tr>\n",
       "    <tr>\n",
       "      <th>958</th>\n",
       "      <td>user_934</td>\n",
       "      <td>2019-02-06 00:18:15</td>\n",
       "    </tr>\n",
       "    <tr>\n",
       "      <th>970</th>\n",
       "      <td>user_932</td>\n",
       "      <td>2019-02-24 22:40:06</td>\n",
       "    </tr>\n",
       "  </tbody>\n",
       "</table>\n",
       "<p>95 rows × 2 columns</p>\n",
       "</div>"
      ],
      "text/plain": [
       "      user_id                time\n",
       "0    user_919 2019-01-01 14:06:51\n",
       "8    user_973 2019-01-01 14:51:16\n",
       "23   user_903 2019-01-01 16:31:16\n",
       "32   user_954 2019-01-01 17:17:51\n",
       "56   user_900 2019-01-01 04:37:25\n",
       "..        ...                 ...\n",
       "936  user_975 2019-01-31 04:57:32\n",
       "942  user_953 2019-01-31 09:15:44\n",
       "950  user_925 2019-02-05 17:33:39\n",
       "958  user_934 2019-02-06 00:18:15\n",
       "970  user_932 2019-02-24 22:40:06\n",
       "\n",
       "[95 rows x 2 columns]"
      ]
     },
     "execution_count": 51,
     "metadata": {},
     "output_type": "execute_result"
    }
   ],
   "source": [
    "log_us2 = log_us[log_us.time.isin(spis_f)]\n",
    "log_us2 = log_us2[log_us2.bet == 0]\n",
    "log_us2 = log_us2[['user_id', 'time']]\n",
    "log_us2"
   ]
  },
  {
   "cell_type": "code",
   "execution_count": 52,
   "metadata": {},
   "outputs": [],
   "source": [
    "spis_fbet = log_us2.user_id.tolist()"
   ]
  },
  {
   "cell_type": "code",
   "execution_count": 53,
   "metadata": {},
   "outputs": [
    {
     "data": {
      "text/html": [
       "<div>\n",
       "<style scoped>\n",
       "    .dataframe tbody tr th:only-of-type {\n",
       "        vertical-align: middle;\n",
       "    }\n",
       "\n",
       "    .dataframe tbody tr th {\n",
       "        vertical-align: top;\n",
       "    }\n",
       "\n",
       "    .dataframe thead th {\n",
       "        text-align: right;\n",
       "    }\n",
       "</style>\n",
       "<table border=\"1\" class=\"dataframe\">\n",
       "  <thead>\n",
       "    <tr style=\"text-align: right;\">\n",
       "      <th></th>\n",
       "      <th>user_id</th>\n",
       "      <th>time</th>\n",
       "    </tr>\n",
       "  </thead>\n",
       "  <tbody>\n",
       "    <tr>\n",
       "      <th>0</th>\n",
       "      <td>user_1000</td>\n",
       "      <td>2019-01-28 20:57:37</td>\n",
       "    </tr>\n",
       "    <tr>\n",
       "      <th>1</th>\n",
       "      <td>user_900</td>\n",
       "      <td>2019-02-08 10:36:47</td>\n",
       "    </tr>\n",
       "    <tr>\n",
       "      <th>2</th>\n",
       "      <td>user_901</td>\n",
       "      <td>2019-03-14 13:51:20</td>\n",
       "    </tr>\n",
       "    <tr>\n",
       "      <th>3</th>\n",
       "      <td>user_902</td>\n",
       "      <td>2019-03-09 16:52:11</td>\n",
       "    </tr>\n",
       "    <tr>\n",
       "      <th>4</th>\n",
       "      <td>user_903</td>\n",
       "      <td>2019-02-08 11:06:00</td>\n",
       "    </tr>\n",
       "    <tr>\n",
       "      <th>...</th>\n",
       "      <td>...</td>\n",
       "      <td>...</td>\n",
       "    </tr>\n",
       "    <tr>\n",
       "      <th>90</th>\n",
       "      <td>user_994</td>\n",
       "      <td>2019-03-07 01:47:34</td>\n",
       "    </tr>\n",
       "    <tr>\n",
       "      <th>91</th>\n",
       "      <td>user_995</td>\n",
       "      <td>2019-02-26 15:29:25</td>\n",
       "    </tr>\n",
       "    <tr>\n",
       "      <th>92</th>\n",
       "      <td>user_997</td>\n",
       "      <td>2019-03-05 11:05:39</td>\n",
       "    </tr>\n",
       "    <tr>\n",
       "      <th>93</th>\n",
       "      <td>user_998</td>\n",
       "      <td>2019-01-25 08:57:20</td>\n",
       "    </tr>\n",
       "    <tr>\n",
       "      <th>94</th>\n",
       "      <td>user_999</td>\n",
       "      <td>2019-03-15 22:50:47</td>\n",
       "    </tr>\n",
       "  </tbody>\n",
       "</table>\n",
       "<p>95 rows × 2 columns</p>\n",
       "</div>"
      ],
      "text/plain": [
       "      user_id                time\n",
       "0   user_1000 2019-01-28 20:57:37\n",
       "1    user_900 2019-02-08 10:36:47\n",
       "2    user_901 2019-03-14 13:51:20\n",
       "3    user_902 2019-03-09 16:52:11\n",
       "4    user_903 2019-02-08 11:06:00\n",
       "..        ...                 ...\n",
       "90   user_994 2019-03-07 01:47:34\n",
       "91   user_995 2019-02-26 15:29:25\n",
       "92   user_997 2019-03-05 11:05:39\n",
       "93   user_998 2019-01-25 08:57:20\n",
       "94   user_999 2019-03-15 22:50:47\n",
       "\n",
       "[95 rows x 2 columns]"
      ]
     },
     "execution_count": 53,
     "metadata": {},
     "output_type": "execute_result"
    }
   ],
   "source": [
    "log_us3 = log_us[log_us.user_id.isin(spis_fbet)].query('bet > 0').groupby('user_id', as_index = False).agg({'time':'min'})\n",
    "log_us3"
   ]
  },
  {
   "cell_type": "code",
   "execution_count": 54,
   "metadata": {},
   "outputs": [
    {
     "data": {
      "text/plain": [
       "Timedelta('49 days 13:01:38.873684210')"
      ]
     },
     "execution_count": 54,
     "metadata": {},
     "output_type": "execute_result"
    }
   ],
   "source": [
    "itog = pd.merge(log_us2, log_us3, on='user_id')\n",
    "(itog['time_y']-itog['time_x']).mean()"
   ]
  },
  {
   "cell_type": "code",
   "execution_count": null,
   "metadata": {},
   "outputs": [],
   "source": []
  }
 ],
 "metadata": {
  "kernelspec": {
   "display_name": "Python 3",
   "language": "python",
   "name": "python3"
  },
  "language_info": {
   "codemirror_mode": {
    "name": "ipython",
    "version": 3
   },
   "file_extension": ".py",
   "mimetype": "text/x-python",
   "name": "python",
   "nbconvert_exporter": "python",
   "pygments_lexer": "ipython3",
   "version": "3.8.5"
  }
 },
 "nbformat": 4,
 "nbformat_minor": 4
}
