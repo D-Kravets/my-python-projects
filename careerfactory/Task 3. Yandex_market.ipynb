{
 "cells": [
  {
   "cell_type": "code",
   "execution_count": 1,
   "metadata": {},
   "outputs": [],
   "source": [
    "# импортируем необходимые библиотеки\n",
    "import pandas as pd\n",
    "from scipy import stats"
   ]
  },
  {
   "cell_type": "code",
   "execution_count": 2,
   "metadata": {},
   "outputs": [
    {
     "data": {
      "text/html": [
       "<div>\n",
       "<style scoped>\n",
       "    .dataframe tbody tr th:only-of-type {\n",
       "        vertical-align: middle;\n",
       "    }\n",
       "\n",
       "    .dataframe tbody tr th {\n",
       "        vertical-align: top;\n",
       "    }\n",
       "\n",
       "    .dataframe thead th {\n",
       "        text-align: right;\n",
       "    }\n",
       "</style>\n",
       "<table border=\"1\" class=\"dataframe\">\n",
       "  <thead>\n",
       "    <tr style=\"text-align: right;\">\n",
       "      <th></th>\n",
       "      <th>user_id</th>\n",
       "      <th>session_id</th>\n",
       "      <th>click_id</th>\n",
       "      <th>experimentVariant</th>\n",
       "    </tr>\n",
       "  </thead>\n",
       "  <tbody>\n",
       "    <tr>\n",
       "      <th>0</th>\n",
       "      <td>4299b8c9c50c3e4e8a067f448426463e</td>\n",
       "      <td>08f9c3b0e2ff8da7bad6cc200fa735a2</td>\n",
       "      <td>56bcee80ce68ddc58c178a63288965b2</td>\n",
       "      <td>1</td>\n",
       "    </tr>\n",
       "    <tr>\n",
       "      <th>1</th>\n",
       "      <td>863829e0fc8e0dcd88f44c6a63db836a</td>\n",
       "      <td>d0ebf6ddaa8702e6de4e46854a1136ff</td>\n",
       "      <td>b209c6b14e91606a99d637ff6eb74cc6</td>\n",
       "      <td>1</td>\n",
       "    </tr>\n",
       "    <tr>\n",
       "      <th>2</th>\n",
       "      <td>640af3312483bea44b8159a8caaf0b3d</td>\n",
       "      <td>838c4a718830b5f1ac7be5e70745ff47</td>\n",
       "      <td>3f3d510c709ae5d9bae0331fcf776f3a</td>\n",
       "      <td>1</td>\n",
       "    </tr>\n",
       "    <tr>\n",
       "      <th>3</th>\n",
       "      <td>43de481cae63944b81db6fd5567a12bb</td>\n",
       "      <td>8f36aead1ceafb3e67f9957a7765549e</td>\n",
       "      <td>da73306047217a73a6ee0ea7477f2ad7</td>\n",
       "      <td>0</td>\n",
       "    </tr>\n",
       "    <tr>\n",
       "      <th>4</th>\n",
       "      <td>b84dd1a6c3df2e08eb7bef496cdf6d39</td>\n",
       "      <td>09799cdf1394b0e4b86ace899b7f218e</td>\n",
       "      <td>6e4b93932be600a5536c291888996037</td>\n",
       "      <td>1</td>\n",
       "    </tr>\n",
       "  </tbody>\n",
       "</table>\n",
       "</div>"
      ],
      "text/plain": [
       "                            user_id                        session_id  \\\n",
       "0  4299b8c9c50c3e4e8a067f448426463e  08f9c3b0e2ff8da7bad6cc200fa735a2   \n",
       "1  863829e0fc8e0dcd88f44c6a63db836a  d0ebf6ddaa8702e6de4e46854a1136ff   \n",
       "2  640af3312483bea44b8159a8caaf0b3d  838c4a718830b5f1ac7be5e70745ff47   \n",
       "3  43de481cae63944b81db6fd5567a12bb  8f36aead1ceafb3e67f9957a7765549e   \n",
       "4  b84dd1a6c3df2e08eb7bef496cdf6d39  09799cdf1394b0e4b86ace899b7f218e   \n",
       "\n",
       "                           click_id  experimentVariant  \n",
       "0  56bcee80ce68ddc58c178a63288965b2                  1  \n",
       "1  b209c6b14e91606a99d637ff6eb74cc6                  1  \n",
       "2  3f3d510c709ae5d9bae0331fcf776f3a                  1  \n",
       "3  da73306047217a73a6ee0ea7477f2ad7                  0  \n",
       "4  6e4b93932be600a5536c291888996037                  1  "
      ]
     },
     "execution_count": 2,
     "metadata": {},
     "output_type": "execute_result"
    }
   ],
   "source": [
    "# читаем файл, оставляем только нужные столбцы\n",
    "df = pd.read_csv('case_ctr.csv', sep=';')\n",
    "df = df[['user_id', 'session_id', 'click_id', 'experimentVariant']]\n",
    "df.head()"
   ]
  },
  {
   "cell_type": "code",
   "execution_count": 3,
   "metadata": {},
   "outputs": [
    {
     "name": "stdout",
     "output_type": "stream",
     "text": [
      "<class 'pandas.core.frame.DataFrame'>\n",
      "RangeIndex: 10000 entries, 0 to 9999\n",
      "Data columns (total 4 columns):\n",
      " #   Column             Non-Null Count  Dtype \n",
      "---  ------             --------------  ----- \n",
      " 0   user_id            10000 non-null  object\n",
      " 1   session_id         10000 non-null  object\n",
      " 2   click_id           7655 non-null   object\n",
      " 3   experimentVariant  10000 non-null  int64 \n",
      "dtypes: int64(1), object(3)\n",
      "memory usage: 312.6+ KB\n"
     ]
    }
   ],
   "source": [
    "# информация о датафрейме\n",
    "df.info()"
   ]
  },
  {
   "cell_type": "code",
   "execution_count": 4,
   "metadata": {},
   "outputs": [
    {
     "data": {
      "text/plain": [
       "0    5112\n",
       "1    4888\n",
       "Name: experimentVariant, dtype: int64"
      ]
     },
     "execution_count": 4,
     "metadata": {},
     "output_type": "execute_result"
    }
   ],
   "source": [
    "# смотрим распредение по группам в эксперименте\n",
    "df.experimentVariant.value_counts()"
   ]
  },
  {
   "cell_type": "code",
   "execution_count": 5,
   "metadata": {},
   "outputs": [],
   "source": [
    "# создаём датафрейм с контрольной и тестовой группой\n",
    "df_control = df.query('experimentVariant == 0')\n",
    "df_test = df.query('experimentVariant == 1')"
   ]
  },
  {
   "cell_type": "code",
   "execution_count": 6,
   "metadata": {},
   "outputs": [
    {
     "name": "stdout",
     "output_type": "stream",
     "text": [
      "True\n",
      "True\n"
     ]
    }
   ],
   "source": [
    "# проверка на то, что один и тот же пользователь существует в двух группах эксперимента. \n",
    "# если True, значит пользователи не пересекаются\n",
    "\n",
    "print(df.user_id.nunique() == df_test.user_id.nunique() + \\\n",
    "                        df_control.user_id.nunique())\n",
    "\n",
    "# проверка на то, что одна и та же сессия существует в двух группах эксперимента\n",
    "# если True, значит сессии не пересекаются\n",
    "print(df.session_id.nunique() == df_test.session_id.nunique() + \\\n",
    "                            df_control.session_id.nunique())"
   ]
  },
  {
   "cell_type": "code",
   "execution_count": 7,
   "metadata": {},
   "outputs": [
    {
     "data": {
      "text/html": [
       "<div>\n",
       "<style scoped>\n",
       "    .dataframe tbody tr th:only-of-type {\n",
       "        vertical-align: middle;\n",
       "    }\n",
       "\n",
       "    .dataframe tbody tr th {\n",
       "        vertical-align: top;\n",
       "    }\n",
       "\n",
       "    .dataframe thead th {\n",
       "        text-align: right;\n",
       "    }\n",
       "</style>\n",
       "<table border=\"1\" class=\"dataframe\">\n",
       "  <thead>\n",
       "    <tr style=\"text-align: right;\">\n",
       "      <th></th>\n",
       "      <th>user_id</th>\n",
       "      <th>session_count</th>\n",
       "      <th>click_count</th>\n",
       "      <th>ctr</th>\n",
       "    </tr>\n",
       "  </thead>\n",
       "  <tbody>\n",
       "    <tr>\n",
       "      <th>564</th>\n",
       "      <td>80526421c5acf148d0fd2e788eb0d819</td>\n",
       "      <td>2</td>\n",
       "      <td>2</td>\n",
       "      <td>100.0</td>\n",
       "    </tr>\n",
       "  </tbody>\n",
       "</table>\n",
       "</div>"
      ],
      "text/plain": [
       "                              user_id  session_count  click_count    ctr\n",
       "564  80526421c5acf148d0fd2e788eb0d819              2            2  100.0"
      ]
     },
     "metadata": {},
     "output_type": "display_data"
    },
    {
     "name": "stdout",
     "output_type": "stream",
     "text": [
      "Средний показатель CTR в тестовой группе = 77.23%\n"
     ]
    }
   ],
   "source": [
    "# группируем данные в контрольной группе по user_id с подсчетом кол-ва сессий и кликов\n",
    "df_control_us_uniq = df_control.groupby('user_id', as_index = False).agg({'session_id' : 'count', 'click_id' : 'count'})\n",
    "df_control_us_uniq.columns = ['user_id', 'session_count', 'click_count']\n",
    "df_control_us_uniq['ctr'] = round(df_control_us_uniq.click_count / df_control_us_uniq.session_count * 100,2)\n",
    "\n",
    "# проверяем может ли показатель CTR в контрольной группе быть больше чем 100%\n",
    "display(df_control_us_uniq.sort_values('ctr', ascending = False).head(1))\n",
    "\n",
    "avg_ctr_control = round(df_control_us_uniq.ctr.mean(),2)\n",
    "print('Средний показатель CTR в тестовой группе = {}%'.format(avg_ctr_control))"
   ]
  },
  {
   "cell_type": "code",
   "execution_count": 8,
   "metadata": {},
   "outputs": [
    {
     "data": {
      "text/html": [
       "<div>\n",
       "<style scoped>\n",
       "    .dataframe tbody tr th:only-of-type {\n",
       "        vertical-align: middle;\n",
       "    }\n",
       "\n",
       "    .dataframe tbody tr th {\n",
       "        vertical-align: top;\n",
       "    }\n",
       "\n",
       "    .dataframe thead th {\n",
       "        text-align: right;\n",
       "    }\n",
       "</style>\n",
       "<table border=\"1\" class=\"dataframe\">\n",
       "  <thead>\n",
       "    <tr style=\"text-align: right;\">\n",
       "      <th></th>\n",
       "      <th>user_id</th>\n",
       "      <th>session_count</th>\n",
       "      <th>click_count</th>\n",
       "      <th>ctr</th>\n",
       "    </tr>\n",
       "  </thead>\n",
       "  <tbody>\n",
       "    <tr>\n",
       "      <th>1116</th>\n",
       "      <td>ffc1dd3e8f3c8594ef3f7b4423cb3b6b</td>\n",
       "      <td>2</td>\n",
       "      <td>2</td>\n",
       "      <td>100.0</td>\n",
       "    </tr>\n",
       "  </tbody>\n",
       "</table>\n",
       "</div>"
      ],
      "text/plain": [
       "                               user_id  session_count  click_count    ctr\n",
       "1116  ffc1dd3e8f3c8594ef3f7b4423cb3b6b              2            2  100.0"
      ]
     },
     "metadata": {},
     "output_type": "display_data"
    },
    {
     "name": "stdout",
     "output_type": "stream",
     "text": [
      "Средний показатель CTR в тестовой группе = 75.83%\n"
     ]
    }
   ],
   "source": [
    "# группируем данные в тестовой группе по user_id с подсчетом кол-ва сессий и кликов\n",
    "df_test_us_uniq = df_test.groupby('user_id', as_index = False).agg({'session_id' : 'count', 'click_id' : 'count'})\n",
    "df_test_us_uniq.columns = ['user_id', 'session_count', 'click_count']\n",
    "df_test_us_uniq['ctr'] = round(df_test_us_uniq.click_count / df_test_us_uniq.session_count * 100,2)\n",
    "\n",
    "# проверяем может ли показатель CTR в тестовой группе быть больше чем 100%\n",
    "display(df_test_us_uniq.sort_values('ctr', ascending = False).head(1))\n",
    "\n",
    "avg_ctr_test = round(df_test_us_uniq.ctr.mean(),2)\n",
    "print('Средний показатель CTR в тестовой группе = {}%'.format(avg_ctr_test))"
   ]
  },
  {
   "cell_type": "code",
   "execution_count": 9,
   "metadata": {},
   "outputs": [
    {
     "name": "stdout",
     "output_type": "stream",
     "text": [
      "CTR в тестовой группе отличается на -1.4% от CTR в контрольной группе\n"
     ]
    }
   ],
   "source": [
    "print('CTR в тестовой группе отличается на {}% от CTR в контрольной группе'.format(round(avg_ctr_test - avg_ctr_control, 2)))"
   ]
  },
  {
   "cell_type": "code",
   "execution_count": 10,
   "metadata": {},
   "outputs": [
    {
     "name": "stdout",
     "output_type": "stream",
     "text": [
      "MannwhitneyuResult(statistic=609338.5, pvalue=0.07842795146979505)\n",
      "Ttest_indResult(statistic=1.3866226998396367, pvalue=0.16569457697014517)\n"
     ]
    }
   ],
   "source": [
    "print(stats.mannwhitneyu(df_control_us_uniq.ctr, df_test_us_uniq.ctr))\n",
    "print(stats.ttest_ind(df_control_us_uniq.ctr, df_test_us_uniq.ctr))"
   ]
  },
  {
   "cell_type": "markdown",
   "metadata": {},
   "source": [
    "Из проведенного выше теста видим, что изменение в показателе CTR в контрольной и тестовой группах отличаются, но это отличие статистически не значимо (pvalue > 0.05)"
   ]
  }
 ],
 "metadata": {
  "kernelspec": {
   "display_name": "Python 3",
   "language": "python",
   "name": "python3"
  },
  "language_info": {
   "codemirror_mode": {
    "name": "ipython",
    "version": 3
   },
   "file_extension": ".py",
   "mimetype": "text/x-python",
   "name": "python",
   "nbconvert_exporter": "python",
   "pygments_lexer": "ipython3",
   "version": "3.8.5"
  }
 },
 "nbformat": 4,
 "nbformat_minor": 4
}
