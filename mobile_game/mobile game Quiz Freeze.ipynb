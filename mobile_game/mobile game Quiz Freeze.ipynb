{
 "cells": [
  {
   "cell_type": "markdown",
   "metadata": {},
   "source": [
    "# Мобильная игра Quiz Freeze\n",
    "## Краткое описание:\n",
    "ЭТАПЫ, ИЗ КОТОРЫХ СОСТОИТ QUIZ FREEZE:\n",
    "\n",
    "**Регистрация (registration)** — это обязательный этап. Без регистрации пользователь не может перейти на следующие этапы работы с приложением.\n",
    "\n",
    "**Старт обучения (tutorial_start)** — опциональный этап. Пользователь после регистрации может перейти к обучению работе с приложением, а может и не перейти. При этом вернуться к обучению можно в любой момент. А ещё можно пройти обучение несколько раз.\n",
    "\n",
    "**Завершение обучения (tutorial_finish)** может произойти только в случае, если ранее произошло событие «Старт обучения», но при этом пользователь может не завершить обучение.\n",
    "\n",
    "**Выбор уровня сложности вопросов (level_choice)** — это обязательное событие, которое нужно для того, чтобы перейти к выбору пакетов вопросов. Таким образом, пользователь может не пройти обучение или даже не начинать его, но прежде чем начать отвечать, он обязан выбрать уровень сложности.\n",
    "\n",
    "**Выбор пакетов вопросов (pack_choice, или training_choice)** — это этап, на котором пользователь выбирает себе бесплатный набор пакетов вопросов, на которые он будет отвечать.\n",
    "\n",
    "**Покупка платных пакетов вопросов (хранятся в таблице purchase)** — это факт совершения оплаты за вопросы, которые не доступны в списке бесплатных вопросов."
   ]
  },
  {
   "cell_type": "markdown",
   "metadata": {},
   "source": [
    "## Задание №1\n",
    "Проверить, отличается ли время прохождения различных этапов для пользователей, которые прошли обучение, от пользователей, не начинавших обучение. Насколько обучение сокращает время прохождения этапов?  "
   ]
  },
  {
   "cell_type": "markdown",
   "metadata": {},
   "source": [
    "Пояснение к ходу решения задания:  \n",
    "Далее сравниваться будут только такие этапы игры как \"Выбор уровня сложности\", \"Выбор пакета вопросов\", \"Оплата\", т.к. этап \"Регистрация\" является первоначальным, с которого пользователь начинает взаимодействие с игрой, а этапы прохождения обучения являются опциональными ждя пользователя.   \n",
    "\n",
    "По общему условию интересуют только те пользователи, которые зарегистрировались в 2018г."
   ]
  },
  {
   "cell_type": "code",
   "execution_count": 1,
   "metadata": {},
   "outputs": [],
   "source": [
    "import pandas as pd\n",
    "import numpy as np\n",
    "%matplotlib inline\n",
    "import matplotlib.pyplot as plt\n",
    "import seaborn as sns"
   ]
  },
  {
   "cell_type": "code",
   "execution_count": 2,
   "metadata": {},
   "outputs": [
    {
     "data": {
      "text/html": [
       "<div>\n",
       "<style scoped>\n",
       "    .dataframe tbody tr th:only-of-type {\n",
       "        vertical-align: middle;\n",
       "    }\n",
       "\n",
       "    .dataframe tbody tr th {\n",
       "        vertical-align: top;\n",
       "    }\n",
       "\n",
       "    .dataframe thead th {\n",
       "        text-align: right;\n",
       "    }\n",
       "</style>\n",
       "<table border=\"1\" class=\"dataframe\">\n",
       "  <thead>\n",
       "    <tr style=\"text-align: right;\">\n",
       "      <th></th>\n",
       "      <th>id</th>\n",
       "      <th>event_type</th>\n",
       "      <th>selected_level</th>\n",
       "      <th>start_time</th>\n",
       "      <th>tutorial_id</th>\n",
       "      <th>user_id</th>\n",
       "    </tr>\n",
       "  </thead>\n",
       "  <tbody>\n",
       "    <tr>\n",
       "      <th>0</th>\n",
       "      <td>28903</td>\n",
       "      <td>registration</td>\n",
       "      <td>NaN</td>\n",
       "      <td>2016-05-11T23:40:55</td>\n",
       "      <td>NaN</td>\n",
       "      <td>12583</td>\n",
       "    </tr>\n",
       "    <tr>\n",
       "      <th>1</th>\n",
       "      <td>28904</td>\n",
       "      <td>registration</td>\n",
       "      <td>NaN</td>\n",
       "      <td>2016-05-11T23:49:58</td>\n",
       "      <td>NaN</td>\n",
       "      <td>12584</td>\n",
       "    </tr>\n",
       "  </tbody>\n",
       "</table>\n",
       "</div>"
      ],
      "text/plain": [
       "      id    event_type selected_level           start_time  tutorial_id  \\\n",
       "0  28903  registration            NaN  2016-05-11T23:40:55          NaN   \n",
       "1  28904  registration            NaN  2016-05-11T23:49:58          NaN   \n",
       "\n",
       "   user_id  \n",
       "0    12583  \n",
       "1    12584  "
      ]
     },
     "metadata": {},
     "output_type": "display_data"
    },
    {
     "data": {
      "text/html": [
       "<div>\n",
       "<style scoped>\n",
       "    .dataframe tbody tr th:only-of-type {\n",
       "        vertical-align: middle;\n",
       "    }\n",
       "\n",
       "    .dataframe tbody tr th {\n",
       "        vertical-align: top;\n",
       "    }\n",
       "\n",
       "    .dataframe thead th {\n",
       "        text-align: right;\n",
       "    }\n",
       "</style>\n",
       "<table border=\"1\" class=\"dataframe\">\n",
       "  <thead>\n",
       "    <tr style=\"text-align: right;\">\n",
       "      <th></th>\n",
       "      <th>id</th>\n",
       "      <th>user_id</th>\n",
       "      <th>event_datetime</th>\n",
       "      <th>amount</th>\n",
       "    </tr>\n",
       "  </thead>\n",
       "  <tbody>\n",
       "    <tr>\n",
       "      <th>0</th>\n",
       "      <td>15674</td>\n",
       "      <td>12584</td>\n",
       "      <td>2016-05-12T10:34:16</td>\n",
       "      <td>100</td>\n",
       "    </tr>\n",
       "    <tr>\n",
       "      <th>1</th>\n",
       "      <td>15675</td>\n",
       "      <td>12985</td>\n",
       "      <td>2016-05-13T08:25:56</td>\n",
       "      <td>50</td>\n",
       "    </tr>\n",
       "  </tbody>\n",
       "</table>\n",
       "</div>"
      ],
      "text/plain": [
       "      id  user_id       event_datetime  amount\n",
       "0  15674    12584  2016-05-12T10:34:16     100\n",
       "1  15675    12985  2016-05-13T08:25:56      50"
      ]
     },
     "metadata": {},
     "output_type": "display_data"
    }
   ],
   "source": [
    "event = pd.read_csv('7_4_Events.csv')\n",
    "display(event.head(2))\n",
    "purchase = pd.read_csv('purchase.csv')\n",
    "display(purchase.head(2))"
   ]
  },
  {
   "cell_type": "code",
   "execution_count": 3,
   "metadata": {},
   "outputs": [
    {
     "name": "stdout",
     "output_type": "stream",
     "text": [
      "<class 'pandas.core.frame.DataFrame'>\n",
      "RangeIndex: 252334 entries, 0 to 252333\n",
      "Data columns (total 6 columns):\n",
      " #   Column          Non-Null Count   Dtype  \n",
      "---  ------          --------------   -----  \n",
      " 0   id              252334 non-null  int64  \n",
      " 1   event_type      252334 non-null  object \n",
      " 2   selected_level  31086 non-null   object \n",
      " 3   start_time      252334 non-null  object \n",
      " 4   tutorial_id     125103 non-null  float64\n",
      " 5   user_id         252334 non-null  int64  \n",
      "dtypes: float64(1), int64(2), object(3)\n",
      "memory usage: 11.6+ MB\n"
     ]
    },
    {
     "data": {
      "text/plain": [
       "None"
      ]
     },
     "metadata": {},
     "output_type": "display_data"
    },
    {
     "name": "stdout",
     "output_type": "stream",
     "text": [
      "<class 'pandas.core.frame.DataFrame'>\n",
      "RangeIndex: 5956 entries, 0 to 5955\n",
      "Data columns (total 4 columns):\n",
      " #   Column          Non-Null Count  Dtype \n",
      "---  ------          --------------  ----- \n",
      " 0   id              5956 non-null   int64 \n",
      " 1   user_id         5956 non-null   int64 \n",
      " 2   event_datetime  5956 non-null   object\n",
      " 3   amount          5956 non-null   int64 \n",
      "dtypes: int64(3), object(1)\n",
      "memory usage: 186.2+ KB\n"
     ]
    },
    {
     "data": {
      "text/plain": [
       "None"
      ]
     },
     "metadata": {},
     "output_type": "display_data"
    }
   ],
   "source": [
    "display(event.info())\n",
    "display(purchase.info())"
   ]
  },
  {
   "cell_type": "code",
   "execution_count": 4,
   "metadata": {},
   "outputs": [
    {
     "name": "stdout",
     "output_type": "stream",
     "text": [
      "19926 - количество пользователей, зарегистрировавшихся в 2018 году\n"
     ]
    }
   ],
   "source": [
    "# создание списка пользователей, зарегистрировавшихся в 2018г.\n",
    "event_reg_2018 = event[(event['event_type']=='registration') & (event['start_time'] >= '2018-01-01') & (event['start_time'] < '2019-01-01')]\n",
    "users_reg_2018 = event_reg_2018.user_id.to_list()\n",
    "print(len(users_reg_2018), '- количество пользователей, зарегистрировавшихся в 2018 году')"
   ]
  },
  {
   "cell_type": "code",
   "execution_count": 5,
   "metadata": {},
   "outputs": [
    {
     "name": "stderr",
     "output_type": "stream",
     "text": [
      "<ipython-input-5-65a21c9281f9>:5: SettingWithCopyWarning: \n",
      "A value is trying to be set on a copy of a slice from a DataFrame.\n",
      "Try using .loc[row_indexer,col_indexer] = value instead\n",
      "\n",
      "See the caveats in the documentation: https://pandas.pydata.org/pandas-docs/stable/user_guide/indexing.html#returning-a-view-versus-a-copy\n",
      "  event_new['start_time'] = pd.to_datetime(event_new['start_time'], format='%Y-%m-%dT%H:%M:%S')\n"
     ]
    },
    {
     "data": {
      "text/html": [
       "<div>\n",
       "<style scoped>\n",
       "    .dataframe tbody tr th:only-of-type {\n",
       "        vertical-align: middle;\n",
       "    }\n",
       "\n",
       "    .dataframe tbody tr th {\n",
       "        vertical-align: top;\n",
       "    }\n",
       "\n",
       "    .dataframe thead th {\n",
       "        text-align: right;\n",
       "    }\n",
       "</style>\n",
       "<table border=\"1\" class=\"dataframe\">\n",
       "  <thead>\n",
       "    <tr style=\"text-align: right;\">\n",
       "      <th></th>\n",
       "      <th>event_id</th>\n",
       "      <th>event_type</th>\n",
       "      <th>selected_level</th>\n",
       "      <th>start_time</th>\n",
       "      <th>tutorial_id</th>\n",
       "      <th>user_id</th>\n",
       "    </tr>\n",
       "  </thead>\n",
       "  <tbody>\n",
       "    <tr>\n",
       "      <th>98065</th>\n",
       "      <td>126968</td>\n",
       "      <td>tutorial_start</td>\n",
       "      <td>NaN</td>\n",
       "      <td>2018-09-22 17:14:32</td>\n",
       "      <td>44169.0</td>\n",
       "      <td>41683</td>\n",
       "    </tr>\n",
       "    <tr>\n",
       "      <th>60340</th>\n",
       "      <td>89243</td>\n",
       "      <td>tutorial_start</td>\n",
       "      <td>NaN</td>\n",
       "      <td>2018-02-20 21:03:55</td>\n",
       "      <td>33949.0</td>\n",
       "      <td>30430</td>\n",
       "    </tr>\n",
       "  </tbody>\n",
       "</table>\n",
       "</div>"
      ],
      "text/plain": [
       "       event_id      event_type selected_level          start_time  \\\n",
       "98065    126968  tutorial_start            NaN 2018-09-22 17:14:32   \n",
       "60340     89243  tutorial_start            NaN 2018-02-20 21:03:55   \n",
       "\n",
       "       tutorial_id  user_id  \n",
       "98065      44169.0    41683  \n",
       "60340      33949.0    30430  "
      ]
     },
     "execution_count": 5,
     "metadata": {},
     "output_type": "execute_result"
    }
   ],
   "source": [
    "# применение списка с пользователями к общему датафрему (далее дф) event\n",
    "event_new = event[event.user_id.isin(users_reg_2018)]\n",
    "\n",
    "# приведение даты к нормальному формату и переименование столбца id\n",
    "event_new['start_time'] = pd.to_datetime(event_new['start_time'], format='%Y-%m-%dT%H:%M:%S')\n",
    "event_new = event_new.rename(columns = {'id' : 'event_id'})\n",
    "\n",
    "event_new.sample(2)"
   ]
  },
  {
   "cell_type": "code",
   "execution_count": 6,
   "metadata": {},
   "outputs": [
    {
     "name": "stderr",
     "output_type": "stream",
     "text": [
      "<ipython-input-6-d753306d0c94>:3: SettingWithCopyWarning: \n",
      "A value is trying to be set on a copy of a slice from a DataFrame.\n",
      "Try using .loc[row_indexer,col_indexer] = value instead\n",
      "\n",
      "See the caveats in the documentation: https://pandas.pydata.org/pandas-docs/stable/user_guide/indexing.html#returning-a-view-versus-a-copy\n",
      "  purchase_new['event_type'] = 'purchase'\n"
     ]
    },
    {
     "data": {
      "text/html": [
       "<div>\n",
       "<style scoped>\n",
       "    .dataframe tbody tr th:only-of-type {\n",
       "        vertical-align: middle;\n",
       "    }\n",
       "\n",
       "    .dataframe tbody tr th {\n",
       "        vertical-align: top;\n",
       "    }\n",
       "\n",
       "    .dataframe thead th {\n",
       "        text-align: right;\n",
       "    }\n",
       "</style>\n",
       "<table border=\"1\" class=\"dataframe\">\n",
       "  <thead>\n",
       "    <tr style=\"text-align: right;\">\n",
       "      <th></th>\n",
       "      <th>purchase_id</th>\n",
       "      <th>user_id</th>\n",
       "      <th>event_datetime</th>\n",
       "      <th>amount</th>\n",
       "      <th>event_type</th>\n",
       "    </tr>\n",
       "  </thead>\n",
       "  <tbody>\n",
       "    <tr>\n",
       "      <th>2626</th>\n",
       "      <td>18300</td>\n",
       "      <td>46061</td>\n",
       "      <td>2018-12-04 14:44:20</td>\n",
       "      <td>100</td>\n",
       "      <td>purchase</td>\n",
       "    </tr>\n",
       "    <tr>\n",
       "      <th>2632</th>\n",
       "      <td>18306</td>\n",
       "      <td>45717</td>\n",
       "      <td>2018-12-06 07:35:47</td>\n",
       "      <td>25</td>\n",
       "      <td>purchase</td>\n",
       "    </tr>\n",
       "  </tbody>\n",
       "</table>\n",
       "</div>"
      ],
      "text/plain": [
       "      purchase_id  user_id      event_datetime  amount event_type\n",
       "2626        18300    46061 2018-12-04 14:44:20     100   purchase\n",
       "2632        18306    45717 2018-12-06 07:35:47      25   purchase"
      ]
     },
     "execution_count": 6,
     "metadata": {},
     "output_type": "execute_result"
    }
   ],
   "source": [
    "# применение списка с пользователями к общему датафрему (далее дф) purchase\n",
    "purchase_new = purchase[purchase.user_id.isin(users_reg_2018)]\n",
    "purchase_new['event_type'] = 'purchase'\n",
    "\n",
    "# приведение даты к нормальному формату и переименование столбца id\n",
    "purchase_new = purchase_new.rename(columns = {'id': 'purchase_id'})\n",
    "purchase_new['event_datetime'] = pd.to_datetime(purchase_new['event_datetime'], format='%Y-%m-%dT%H:%M:%S')\n",
    "\n",
    "purchase_new.sample(2)"
   ]
  },
  {
   "cell_type": "code",
   "execution_count": 7,
   "metadata": {},
   "outputs": [
    {
     "data": {
      "text/html": [
       "<div>\n",
       "<style scoped>\n",
       "    .dataframe tbody tr th:only-of-type {\n",
       "        vertical-align: middle;\n",
       "    }\n",
       "\n",
       "    .dataframe tbody tr th {\n",
       "        vertical-align: top;\n",
       "    }\n",
       "\n",
       "    .dataframe thead th {\n",
       "        text-align: right;\n",
       "    }\n",
       "</style>\n",
       "<table border=\"1\" class=\"dataframe\">\n",
       "  <thead>\n",
       "    <tr style=\"text-align: right;\">\n",
       "      <th></th>\n",
       "      <th>event_id</th>\n",
       "      <th>event_type</th>\n",
       "      <th>selected_level</th>\n",
       "      <th>start_time</th>\n",
       "      <th>tutorial_id</th>\n",
       "      <th>user_id</th>\n",
       "      <th>purchase_id</th>\n",
       "      <th>event_datetime</th>\n",
       "      <th>amount</th>\n",
       "    </tr>\n",
       "  </thead>\n",
       "  <tbody>\n",
       "    <tr>\n",
       "      <th>55666</th>\n",
       "      <td>136046.0</td>\n",
       "      <td>tutorial_start</td>\n",
       "      <td>NaN</td>\n",
       "      <td>2018-11-13 14:23:31</td>\n",
       "      <td>46538.0</td>\n",
       "      <td>44437</td>\n",
       "      <td>NaN</td>\n",
       "      <td>NaT</td>\n",
       "      <td>NaN</td>\n",
       "    </tr>\n",
       "    <tr>\n",
       "      <th>33034</th>\n",
       "      <td>113353.0</td>\n",
       "      <td>tutorial_start</td>\n",
       "      <td>NaN</td>\n",
       "      <td>2018-06-22 12:13:53</td>\n",
       "      <td>40475.0</td>\n",
       "      <td>37590</td>\n",
       "      <td>NaN</td>\n",
       "      <td>NaT</td>\n",
       "      <td>NaN</td>\n",
       "    </tr>\n",
       "  </tbody>\n",
       "</table>\n",
       "</div>"
      ],
      "text/plain": [
       "       event_id      event_type selected_level          start_time  \\\n",
       "55666  136046.0  tutorial_start            NaN 2018-11-13 14:23:31   \n",
       "33034  113353.0  tutorial_start            NaN 2018-06-22 12:13:53   \n",
       "\n",
       "       tutorial_id  user_id  purchase_id event_datetime  amount  \n",
       "55666      46538.0    44437          NaN            NaT     NaN  \n",
       "33034      40475.0    37590          NaN            NaT     NaN  "
      ]
     },
     "execution_count": 7,
     "metadata": {},
     "output_type": "execute_result"
    }
   ],
   "source": [
    "# создание объединенного дф\n",
    "total_event_reg_2018 = pd.merge(event_new, purchase_new, on=['user_id', 'event_type'], how='outer')\n",
    "total_event_reg_2018.sample(2)"
   ]
  },
  {
   "cell_type": "code",
   "execution_count": 8,
   "metadata": {},
   "outputs": [
    {
     "data": {
      "text/html": [
       "<div>\n",
       "<style scoped>\n",
       "    .dataframe tbody tr th:only-of-type {\n",
       "        vertical-align: middle;\n",
       "    }\n",
       "\n",
       "    .dataframe tbody tr th {\n",
       "        vertical-align: top;\n",
       "    }\n",
       "\n",
       "    .dataframe thead th {\n",
       "        text-align: right;\n",
       "    }\n",
       "</style>\n",
       "<table border=\"1\" class=\"dataframe\">\n",
       "  <thead>\n",
       "    <tr style=\"text-align: right;\">\n",
       "      <th></th>\n",
       "      <th>user_id</th>\n",
       "      <th>start_time</th>\n",
       "    </tr>\n",
       "  </thead>\n",
       "  <tbody>\n",
       "    <tr>\n",
       "      <th>0</th>\n",
       "      <td>27832</td>\n",
       "      <td>2018-01-01 03:48:40</td>\n",
       "    </tr>\n",
       "    <tr>\n",
       "      <th>1</th>\n",
       "      <td>27833</td>\n",
       "      <td>2018-01-01 04:07:25</td>\n",
       "    </tr>\n",
       "  </tbody>\n",
       "</table>\n",
       "</div>"
      ],
      "text/plain": [
       "   user_id          start_time\n",
       "0    27832 2018-01-01 03:48:40\n",
       "1    27833 2018-01-01 04:07:25"
      ]
     },
     "metadata": {},
     "output_type": "display_data"
    },
    {
     "data": {
      "text/html": [
       "<div>\n",
       "<style scoped>\n",
       "    .dataframe tbody tr th:only-of-type {\n",
       "        vertical-align: middle;\n",
       "    }\n",
       "\n",
       "    .dataframe tbody tr th {\n",
       "        vertical-align: top;\n",
       "    }\n",
       "\n",
       "    .dataframe thead th {\n",
       "        text-align: right;\n",
       "    }\n",
       "</style>\n",
       "<table border=\"1\" class=\"dataframe\">\n",
       "  <thead>\n",
       "    <tr style=\"text-align: right;\">\n",
       "      <th></th>\n",
       "      <th>user_id</th>\n",
       "      <th>start_time</th>\n",
       "    </tr>\n",
       "  </thead>\n",
       "  <tbody>\n",
       "    <tr>\n",
       "      <th>0</th>\n",
       "      <td>27833</td>\n",
       "      <td>2018-01-01 17:47:40</td>\n",
       "    </tr>\n",
       "    <tr>\n",
       "      <th>1</th>\n",
       "      <td>27834</td>\n",
       "      <td>2018-01-01 19:46:11</td>\n",
       "    </tr>\n",
       "  </tbody>\n",
       "</table>\n",
       "</div>"
      ],
      "text/plain": [
       "   user_id          start_time\n",
       "0    27833 2018-01-01 17:47:40\n",
       "1    27834 2018-01-01 19:46:11"
      ]
     },
     "metadata": {},
     "output_type": "display_data"
    },
    {
     "data": {
      "text/html": [
       "<div>\n",
       "<style scoped>\n",
       "    .dataframe tbody tr th:only-of-type {\n",
       "        vertical-align: middle;\n",
       "    }\n",
       "\n",
       "    .dataframe tbody tr th {\n",
       "        vertical-align: top;\n",
       "    }\n",
       "\n",
       "    .dataframe thead th {\n",
       "        text-align: right;\n",
       "    }\n",
       "</style>\n",
       "<table border=\"1\" class=\"dataframe\">\n",
       "  <thead>\n",
       "    <tr style=\"text-align: right;\">\n",
       "      <th></th>\n",
       "      <th>user_id</th>\n",
       "      <th>start_time</th>\n",
       "    </tr>\n",
       "  </thead>\n",
       "  <tbody>\n",
       "    <tr>\n",
       "      <th>0</th>\n",
       "      <td>27833</td>\n",
       "      <td>2018-01-01 17:50:08</td>\n",
       "    </tr>\n",
       "    <tr>\n",
       "      <th>1</th>\n",
       "      <td>27834</td>\n",
       "      <td>2018-01-01 19:48:01</td>\n",
       "    </tr>\n",
       "  </tbody>\n",
       "</table>\n",
       "</div>"
      ],
      "text/plain": [
       "   user_id          start_time\n",
       "0    27833 2018-01-01 17:50:08\n",
       "1    27834 2018-01-01 19:48:01"
      ]
     },
     "metadata": {},
     "output_type": "display_data"
    },
    {
     "data": {
      "text/html": [
       "<div>\n",
       "<style scoped>\n",
       "    .dataframe tbody tr th:only-of-type {\n",
       "        vertical-align: middle;\n",
       "    }\n",
       "\n",
       "    .dataframe tbody tr th {\n",
       "        vertical-align: top;\n",
       "    }\n",
       "\n",
       "    .dataframe thead th {\n",
       "        text-align: right;\n",
       "    }\n",
       "</style>\n",
       "<table border=\"1\" class=\"dataframe\">\n",
       "  <thead>\n",
       "    <tr style=\"text-align: right;\">\n",
       "      <th></th>\n",
       "      <th>user_id</th>\n",
       "      <th>start_time</th>\n",
       "    </tr>\n",
       "  </thead>\n",
       "  <tbody>\n",
       "    <tr>\n",
       "      <th>0</th>\n",
       "      <td>27835</td>\n",
       "      <td>2018-01-01 20:37:22</td>\n",
       "    </tr>\n",
       "    <tr>\n",
       "      <th>1</th>\n",
       "      <td>27839</td>\n",
       "      <td>2018-01-01 22:37:50</td>\n",
       "    </tr>\n",
       "  </tbody>\n",
       "</table>\n",
       "</div>"
      ],
      "text/plain": [
       "   user_id          start_time\n",
       "0    27835 2018-01-01 20:37:22\n",
       "1    27839 2018-01-01 22:37:50"
      ]
     },
     "metadata": {},
     "output_type": "display_data"
    },
    {
     "data": {
      "text/html": [
       "<div>\n",
       "<style scoped>\n",
       "    .dataframe tbody tr th:only-of-type {\n",
       "        vertical-align: middle;\n",
       "    }\n",
       "\n",
       "    .dataframe tbody tr th {\n",
       "        vertical-align: top;\n",
       "    }\n",
       "\n",
       "    .dataframe thead th {\n",
       "        text-align: right;\n",
       "    }\n",
       "</style>\n",
       "<table border=\"1\" class=\"dataframe\">\n",
       "  <thead>\n",
       "    <tr style=\"text-align: right;\">\n",
       "      <th></th>\n",
       "      <th>user_id</th>\n",
       "      <th>start_time</th>\n",
       "    </tr>\n",
       "  </thead>\n",
       "  <tbody>\n",
       "    <tr>\n",
       "      <th>0</th>\n",
       "      <td>27835</td>\n",
       "      <td>2018-01-01 20:38:43</td>\n",
       "    </tr>\n",
       "    <tr>\n",
       "      <th>1</th>\n",
       "      <td>27839</td>\n",
       "      <td>2018-01-01 22:42:54</td>\n",
       "    </tr>\n",
       "  </tbody>\n",
       "</table>\n",
       "</div>"
      ],
      "text/plain": [
       "   user_id          start_time\n",
       "0    27835 2018-01-01 20:38:43\n",
       "1    27839 2018-01-01 22:42:54"
      ]
     },
     "metadata": {},
     "output_type": "display_data"
    },
    {
     "data": {
      "text/html": [
       "<div>\n",
       "<style scoped>\n",
       "    .dataframe tbody tr th:only-of-type {\n",
       "        vertical-align: middle;\n",
       "    }\n",
       "\n",
       "    .dataframe tbody tr th {\n",
       "        vertical-align: top;\n",
       "    }\n",
       "\n",
       "    .dataframe thead th {\n",
       "        text-align: right;\n",
       "    }\n",
       "</style>\n",
       "<table border=\"1\" class=\"dataframe\">\n",
       "  <thead>\n",
       "    <tr style=\"text-align: right;\">\n",
       "      <th></th>\n",
       "      <th>user_id</th>\n",
       "      <th>event_datetime</th>\n",
       "    </tr>\n",
       "  </thead>\n",
       "  <tbody>\n",
       "    <tr>\n",
       "      <th>0</th>\n",
       "      <td>27845</td>\n",
       "      <td>2018-01-03 18:53:43</td>\n",
       "    </tr>\n",
       "    <tr>\n",
       "      <th>1</th>\n",
       "      <td>27865</td>\n",
       "      <td>2018-01-04 14:46:10</td>\n",
       "    </tr>\n",
       "  </tbody>\n",
       "</table>\n",
       "</div>"
      ],
      "text/plain": [
       "   user_id      event_datetime\n",
       "0    27845 2018-01-03 18:53:43\n",
       "1    27865 2018-01-04 14:46:10"
      ]
     },
     "metadata": {},
     "output_type": "display_data"
    }
   ],
   "source": [
    "# создаем дф с минимальным временем регистрации\n",
    "reg = total_event_reg_2018.query('event_type == \"registration\"').groupby('user_id', as_index = False).agg({'start_time' : 'min'})\n",
    "display(reg.head(2))\n",
    "\n",
    "# создаем дф с минимальным временем начала обучения\n",
    "t_start = total_event_reg_2018.query('event_type == \"tutorial_start\"').groupby('user_id', as_index = False).agg({'start_time' : 'min'})\n",
    "display(t_start.head(2))\n",
    "\n",
    "# создаем дф с минимальным временем конца обучения\n",
    "t_finish = total_event_reg_2018.query('event_type == \"tutorial_finish\"').groupby('user_id', as_index = False).agg({'start_time' : 'min'})\n",
    "display(t_finish.head(2))\n",
    "\n",
    "# создаем дф с минимальным временем выбора уровня\n",
    "lvl_choice = total_event_reg_2018.query('event_type == \"level_choice\"').groupby('user_id', as_index = False).agg({'start_time' : 'min'})\n",
    "display(lvl_choice.head(2))\n",
    "\n",
    "# создаем дф с минимальным временем выбора пакета\n",
    "pk_choice = total_event_reg_2018.query('event_type == \"pack_choice\"').groupby('user_id', as_index = False).agg({'start_time' : 'min'})\n",
    "display(pk_choice.head(2))\n",
    "\n",
    "# создаем дф с минимальным временем оплаты\n",
    "purch = total_event_reg_2018.query('event_type == \"purchase\"').groupby('user_id', as_index = False).agg({'event_datetime' : 'min'})\n",
    "display(purch.head(2))"
   ]
  },
  {
   "cell_type": "code",
   "execution_count": 9,
   "metadata": {},
   "outputs": [
    {
     "data": {
      "text/html": [
       "<div>\n",
       "<style scoped>\n",
       "    .dataframe tbody tr th:only-of-type {\n",
       "        vertical-align: middle;\n",
       "    }\n",
       "\n",
       "    .dataframe tbody tr th {\n",
       "        vertical-align: top;\n",
       "    }\n",
       "\n",
       "    .dataframe thead th {\n",
       "        text-align: right;\n",
       "    }\n",
       "</style>\n",
       "<table border=\"1\" class=\"dataframe\">\n",
       "  <thead>\n",
       "    <tr style=\"text-align: right;\">\n",
       "      <th></th>\n",
       "      <th>user_id</th>\n",
       "      <th>reg_time</th>\n",
       "      <th>t_start_time</th>\n",
       "      <th>t_finish_time</th>\n",
       "      <th>lvl_choice_time</th>\n",
       "      <th>pk_choice_time</th>\n",
       "      <th>purch_time</th>\n",
       "    </tr>\n",
       "  </thead>\n",
       "  <tbody>\n",
       "    <tr>\n",
       "      <th>17954</th>\n",
       "      <td>45786</td>\n",
       "      <td>2018-11-28 10:15:48</td>\n",
       "      <td>0</td>\n",
       "      <td>0</td>\n",
       "      <td>0</td>\n",
       "      <td>0</td>\n",
       "      <td>0</td>\n",
       "    </tr>\n",
       "    <tr>\n",
       "      <th>16981</th>\n",
       "      <td>44813</td>\n",
       "      <td>2018-11-17 20:27:13</td>\n",
       "      <td>2018-11-18 00:31:12</td>\n",
       "      <td>0</td>\n",
       "      <td>0</td>\n",
       "      <td>0</td>\n",
       "      <td>0</td>\n",
       "    </tr>\n",
       "  </tbody>\n",
       "</table>\n",
       "</div>"
      ],
      "text/plain": [
       "       user_id            reg_time         t_start_time t_finish_time  \\\n",
       "17954    45786 2018-11-28 10:15:48                    0             0   \n",
       "16981    44813 2018-11-17 20:27:13  2018-11-18 00:31:12             0   \n",
       "\n",
       "      lvl_choice_time pk_choice_time purch_time  \n",
       "17954               0              0          0  \n",
       "16981               0              0          0  "
      ]
     },
     "execution_count": 9,
     "metadata": {},
     "output_type": "execute_result"
    }
   ],
   "source": [
    "# поочередное объединение дф\n",
    "m1 = pd.merge(reg, t_start, on='user_id', how='outer')\n",
    "m2 = pd.merge(m1, t_finish, on='user_id', how='outer')\n",
    "m3 = pd.merge(m2, lvl_choice, on='user_id', how='outer')\n",
    "m4 = pd.merge(m3, pk_choice, on='user_id', how='outer')\n",
    "m5 = pd.merge(m4, purch, on='user_id', how='outer')\n",
    "\n",
    "# переименование столбцов\n",
    "m5.columns = ['user_id', 'reg_time', 't_start_time', 't_finish_time', 'lvl_choice_time', 'pk_choice_time', 'purch_time']\n",
    "\n",
    "# заполнение пустых значений нолями\n",
    "m5.reg_time = m5['reg_time'].fillna(0)\n",
    "m5.t_start_time = m5['t_start_time'].fillna(0)\n",
    "m5.t_finish_time = m5['t_finish_time'].fillna(0)\n",
    "m5.lvl_choice_time = m5['lvl_choice_time'].fillna(0)\n",
    "m5.pk_choice_time = m5['pk_choice_time'].fillna(0)\n",
    "m5.purch_time = m5['purch_time'].fillna(0)\n",
    "m5.sample(2)"
   ]
  },
  {
   "cell_type": "code",
   "execution_count": 10,
   "metadata": {},
   "outputs": [
    {
     "data": {
      "text/html": [
       "<div>\n",
       "<style scoped>\n",
       "    .dataframe tbody tr th:only-of-type {\n",
       "        vertical-align: middle;\n",
       "    }\n",
       "\n",
       "    .dataframe tbody tr th {\n",
       "        vertical-align: top;\n",
       "    }\n",
       "\n",
       "    .dataframe thead th {\n",
       "        text-align: right;\n",
       "    }\n",
       "</style>\n",
       "<table border=\"1\" class=\"dataframe\">\n",
       "  <thead>\n",
       "    <tr style=\"text-align: right;\">\n",
       "      <th></th>\n",
       "      <th>user_id</th>\n",
       "      <th>reg_time</th>\n",
       "      <th>t_start_time</th>\n",
       "      <th>t_finish_time</th>\n",
       "      <th>lvl_choice_time</th>\n",
       "      <th>pk_choice_time</th>\n",
       "      <th>purch_time</th>\n",
       "      <th>tut_done_or_not_start</th>\n",
       "    </tr>\n",
       "  </thead>\n",
       "  <tbody>\n",
       "    <tr>\n",
       "      <th>378</th>\n",
       "      <td>28210</td>\n",
       "      <td>2018-01-11 16:50:20</td>\n",
       "      <td>2018-01-12 00:06:23</td>\n",
       "      <td>0</td>\n",
       "      <td>0</td>\n",
       "      <td>0</td>\n",
       "      <td>0</td>\n",
       "      <td>None</td>\n",
       "    </tr>\n",
       "    <tr>\n",
       "      <th>11081</th>\n",
       "      <td>38913</td>\n",
       "      <td>2018-07-18 19:21:10</td>\n",
       "      <td>0</td>\n",
       "      <td>0</td>\n",
       "      <td>0</td>\n",
       "      <td>0</td>\n",
       "      <td>0</td>\n",
       "      <td>not_start</td>\n",
       "    </tr>\n",
       "  </tbody>\n",
       "</table>\n",
       "</div>"
      ],
      "text/plain": [
       "       user_id            reg_time         t_start_time t_finish_time  \\\n",
       "378      28210 2018-01-11 16:50:20  2018-01-12 00:06:23             0   \n",
       "11081    38913 2018-07-18 19:21:10                    0             0   \n",
       "\n",
       "      lvl_choice_time pk_choice_time purch_time tut_done_or_not_start  \n",
       "378                 0              0          0                  None  \n",
       "11081               0              0          0             not_start  "
      ]
     },
     "execution_count": 10,
     "metadata": {},
     "output_type": "execute_result"
    }
   ],
   "source": [
    "#создание нового столбца по условию закончил пользователь обучение или не начинал\n",
    "def func1(row):\n",
    "    if row.t_finish_time != 0:\n",
    "        return \"done\"\n",
    "    if row.t_start_time == 0:\n",
    "        return \"not_start\"\n",
    "\n",
    "tut_done_or_not_start = m5.apply(lambda row: func1(row), axis=1)  \n",
    "  \n",
    "m5['tut_done_or_not_start'] = tut_done_or_not_start\n",
    "m5.sample(2)"
   ]
  },
  {
   "cell_type": "code",
   "execution_count": 11,
   "metadata": {},
   "outputs": [
    {
     "data": {
      "text/html": [
       "<div>\n",
       "<style scoped>\n",
       "    .dataframe tbody tr th:only-of-type {\n",
       "        vertical-align: middle;\n",
       "    }\n",
       "\n",
       "    .dataframe tbody tr th {\n",
       "        vertical-align: top;\n",
       "    }\n",
       "\n",
       "    .dataframe thead th {\n",
       "        text-align: right;\n",
       "    }\n",
       "</style>\n",
       "<table border=\"1\" class=\"dataframe\">\n",
       "  <thead>\n",
       "    <tr style=\"text-align: right;\">\n",
       "      <th></th>\n",
       "      <th>user_id</th>\n",
       "      <th>reg_time</th>\n",
       "      <th>t_start_time</th>\n",
       "      <th>t_finish_time</th>\n",
       "      <th>lvl_choice_time</th>\n",
       "      <th>pk_choice_time</th>\n",
       "      <th>purch_time</th>\n",
       "      <th>tut_done_or_not_start</th>\n",
       "      <th>lvl_pk</th>\n",
       "      <th>purch_pk</th>\n",
       "    </tr>\n",
       "  </thead>\n",
       "  <tbody>\n",
       "    <tr>\n",
       "      <th>5837</th>\n",
       "      <td>33669</td>\n",
       "      <td>2018-04-07 12:18:05</td>\n",
       "      <td>2018-04-07 17:15:29</td>\n",
       "      <td>2018-04-07 17:20:45</td>\n",
       "      <td>2018-04-07 20:12:30</td>\n",
       "      <td>0</td>\n",
       "      <td>0</td>\n",
       "      <td>done</td>\n",
       "      <td>NaT</td>\n",
       "      <td>NaT</td>\n",
       "    </tr>\n",
       "    <tr>\n",
       "      <th>6077</th>\n",
       "      <td>33909</td>\n",
       "      <td>2018-04-12 10:06:06</td>\n",
       "      <td>0</td>\n",
       "      <td>0</td>\n",
       "      <td>0</td>\n",
       "      <td>0</td>\n",
       "      <td>0</td>\n",
       "      <td>not_start</td>\n",
       "      <td>NaT</td>\n",
       "      <td>NaT</td>\n",
       "    </tr>\n",
       "  </tbody>\n",
       "</table>\n",
       "</div>"
      ],
      "text/plain": [
       "      user_id            reg_time         t_start_time        t_finish_time  \\\n",
       "5837    33669 2018-04-07 12:18:05  2018-04-07 17:15:29  2018-04-07 17:20:45   \n",
       "6077    33909 2018-04-12 10:06:06                    0                    0   \n",
       "\n",
       "          lvl_choice_time pk_choice_time purch_time tut_done_or_not_start  \\\n",
       "5837  2018-04-07 20:12:30              0          0                  done   \n",
       "6077                    0              0          0             not_start   \n",
       "\n",
       "     lvl_pk purch_pk  \n",
       "5837    NaT      NaT  \n",
       "6077    NaT      NaT  "
      ]
     },
     "execution_count": 11,
     "metadata": {},
     "output_type": "execute_result"
    }
   ],
   "source": [
    "# создание нового столбца с разницей во времени между этапами выбора уровня и выбора пакета\n",
    "def func2(row):\n",
    "    if row.lvl_choice_time != 0 and row.pk_choice_time != 0:\n",
    "        return (row.pk_choice_time - row.lvl_choice_time)\n",
    "\n",
    "lvl_pk = m5.apply(lambda row: func2(row), axis=1)  \n",
    "m5['lvl_pk'] = lvl_pk\n",
    "\n",
    "# создание нового столбца с разницей во времени между этапами выбора пакета и оплатой\n",
    "def func3(row):\n",
    "    if row.pk_choice_time != 0 and row.purch_time != 0:\n",
    "        return (row.purch_time - row.pk_choice_time)\n",
    "\n",
    "purch_pk = m5.apply(lambda row: func3(row), axis=1)  \n",
    "m5['purch_pk'] = purch_pk\n",
    "\n",
    "m5.sample(2)"
   ]
  },
  {
   "cell_type": "code",
   "execution_count": 12,
   "metadata": {},
   "outputs": [
    {
     "name": "stdout",
     "output_type": "stream",
     "text": [
      "0 days 00:05:18.146058732  - средняя разница во времени между этапами выбора уровня и выбора пакета у тех, кто завершил обучение\n",
      "0 days 00:05:23.824324324 - средняя разница во времени между этапами выбора уровня и выбора пакета у тех, кто обучение не начинал\n"
     ]
    }
   ],
   "source": [
    "# создаем дф, удаляем пропуски \n",
    "m6 = m5[['user_id','tut_done_or_not_start','lvl_pk']].dropna()\n",
    "\n",
    "m7 = m6[m6['tut_done_or_not_start']=='done']\n",
    "print(m7.lvl_pk.mean(),' - средняя разница во времени между этапами выбора уровня и выбора пакета у тех, кто завершил обучение')\n",
    "\n",
    "m8 = m6[m6['tut_done_or_not_start']=='not_start']\n",
    "print(m8.lvl_pk.mean(),'- средняя разница во времени между этапами выбора уровня и выбора пакета у тех, кто обучение не начинал')"
   ]
  },
  {
   "cell_type": "code",
   "execution_count": 13,
   "metadata": {},
   "outputs": [
    {
     "data": {
      "image/png": "[encoded data removed]",
      "text/plain": [
       "<Figure size 432x288 with 1 Axes>"
      ]
     },
     "metadata": {
      "needs_background": "light"
     },
     "output_type": "display_data"
    }
   ],
   "source": [
    "# количество секунд\n",
    "m7_sec = np.timedelta64(m7.lvl_pk.mean(),'s') / np.timedelta64(1, 's') \n",
    "m8_sec = np.timedelta64(m8.lvl_pk.mean(),'s') / np.timedelta64(1, 's')\n",
    "\n",
    "#построение графика\n",
    "df = pd.DataFrame([['done', m7_sec],\n",
    "                  ['not_start', m8_sec]], \n",
    "columns=['tutorial','lvl_pk'])\n",
    "\n",
    "ax = df['lvl_pk'].plot(kind = 'bar', grid = True, color='firebrick')\n",
    "ax.set_title('Cредняя разница во времени между этапами выбора уровня и выбора пакета', fontdict={'size':14})\n",
    "ax.set(ylabel='Время в секундах', ylim=(300, 330))\n",
    "_ = plt.xticks(df.index, df.tutorial, rotation=0, horizontalalignment='right', fontsize=12)"
   ]
  },
  {
   "cell_type": "markdown",
   "metadata": {},
   "source": [
    "#### Сравнение времени меэжу этапом выбора уровня сложности и выбора пакета:\n",
    "Средняя разница во времени между этами выбора уровня и выбора пакета для пользователей прошедших обучений и даже не начинавших его не слишком сильно разнится между собой (отклонение около 1,5%) и составляет 318 и 323 секунды соответственно."
   ]
  },
  {
   "cell_type": "code",
   "execution_count": 14,
   "metadata": {},
   "outputs": [
    {
     "name": "stdout",
     "output_type": "stream",
     "text": [
      "3 days 17:17:59.641326883 - средняя разница во времени между этапами выбора пакета и оплатой у тех, кто завершил обучение\n",
      "4 days 04:49:33.590909090 - средняя разница во времени между этапами выбора пакета и оплатой у тех, кто обучение не начинал\n"
     ]
    }
   ],
   "source": [
    "# создаем дф, удаляем пропуски \n",
    "m9 = m5[['user_id','tut_done_or_not_start','purch_pk']].dropna()\n",
    "\n",
    "m10 = m9[m9['tut_done_or_not_start']=='done']\n",
    "print(m10.purch_pk.mean(),'- средняя разница во времени между этапами выбора пакета и оплатой у тех, кто завершил обучение')\n",
    "\n",
    "m11 = m9[m9['tut_done_or_not_start']=='not_start']\n",
    "print(m11.purch_pk.mean(),'- средняя разница во времени между этапами выбора пакета и оплатой у тех, кто обучение не начинал')"
   ]
  },
  {
   "cell_type": "code",
   "execution_count": 15,
   "metadata": {},
   "outputs": [
    {
     "data": {
      "image/png": "[encoded data removed]",
      "text/plain": [
       "<Figure size 432x288 with 1 Axes>"
      ]
     },
     "metadata": {
      "needs_background": "light"
     },
     "output_type": "display_data"
    }
   ],
   "source": [
    "# количество часов\n",
    "m10_hour = round(np.timedelta64(m10.purch_pk.mean(),'s') / np.timedelta64(1, 's') / 3600, 1) \n",
    "m11_hour = round(np.timedelta64(m11.purch_pk.mean(),'s') / np.timedelta64(1, 's') / 3600, 1)\n",
    " \n",
    "#построение графика\n",
    "df = pd.DataFrame([['done', m10_hour],\n",
    "                  ['not_start', m11_hour]], \n",
    "columns=['tutorial','purch_pk'])\n",
    "\n",
    "ax = df['purch_pk'].plot(kind = 'bar', grid = True, color='firebrick')\n",
    "ax.set_title('Cредняя разница во времени между этапами выбора выбора пакета и оплатой', fontdict={'size':14})\n",
    "ax.set(ylabel='Время в часах', ylim=(50, 120))\n",
    "_ = plt.xticks(df.index, df.tutorial, rotation=0, horizontalalignment='right', fontsize=12)"
   ]
  },
  {
   "cell_type": "markdown",
   "metadata": {},
   "source": [
    "#### Сравнение времени между этапом выбора пакета и оплаты:\n",
    "Средняя разница во времени между этами выбора пакета и оплатой для пользователей прошедших обучений и даже не начинавших отличается довольно сильно между собой (отклонение около 13%) и составляет 89.3 и 100.8 часов соответственно."
   ]
  },
  {
   "cell_type": "markdown",
   "metadata": {},
   "source": [
    "### Вывод:\n",
    "**Успешное окончание пользователем обучения действительно влияет на время прохождение этапов в игре**.  \n",
    "\n",
    "Сравнение времени между этапами выбора уровня сложности и выбора пакета показало минимальное различие **~5 секунд (1,5%)**, в то время как сравнение времени между этапами выбора пакета и оплаты показало различие уже на **~11,5 часов (13%)**"
   ]
  },
  {
   "cell_type": "markdown",
   "metadata": {},
   "source": [
    "## Задание №2\n",
    "Посмотреть, существует ли зависимость между вероятностью оплаты вопросов и количеством обучений, которые начинал или завершал пользователь."
   ]
  },
  {
   "cell_type": "markdown",
   "metadata": {},
   "source": [
    "Пояснение к ходу решения задания:  \n",
    "\n",
    "По общему условию интересуют только те пользователи, которые зарегистрировались в 2018г."
   ]
  },
  {
   "cell_type": "code",
   "execution_count": 16,
   "metadata": {},
   "outputs": [
    {
     "data": {
      "text/html": [
       "<div>\n",
       "<style scoped>\n",
       "    .dataframe tbody tr th:only-of-type {\n",
       "        vertical-align: middle;\n",
       "    }\n",
       "\n",
       "    .dataframe tbody tr th {\n",
       "        vertical-align: top;\n",
       "    }\n",
       "\n",
       "    .dataframe thead th {\n",
       "        text-align: right;\n",
       "    }\n",
       "</style>\n",
       "<table border=\"1\" class=\"dataframe\">\n",
       "  <thead>\n",
       "    <tr style=\"text-align: right;\">\n",
       "      <th></th>\n",
       "      <th>event_id</th>\n",
       "      <th>event_type</th>\n",
       "      <th>selected_level</th>\n",
       "      <th>start_time</th>\n",
       "      <th>tutorial_id</th>\n",
       "      <th>user_id</th>\n",
       "      <th>purchase_id</th>\n",
       "      <th>event_datetime</th>\n",
       "      <th>amount</th>\n",
       "    </tr>\n",
       "  </thead>\n",
       "  <tbody>\n",
       "    <tr>\n",
       "      <th>60101</th>\n",
       "      <td>140398.0</td>\n",
       "      <td>registration</td>\n",
       "      <td>NaN</td>\n",
       "      <td>2018-11-28 10:14:26</td>\n",
       "      <td>NaN</td>\n",
       "      <td>45785</td>\n",
       "      <td>NaN</td>\n",
       "      <td>NaT</td>\n",
       "      <td>NaN</td>\n",
       "    </tr>\n",
       "    <tr>\n",
       "      <th>706</th>\n",
       "      <td>81013.0</td>\n",
       "      <td>tutorial_finish</td>\n",
       "      <td>NaN</td>\n",
       "      <td>2018-01-09 16:17:19</td>\n",
       "      <td>31689.0</td>\n",
       "      <td>28070</td>\n",
       "      <td>NaN</td>\n",
       "      <td>NaT</td>\n",
       "      <td>NaN</td>\n",
       "    </tr>\n",
       "  </tbody>\n",
       "</table>\n",
       "</div>"
      ],
      "text/plain": [
       "       event_id       event_type selected_level          start_time  \\\n",
       "60101  140398.0     registration            NaN 2018-11-28 10:14:26   \n",
       "706     81013.0  tutorial_finish            NaN 2018-01-09 16:17:19   \n",
       "\n",
       "       tutorial_id  user_id  purchase_id event_datetime  amount  \n",
       "60101          NaN    45785          NaN            NaT     NaN  \n",
       "706        31689.0    28070          NaN            NaT     NaN  "
      ]
     },
     "execution_count": 16,
     "metadata": {},
     "output_type": "execute_result"
    }
   ],
   "source": [
    "total_event_reg_2018.sample(2)"
   ]
  },
  {
   "cell_type": "code",
   "execution_count": 17,
   "metadata": {},
   "outputs": [],
   "source": [
    "# список тех, кто начинал обучение\n",
    "us_start_tut = set(total_event_reg_2018[total_event_reg_2018['event_type']=='tutorial_start'].user_id)\n",
    "\n",
    "# список тех, кто закончил обучение\n",
    "us_finish_tut = set(total_event_reg_2018[total_event_reg_2018['event_type']=='tutorial_finish'].user_id)\n",
    "\n",
    "# список тех, кто НЕ начинал обучение\n",
    "all_users = set (total_event_reg_2018['user_id'])\n",
    "us_not_start_tut = all_users.difference(us_start_tut)\n",
    "\n",
    "# список тех, кто начинал обучение, но не закончил его \n",
    "us_not_finish_tut = us_start_tut.difference(us_finish_tut)"
   ]
  },
  {
   "cell_type": "code",
   "execution_count": 18,
   "metadata": {},
   "outputs": [
    {
     "name": "stdout",
     "output_type": "stream",
     "text": [
      "1600 - количество пользователей, совершивших оплату\n",
      "8.03 - процент пользователей, совершивших оплату от общего количества пользователей\n"
     ]
    }
   ],
   "source": [
    "pay = total_event_reg_2018[total_event_reg_2018.event_type == 'purchase']\n",
    "a = pay.user_id.nunique()\n",
    "print('{} - количество пользователей, совершивших оплату'.format(a)) \n",
    "aa = total_event_reg_2018.user_id.nunique()\n",
    "print('{} - процент пользователей, совершивших оплату от общего количества пользователей'.format(round(a/aa*100,2))) "
   ]
  },
  {
   "cell_type": "code",
   "execution_count": 19,
   "metadata": {},
   "outputs": [
    {
     "name": "stdout",
     "output_type": "stream",
     "text": [
      "1578 - количество пользователей, начинавших обучение и совершавших оплату\n",
      "13.31 - процент пользователей, совершивших оплату из тех, кто начал обучение\n"
     ]
    }
   ],
   "source": [
    "#  количество пользователей, начинавших обучение и совершавших оплату\n",
    "us_tut_start_pay = pay[pay.user_id.isin(us_start_tut)].user_id.unique() \n",
    "b = pay[pay.user_id.isin(us_start_tut)].user_id.nunique()\n",
    "print('{} - количество пользователей, начинавших обучение и совершавших оплату'.format(b))\n",
    "print('{} - процент пользователей, совершивших оплату из тех, кто начал обучение'.format(round(b/len(us_start_tut)*100,2)))"
   ]
  },
  {
   "cell_type": "code",
   "execution_count": 20,
   "metadata": {},
   "outputs": [
    {
     "name": "stdout",
     "output_type": "stream",
     "text": [
      "1447 - количество пользователей, закончивших обучение и совершавших оплату\n",
      "14.12 - процент пользователей, совершивших оплату из тех, кто закончил обучение\n"
     ]
    }
   ],
   "source": [
    "#  количество пользователей, закончивших обучение и совершавших оплату\n",
    "us_tut_finish_pay = pay[pay.user_id.isin(us_finish_tut)].user_id.unique() \n",
    "c = pay[pay.user_id.isin(us_finish_tut)].user_id.nunique() \n",
    "print('{} - количество пользователей, закончивших обучение и совершавших оплату'.format(c))\n",
    "print('{} - процент пользователей, совершивших оплату из тех, кто закончил обучение'.format(round(c/len(us_finish_tut)*100,2)))"
   ]
  },
  {
   "cell_type": "code",
   "execution_count": 21,
   "metadata": {},
   "outputs": [
    {
     "name": "stdout",
     "output_type": "stream",
     "text": [
      "22 - количество пользователей, не начинавших обучение и совершавших оплату\n",
      "0.27 - процент пользователей, совершивших оплату из тех, кто не начинал обучение\n"
     ]
    }
   ],
   "source": [
    "#  количество пользователей, НЕ начинавших обучение и совершавших оплату\n",
    "d = pay[pay.user_id.isin(us_not_start_tut)].user_id.nunique()\n",
    "print('{} - количество пользователей, не начинавших обучение и совершавших оплату'.format(d))\n",
    "print('{} - процент пользователей, совершивших оплату из тех, кто не начинал обучение'.format(round(d/len(us_not_start_tut)*100,2)))"
   ]
  },
  {
   "cell_type": "code",
   "execution_count": 22,
   "metadata": {},
   "outputs": [
    {
     "name": "stdout",
     "output_type": "stream",
     "text": [
      "131 - количество пользователей, начавших, но не закончивших обучение и совершавших оплату\n",
      "8.15 - процент пользователей, совершивших оплату из тех, кто начинал обучение, он не закончил его\n"
     ]
    }
   ],
   "source": [
    "#  количество пользователей, начинавших обучение, но не закончивших его и совершавших оплату\n",
    "e = pay[pay.user_id.isin(us_not_finish_tut)].user_id.nunique()\n",
    "print('{} - количество пользователей, начавших, но не закончивших обучение и совершавших оплату'.format(e))\n",
    "print('{} - процент пользователей, совершивших оплату из тех, кто начинал обучение, он не закончил его'.format(round(e/len(us_not_finish_tut)*100,2)))"
   ]
  },
  {
   "cell_type": "code",
   "execution_count": 23,
   "metadata": {},
   "outputs": [],
   "source": [
    "# дф с оплатившими пользователями, начинавшие обучение\n",
    "t1 = total_event_reg_2018[(total_event_reg_2018['event_type'] == 'tutorial_start') & \\\n",
    "                          (total_event_reg_2018.user_id.isin(us_tut_start_pay))]"
   ]
  },
  {
   "cell_type": "code",
   "execution_count": 24,
   "metadata": {},
   "outputs": [],
   "source": [
    "# оплатившие, начинавшие учиться \n",
    "t1_gr = t1.groupby('user_id').agg({'event_type':'count'}).reset_index(drop=False)\n",
    "t1_gr_gr = t1_gr.groupby('event_type').agg({'user_id':'count'}).reset_index(drop=False)"
   ]
  },
  {
   "cell_type": "code",
   "execution_count": 25,
   "metadata": {},
   "outputs": [],
   "source": [
    "t2 = total_event_reg_2018[(total_event_reg_2018['event_type'] == 'tutorial_start')]\n",
    "t2_gr = t2.groupby('user_id').agg({'event_type':'count'}).reset_index(drop=False)\n",
    "t2_gr_gr = t2_gr.groupby('event_type').agg({'user_id':'count'}).reset_index(drop=False)"
   ]
  },
  {
   "cell_type": "code",
   "execution_count": 26,
   "metadata": {},
   "outputs": [
    {
     "data": {
      "text/html": [
       "<div>\n",
       "<style scoped>\n",
       "    .dataframe tbody tr th:only-of-type {\n",
       "        vertical-align: middle;\n",
       "    }\n",
       "\n",
       "    .dataframe tbody tr th {\n",
       "        vertical-align: top;\n",
       "    }\n",
       "\n",
       "    .dataframe thead th {\n",
       "        text-align: right;\n",
       "    }\n",
       "</style>\n",
       "<table border=\"1\" class=\"dataframe\">\n",
       "  <thead>\n",
       "    <tr style=\"text-align: right;\">\n",
       "      <th></th>\n",
       "      <th>tutorial_start_count</th>\n",
       "      <th>us_pay_count</th>\n",
       "      <th>us_count</th>\n",
       "      <th>percent_pay</th>\n",
       "    </tr>\n",
       "  </thead>\n",
       "  <tbody>\n",
       "    <tr>\n",
       "      <th>0</th>\n",
       "      <td>1</td>\n",
       "      <td>1207</td>\n",
       "      <td>9103</td>\n",
       "      <td>13.259365</td>\n",
       "    </tr>\n",
       "    <tr>\n",
       "      <th>1</th>\n",
       "      <td>2</td>\n",
       "      <td>218</td>\n",
       "      <td>1589</td>\n",
       "      <td>13.719320</td>\n",
       "    </tr>\n",
       "    <tr>\n",
       "      <th>2</th>\n",
       "      <td>3</td>\n",
       "      <td>51</td>\n",
       "      <td>427</td>\n",
       "      <td>11.943794</td>\n",
       "    </tr>\n",
       "    <tr>\n",
       "      <th>3</th>\n",
       "      <td>4</td>\n",
       "      <td>30</td>\n",
       "      <td>221</td>\n",
       "      <td>13.574661</td>\n",
       "    </tr>\n",
       "    <tr>\n",
       "      <th>4</th>\n",
       "      <td>5</td>\n",
       "      <td>16</td>\n",
       "      <td>109</td>\n",
       "      <td>14.678899</td>\n",
       "    </tr>\n",
       "    <tr>\n",
       "      <th>5</th>\n",
       "      <td>6</td>\n",
       "      <td>14</td>\n",
       "      <td>116</td>\n",
       "      <td>12.068966</td>\n",
       "    </tr>\n",
       "    <tr>\n",
       "      <th>6</th>\n",
       "      <td>7</td>\n",
       "      <td>12</td>\n",
       "      <td>94</td>\n",
       "      <td>12.765957</td>\n",
       "    </tr>\n",
       "    <tr>\n",
       "      <th>7</th>\n",
       "      <td>8</td>\n",
       "      <td>13</td>\n",
       "      <td>86</td>\n",
       "      <td>15.116279</td>\n",
       "    </tr>\n",
       "    <tr>\n",
       "      <th>8</th>\n",
       "      <td>9</td>\n",
       "      <td>17</td>\n",
       "      <td>113</td>\n",
       "      <td>15.044248</td>\n",
       "    </tr>\n",
       "  </tbody>\n",
       "</table>\n",
       "</div>"
      ],
      "text/plain": [
       "   tutorial_start_count  us_pay_count  us_count  percent_pay\n",
       "0                     1          1207      9103    13.259365\n",
       "1                     2           218      1589    13.719320\n",
       "2                     3            51       427    11.943794\n",
       "3                     4            30       221    13.574661\n",
       "4                     5            16       109    14.678899\n",
       "5                     6            14       116    12.068966\n",
       "6                     7            12        94    12.765957\n",
       "7                     8            13        86    15.116279\n",
       "8                     9            17       113    15.044248"
      ]
     },
     "execution_count": 26,
     "metadata": {},
     "output_type": "execute_result"
    }
   ],
   "source": [
    "# зависимость процента оплаты от количества начатых обучений пользователем\n",
    "merge_t1_t2 = pd.merge(t1_gr_gr, t2_gr_gr, on='event_type')\n",
    "merge_t1_t2.columns = ['tutorial_start_count', 'us_pay_count', 'us_count']\n",
    "merge_t1_t2['percent_pay'] = merge_t1_t2['us_pay_count'] / merge_t1_t2['us_count'] *100\n",
    "merge_t1_t2"
   ]
  },
  {
   "cell_type": "code",
   "execution_count": 27,
   "metadata": {},
   "outputs": [
    {
     "data": {
      "text/plain": [
       "0.437441280304913"
      ]
     },
     "execution_count": 27,
     "metadata": {},
     "output_type": "execute_result"
    }
   ],
   "source": [
    "# коэффициент корреляции между количеством начатых обучений пользователем и процентом оплаты\n",
    "np.corrcoef(merge_t1_t2.tutorial_start_count, merge_t1_t2.percent_pay)[1][0]"
   ]
  },
  {
   "cell_type": "code",
   "execution_count": 28,
   "metadata": {},
   "outputs": [
    {
     "data": {
      "image/png": "[encoded data removed]",
      "text/plain": [
       "<Figure size 432x288 with 1 Axes>"
      ]
     },
     "metadata": {
      "needs_background": "light"
     },
     "output_type": "display_data"
    }
   ],
   "source": [
    "ax = merge_t1_t2['percent_pay'].plot(kind = 'bar', grid = True, color='blueviolet')\n",
    "ax.set_title('Процент оплат в зависимости от количества начинаемых обучений', fontdict={'size':14})\n",
    "ax.set(ylabel='Процент оплат', xlabel='Количество начатых обучений')\n",
    "_ = plt.xticks(merge_t1_t2.index, merge_t1_t2.tutorial_start_count, rotation=0, horizontalalignment='right', fontsize=12)"
   ]
  },
  {
   "cell_type": "code",
   "execution_count": 29,
   "metadata": {},
   "outputs": [],
   "source": [
    "# дф с оплатившими пользователями, закончившие обучение\n",
    "t3 = total_event_reg_2018[(total_event_reg_2018['event_type'] == 'tutorial_finish') & \\\n",
    "                          (total_event_reg_2018.user_id.isin(us_tut_finish_pay))]"
   ]
  },
  {
   "cell_type": "code",
   "execution_count": 30,
   "metadata": {},
   "outputs": [],
   "source": [
    "# оплатившие, закончившие учиться \n",
    "t3_gr = t3.groupby('user_id').agg({'event_type':'count'}).reset_index(drop=False)\n",
    "t3_gr_gr = t3_gr.groupby('event_type').agg({'user_id':'count'}).reset_index(drop=False)"
   ]
  },
  {
   "cell_type": "code",
   "execution_count": 31,
   "metadata": {},
   "outputs": [],
   "source": [
    "t4 = total_event_reg_2018[(total_event_reg_2018['event_type'] == 'tutorial_finish')]\n",
    "t4_gr = t4.groupby('user_id').agg({'event_type':'count'}).reset_index(drop=False)\n",
    "t4_gr_gr = t2_gr.groupby('event_type').agg({'user_id':'count'}).reset_index(drop=False)"
   ]
  },
  {
   "cell_type": "code",
   "execution_count": 32,
   "metadata": {},
   "outputs": [
    {
     "data": {
      "text/html": [
       "<div>\n",
       "<style scoped>\n",
       "    .dataframe tbody tr th:only-of-type {\n",
       "        vertical-align: middle;\n",
       "    }\n",
       "\n",
       "    .dataframe tbody tr th {\n",
       "        vertical-align: top;\n",
       "    }\n",
       "\n",
       "    .dataframe thead th {\n",
       "        text-align: right;\n",
       "    }\n",
       "</style>\n",
       "<table border=\"1\" class=\"dataframe\">\n",
       "  <thead>\n",
       "    <tr style=\"text-align: right;\">\n",
       "      <th></th>\n",
       "      <th>tutorial_finish_count</th>\n",
       "      <th>us_pay_count</th>\n",
       "      <th>us_count</th>\n",
       "      <th>percent_pay</th>\n",
       "    </tr>\n",
       "  </thead>\n",
       "  <tbody>\n",
       "    <tr>\n",
       "      <th>0</th>\n",
       "      <td>1</td>\n",
       "      <td>1143</td>\n",
       "      <td>9103</td>\n",
       "      <td>12.556300</td>\n",
       "    </tr>\n",
       "    <tr>\n",
       "      <th>1</th>\n",
       "      <td>2</td>\n",
       "      <td>182</td>\n",
       "      <td>1589</td>\n",
       "      <td>11.453744</td>\n",
       "    </tr>\n",
       "    <tr>\n",
       "      <th>2</th>\n",
       "      <td>3</td>\n",
       "      <td>44</td>\n",
       "      <td>427</td>\n",
       "      <td>10.304450</td>\n",
       "    </tr>\n",
       "    <tr>\n",
       "      <th>3</th>\n",
       "      <td>4</td>\n",
       "      <td>19</td>\n",
       "      <td>221</td>\n",
       "      <td>8.597285</td>\n",
       "    </tr>\n",
       "    <tr>\n",
       "      <th>4</th>\n",
       "      <td>5</td>\n",
       "      <td>19</td>\n",
       "      <td>109</td>\n",
       "      <td>17.431193</td>\n",
       "    </tr>\n",
       "    <tr>\n",
       "      <th>5</th>\n",
       "      <td>6</td>\n",
       "      <td>15</td>\n",
       "      <td>116</td>\n",
       "      <td>12.931034</td>\n",
       "    </tr>\n",
       "    <tr>\n",
       "      <th>6</th>\n",
       "      <td>7</td>\n",
       "      <td>15</td>\n",
       "      <td>94</td>\n",
       "      <td>15.957447</td>\n",
       "    </tr>\n",
       "    <tr>\n",
       "      <th>7</th>\n",
       "      <td>8</td>\n",
       "      <td>6</td>\n",
       "      <td>86</td>\n",
       "      <td>6.976744</td>\n",
       "    </tr>\n",
       "    <tr>\n",
       "      <th>8</th>\n",
       "      <td>9</td>\n",
       "      <td>4</td>\n",
       "      <td>113</td>\n",
       "      <td>3.539823</td>\n",
       "    </tr>\n",
       "  </tbody>\n",
       "</table>\n",
       "</div>"
      ],
      "text/plain": [
       "   tutorial_finish_count  us_pay_count  us_count  percent_pay\n",
       "0                      1          1143      9103    12.556300\n",
       "1                      2           182      1589    11.453744\n",
       "2                      3            44       427    10.304450\n",
       "3                      4            19       221     8.597285\n",
       "4                      5            19       109    17.431193\n",
       "5                      6            15       116    12.931034\n",
       "6                      7            15        94    15.957447\n",
       "7                      8             6        86     6.976744\n",
       "8                      9             4       113     3.539823"
      ]
     },
     "execution_count": 32,
     "metadata": {},
     "output_type": "execute_result"
    }
   ],
   "source": [
    "# зависимость процента оплаты от количества завершенных обучений пользователем\n",
    "merge_t3_t4 = pd.merge(t3_gr_gr, t4_gr_gr, on='event_type')\n",
    "merge_t3_t4.columns = ['tutorial_finish_count', 'us_pay_count', 'us_count']\n",
    "merge_t3_t4['percent_pay'] = merge_t3_t4['us_pay_count'] / merge_t3_t4['us_count'] *100\n",
    "merge_t3_t4"
   ]
  },
  {
   "cell_type": "code",
   "execution_count": 33,
   "metadata": {},
   "outputs": [
    {
     "data": {
      "text/plain": [
       "-0.3564952937520809"
      ]
     },
     "execution_count": 33,
     "metadata": {},
     "output_type": "execute_result"
    }
   ],
   "source": [
    "# коэффициент корреляции между количеством завершенных обучений пользователем и процентом оплаты\n",
    "np.corrcoef(merge_t3_t4.tutorial_finish_count, merge_t3_t4.percent_pay)[1][0]"
   ]
  },
  {
   "cell_type": "code",
   "execution_count": 34,
   "metadata": {},
   "outputs": [
    {
     "data": {
      "image/png": "[encoded data removed]",
      "text/plain": [
       "<Figure size 432x288 with 1 Axes>"
      ]
     },
     "metadata": {
      "needs_background": "light"
     },
     "output_type": "display_data"
    }
   ],
   "source": [
    "ax = merge_t3_t4['percent_pay'].plot(kind = 'bar', grid = True, color='blueviolet')\n",
    "ax.set_title('Процент оплат в зависимости от количества законченных обучений', fontdict={'size':14})\n",
    "ax.set(ylabel='Процент оплат', xlabel='Количество законченных обучений')\n",
    "_ = plt.xticks(merge_t3_t4.index, merge_t3_t4.tutorial_finish_count, rotation=0, horizontalalignment='right', fontsize=12)"
   ]
  },
  {
   "cell_type": "markdown",
   "metadata": {},
   "source": [
    "### Вывод:\n",
    "**Успешное окончание пользователем обучения само по себе влияет на вероятность оплаты**.\n",
    "\n",
    "**~99%** из всех пользователей, совершивших оплату - начали обучение хотя бы 1 раз.   \n",
    "**~90%** из всех пользователей, совершивших оплату - закончили обучение хотя бы 1 раз.   \n",
    "Только **~8%** пользователей, совершивших оплату, начали, но не закончили обучение.\n",
    "\n",
    "Существует слабая корреляция (**~0.44**) между количеством начатых обучений и вероятностью оплаты.  \n",
    "Так же существует слабая обратная корреляция (**~-0.36**) между количеством законченных обучений и вероятностью оплаты."
   ]
  },
  {
   "cell_type": "markdown",
   "metadata": {},
   "source": [
    "## Задание №3\n",
    "Как часто пользователи начинают обучение после того, как они выбрали уровень сложности?   \n",
    "Это позволит нам понять, насколько прозрачен процесс взаимодействия с игрой: если пользователи после выбора уровня сложности обращаются к обучению, значит, работа с приложением непонятна."
   ]
  },
  {
   "cell_type": "code",
   "execution_count": 35,
   "metadata": {},
   "outputs": [
    {
     "data": {
      "text/html": [
       "<div>\n",
       "<style scoped>\n",
       "    .dataframe tbody tr th:only-of-type {\n",
       "        vertical-align: middle;\n",
       "    }\n",
       "\n",
       "    .dataframe tbody tr th {\n",
       "        vertical-align: top;\n",
       "    }\n",
       "\n",
       "    .dataframe thead th {\n",
       "        text-align: right;\n",
       "    }\n",
       "</style>\n",
       "<table border=\"1\" class=\"dataframe\">\n",
       "  <thead>\n",
       "    <tr style=\"text-align: right;\">\n",
       "      <th></th>\n",
       "      <th>user_id</th>\n",
       "      <th>start_time</th>\n",
       "    </tr>\n",
       "  </thead>\n",
       "  <tbody>\n",
       "    <tr>\n",
       "      <th>0</th>\n",
       "      <td>27833</td>\n",
       "      <td>2018-01-01 17:47:40</td>\n",
       "    </tr>\n",
       "    <tr>\n",
       "      <th>1</th>\n",
       "      <td>27834</td>\n",
       "      <td>2018-01-01 19:46:11</td>\n",
       "    </tr>\n",
       "  </tbody>\n",
       "</table>\n",
       "</div>"
      ],
      "text/plain": [
       "   user_id          start_time\n",
       "0    27833 2018-01-01 17:47:40\n",
       "1    27834 2018-01-01 19:46:11"
      ]
     },
     "metadata": {},
     "output_type": "display_data"
    },
    {
     "data": {
      "text/html": [
       "<div>\n",
       "<style scoped>\n",
       "    .dataframe tbody tr th:only-of-type {\n",
       "        vertical-align: middle;\n",
       "    }\n",
       "\n",
       "    .dataframe tbody tr th {\n",
       "        vertical-align: top;\n",
       "    }\n",
       "\n",
       "    .dataframe thead th {\n",
       "        text-align: right;\n",
       "    }\n",
       "</style>\n",
       "<table border=\"1\" class=\"dataframe\">\n",
       "  <thead>\n",
       "    <tr style=\"text-align: right;\">\n",
       "      <th></th>\n",
       "      <th>user_id</th>\n",
       "      <th>start_time</th>\n",
       "    </tr>\n",
       "  </thead>\n",
       "  <tbody>\n",
       "    <tr>\n",
       "      <th>0</th>\n",
       "      <td>27835</td>\n",
       "      <td>2018-01-01 20:37:22</td>\n",
       "    </tr>\n",
       "    <tr>\n",
       "      <th>1</th>\n",
       "      <td>27839</td>\n",
       "      <td>2018-01-01 22:37:50</td>\n",
       "    </tr>\n",
       "  </tbody>\n",
       "</table>\n",
       "</div>"
      ],
      "text/plain": [
       "   user_id          start_time\n",
       "0    27835 2018-01-01 20:37:22\n",
       "1    27839 2018-01-01 22:37:50"
      ]
     },
     "metadata": {},
     "output_type": "display_data"
    }
   ],
   "source": [
    "# создаем дф с максимальным временем начала обучения\n",
    "t_start_max = total_event_reg_2018.query('event_type == \"tutorial_start\"').groupby('user_id', as_index = False).agg({'start_time' : 'max'})\n",
    "display(t_start.head(2))\n",
    "\n",
    "# создаем дф с минимальным временем выбора уровня\n",
    "lvl_choice = total_event_reg_2018.query('event_type == \"level_choice\"').groupby('user_id', as_index = False).agg({'start_time' : 'min'})\n",
    "display(lvl_choice.head(2))"
   ]
  },
  {
   "cell_type": "code",
   "execution_count": 36,
   "metadata": {},
   "outputs": [
    {
     "data": {
      "text/html": [
       "<div>\n",
       "<style scoped>\n",
       "    .dataframe tbody tr th:only-of-type {\n",
       "        vertical-align: middle;\n",
       "    }\n",
       "\n",
       "    .dataframe tbody tr th {\n",
       "        vertical-align: top;\n",
       "    }\n",
       "\n",
       "    .dataframe thead th {\n",
       "        text-align: right;\n",
       "    }\n",
       "</style>\n",
       "<table border=\"1\" class=\"dataframe\">\n",
       "  <thead>\n",
       "    <tr style=\"text-align: right;\">\n",
       "      <th></th>\n",
       "      <th>user_id</th>\n",
       "      <th>max_time_tutorial_start</th>\n",
       "      <th>min_time_level_choice</th>\n",
       "      <th>timedelta</th>\n",
       "    </tr>\n",
       "  </thead>\n",
       "  <tbody>\n",
       "    <tr>\n",
       "      <th>3548</th>\n",
       "      <td>36362</td>\n",
       "      <td>2018-05-30 14:48:19</td>\n",
       "      <td>2018-05-30 15:01:36</td>\n",
       "      <td>False</td>\n",
       "    </tr>\n",
       "    <tr>\n",
       "      <th>5938</th>\n",
       "      <td>42241</td>\n",
       "      <td>2018-10-03 18:23:30</td>\n",
       "      <td>2018-10-03 20:02:15</td>\n",
       "      <td>False</td>\n",
       "    </tr>\n",
       "    <tr>\n",
       "      <th>4109</th>\n",
       "      <td>37717</td>\n",
       "      <td>2018-06-23 17:00:19</td>\n",
       "      <td>2018-06-23 18:34:44</td>\n",
       "      <td>False</td>\n",
       "    </tr>\n",
       "  </tbody>\n",
       "</table>\n",
       "</div>"
      ],
      "text/plain": [
       "      user_id max_time_tutorial_start min_time_level_choice  timedelta\n",
       "3548    36362     2018-05-30 14:48:19   2018-05-30 15:01:36      False\n",
       "5938    42241     2018-10-03 18:23:30   2018-10-03 20:02:15      False\n",
       "4109    37717     2018-06-23 17:00:19   2018-06-23 18:34:44      False"
      ]
     },
     "execution_count": 36,
     "metadata": {},
     "output_type": "execute_result"
    }
   ],
   "source": [
    "# объединяем дф, оставляя только тех пользователей, кто выбирал уровень сложности и начинал обучение\n",
    "m12 = pd.merge(t_start_max, lvl_choice, on='user_id', how='inner')\n",
    "m12.columns = ['user_id', 'max_time_tutorial_start', 'min_time_level_choice']\n",
    "m12['timedelta'] = m12.max_time_tutorial_start > m12.min_time_level_choice\n",
    "\n",
    "m12.sample(3)"
   ]
  },
  {
   "cell_type": "code",
   "execution_count": 37,
   "metadata": {},
   "outputs": [
    {
     "name": "stdout",
     "output_type": "stream",
     "text": [
      "16.81 - процент пользователей, выбиравших начало обучения после выбора уровня сложности из всех пользователей, кто начинал обучение и выбирал уровень сложности\n"
     ]
    }
   ],
   "source": [
    "f = round(len(m12.query('timedelta == True')) / len(m12) * 100, 2)\n",
    "print('{} - процент пользователей, выбиравших начало обучения после выбора уровня сложности из всех пользователей, \\\n",
    "кто начинал обучение и выбирал уровень сложности'.format(f))"
   ]
  },
  {
   "cell_type": "markdown",
   "metadata": {},
   "source": [
    "### Вывод:\n",
    "**Работа с приложением понятна далеко не всем пользователям.**\n",
    "\n",
    "**~17%** из всех пользователей, начинавших обучение и выбиравших уровень сложности, выбрали уровень сложности раньше начала обучения, а следовательно работа с приложением понятна не до конца."
   ]
  }
 ],
 "metadata": {
  "kernelspec": {
   "display_name": "Python 3",
   "language": "python",
   "name": "python3"
  },
  "language_info": {
   "codemirror_mode": {
    "name": "ipython",
    "version": 3
   },
   "file_extension": ".py",
   "mimetype": "text/x-python",
   "name": "python",
   "nbconvert_exporter": "python",
   "pygments_lexer": "ipython3",
   "version": "3.8.5"
  }
 },
 "nbformat": 4,
 "nbformat_minor": 4
}
