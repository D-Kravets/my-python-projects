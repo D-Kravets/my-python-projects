{
 "cells": [
  {
   "cell_type": "markdown",
   "metadata": {},
   "source": [
    "## Задание - провести исследование и предобработку имеющихся данных по букмекерской компании с целью дальнейшей работы с данными\n",
    "Данные по букмекерской конмпании представлены в двух файлах:  \n",
    "- ***log.csv***  - данные по времени, ставкам и выигрышам по каждому пользователю\n",
    "- ***user.csv*** - данные по местонахождению и email адресу по каждому пользователю"
   ]
  },
  {
   "cell_type": "code",
   "execution_count": 1,
   "metadata": {},
   "outputs": [
    {
     "data": {
      "text/html": [
       "<div>\n",
       "<style scoped>\n",
       "    .dataframe tbody tr th:only-of-type {\n",
       "        vertical-align: middle;\n",
       "    }\n",
       "\n",
       "    .dataframe tbody tr th {\n",
       "        vertical-align: top;\n",
       "    }\n",
       "\n",
       "    .dataframe thead th {\n",
       "        text-align: right;\n",
       "    }\n",
       "</style>\n",
       "<table border=\"1\" class=\"dataframe\">\n",
       "  <thead>\n",
       "    <tr style=\"text-align: right;\">\n",
       "      <th></th>\n",
       "      <th>0</th>\n",
       "      <th>1</th>\n",
       "      <th>2</th>\n",
       "      <th>3</th>\n",
       "    </tr>\n",
       "  </thead>\n",
       "  <tbody>\n",
       "    <tr>\n",
       "      <th>0</th>\n",
       "      <td>Запись пользователя № - user_919</td>\n",
       "      <td>[2019-01-01 14:06:51</td>\n",
       "      <td>NaN</td>\n",
       "      <td>NaN</td>\n",
       "    </tr>\n",
       "    <tr>\n",
       "      <th>1</th>\n",
       "      <td>Запись пользователя № - user_973</td>\n",
       "      <td>[2019-01-01 14:51:16</td>\n",
       "      <td>NaN</td>\n",
       "      <td>NaN</td>\n",
       "    </tr>\n",
       "  </tbody>\n",
       "</table>\n",
       "</div>"
      ],
      "text/plain": [
       "                                  0                     1   2   3\n",
       "0  Запись пользователя № - user_919  [2019-01-01 14:06:51 NaN NaN\n",
       "1  Запись пользователя № - user_973  [2019-01-01 14:51:16 NaN NaN"
      ]
     },
     "metadata": {},
     "output_type": "display_data"
    },
    {
     "data": {
      "text/html": [
       "<div>\n",
       "<style scoped>\n",
       "    .dataframe tbody tr th:only-of-type {\n",
       "        vertical-align: middle;\n",
       "    }\n",
       "\n",
       "    .dataframe tbody tr th {\n",
       "        vertical-align: top;\n",
       "    }\n",
       "\n",
       "    .dataframe thead th {\n",
       "        text-align: right;\n",
       "    }\n",
       "</style>\n",
       "<table border=\"1\" class=\"dataframe\">\n",
       "  <thead>\n",
       "    <tr style=\"text-align: right;\">\n",
       "      <th></th>\n",
       "      <th>Юзверь</th>\n",
       "      <th>мейл</th>\n",
       "      <th>Гео</th>\n",
       "    </tr>\n",
       "  </thead>\n",
       "  <tbody>\n",
       "    <tr>\n",
       "      <th>0</th>\n",
       "      <td>User_943</td>\n",
       "      <td>Accumanst@gmail.com</td>\n",
       "      <td>Ижевск</td>\n",
       "    </tr>\n",
       "    <tr>\n",
       "      <th>1</th>\n",
       "      <td>User_908</td>\n",
       "      <td>Advismowr@mail.ru</td>\n",
       "      <td>Ижевск</td>\n",
       "    </tr>\n",
       "  </tbody>\n",
       "</table>\n",
       "</div>"
      ],
      "text/plain": [
       "     Юзверь                 мейл     Гео\n",
       "0  User_943  Accumanst@gmail.com  Ижевск\n",
       "1  User_908    Advismowr@mail.ru  Ижевск"
      ]
     },
     "metadata": {},
     "output_type": "display_data"
    }
   ],
   "source": [
    "import pandas as pd\n",
    "\n",
    "log = pd.read_csv('log.csv', header=None)\n",
    "display(log.head(2))\n",
    "\n",
    "users = pd.read_csv('users.csv', encoding='koi8-r', sep='\\t')\n",
    "display(users.head(2))"
   ]
  },
  {
   "cell_type": "markdown",
   "metadata": {},
   "source": [
    "Подготовка к работе файла ***log.csv*** :"
   ]
  },
  {
   "cell_type": "code",
   "execution_count": 2,
   "metadata": {},
   "outputs": [
    {
     "data": {
      "text/html": [
       "<div>\n",
       "<style scoped>\n",
       "    .dataframe tbody tr th:only-of-type {\n",
       "        vertical-align: middle;\n",
       "    }\n",
       "\n",
       "    .dataframe tbody tr th {\n",
       "        vertical-align: top;\n",
       "    }\n",
       "\n",
       "    .dataframe thead th {\n",
       "        text-align: right;\n",
       "    }\n",
       "</style>\n",
       "<table border=\"1\" class=\"dataframe\">\n",
       "  <thead>\n",
       "    <tr style=\"text-align: right;\">\n",
       "      <th></th>\n",
       "      <th>user_id</th>\n",
       "      <th>time</th>\n",
       "      <th>bet</th>\n",
       "      <th>win</th>\n",
       "      <th>net</th>\n",
       "    </tr>\n",
       "  </thead>\n",
       "  <tbody>\n",
       "    <tr>\n",
       "      <th>154</th>\n",
       "      <td>user_977</td>\n",
       "      <td>2019-01-16 06:04:59</td>\n",
       "      <td>0.0</td>\n",
       "      <td>0.0</td>\n",
       "      <td>0.0</td>\n",
       "    </tr>\n",
       "    <tr>\n",
       "      <th>185</th>\n",
       "      <td>user_992</td>\n",
       "      <td>2019-01-20 09:43:39</td>\n",
       "      <td>0.0</td>\n",
       "      <td>0.0</td>\n",
       "      <td>0.0</td>\n",
       "    </tr>\n",
       "  </tbody>\n",
       "</table>\n",
       "</div>"
      ],
      "text/plain": [
       "      user_id                time  bet  win  net\n",
       "154  user_977 2019-01-16 06:04:59  0.0  0.0  0.0\n",
       "185  user_992 2019-01-20 09:43:39  0.0  0.0  0.0"
      ]
     },
     "execution_count": 2,
     "metadata": {},
     "output_type": "execute_result"
    }
   ],
   "source": [
    "#переименование столбцов\n",
    "log.columns = ['user_id', 'time', 'bet', 'win']\n",
    "\n",
    "#заполнение пустых ячеек в столбцах \"bet\" и \"win\" нулями\n",
    "log.bet = log['bet'].fillna(0)\n",
    "log.win = log['win'].fillna(0)\n",
    "\n",
    "#создание столбца \"net\" - как результата по текущей ставке\n",
    "log['net'] = log['win'] - log['bet']\n",
    "\n",
    "#приведение столбца user_id к удобному виду \"user_***\" и удаление ошибочных данных \"#error\"\n",
    "log.user_id = log.user_id.apply(lambda x: x.replace('Запись пользователя № - ',''))\n",
    "log = log[log.user_id != '#error']\n",
    "\n",
    "#преобразование столбца \"time\" \n",
    "log.time = log.time.str.strip('[')\n",
    "log['time'] = pd.to_datetime(log['time'])\n",
    "\n",
    "log.sample(2)"
   ]
  },
  {
   "cell_type": "markdown",
   "metadata": {},
   "source": [
    "Подготовка к работе файла ***users.csv*** :"
   ]
  },
  {
   "cell_type": "code",
   "execution_count": 3,
   "metadata": {},
   "outputs": [
    {
     "data": {
      "text/html": [
       "<div>\n",
       "<style scoped>\n",
       "    .dataframe tbody tr th:only-of-type {\n",
       "        vertical-align: middle;\n",
       "    }\n",
       "\n",
       "    .dataframe tbody tr th {\n",
       "        vertical-align: top;\n",
       "    }\n",
       "\n",
       "    .dataframe thead th {\n",
       "        text-align: right;\n",
       "    }\n",
       "</style>\n",
       "<table border=\"1\" class=\"dataframe\">\n",
       "  <thead>\n",
       "    <tr style=\"text-align: right;\">\n",
       "      <th></th>\n",
       "      <th>user_id</th>\n",
       "      <th>email</th>\n",
       "      <th>geo</th>\n",
       "    </tr>\n",
       "  </thead>\n",
       "  <tbody>\n",
       "    <tr>\n",
       "      <th>96</th>\n",
       "      <td>user_901</td>\n",
       "      <td>V2artierso@mail.ru</td>\n",
       "      <td>Арзангелтск</td>\n",
       "    </tr>\n",
       "    <tr>\n",
       "      <th>61</th>\n",
       "      <td>user_942</td>\n",
       "      <td>Mailitry@ya.ru</td>\n",
       "      <td>Москва</td>\n",
       "    </tr>\n",
       "  </tbody>\n",
       "</table>\n",
       "</div>"
      ],
      "text/plain": [
       "     user_id               email          geo\n",
       "96  user_901  V2artierso@mail.ru  Арзангелтск\n",
       "61  user_942      Mailitry@ya.ru       Москва"
      ]
     },
     "execution_count": 3,
     "metadata": {},
     "output_type": "execute_result"
    }
   ],
   "source": [
    "#переименование столбцов\n",
    "users.columns = ['user_id', 'email', 'geo']\n",
    "\n",
    "#преобразование стобца \"user_id\" к одному виду с df log\n",
    "users.user_id = users.user_id.apply(lambda x: x.lower())\n",
    "users.sample(2)"
   ]
  },
  {
   "cell_type": "markdown",
   "metadata": {},
   "source": [
    "Объединение 2х получившихся датафреймов по полю ***user_id*** :"
   ]
  },
  {
   "cell_type": "code",
   "execution_count": 4,
   "metadata": {},
   "outputs": [
    {
     "data": {
      "text/html": [
       "<div>\n",
       "<style scoped>\n",
       "    .dataframe tbody tr th:only-of-type {\n",
       "        vertical-align: middle;\n",
       "    }\n",
       "\n",
       "    .dataframe tbody tr th {\n",
       "        vertical-align: top;\n",
       "    }\n",
       "\n",
       "    .dataframe thead th {\n",
       "        text-align: right;\n",
       "    }\n",
       "</style>\n",
       "<table border=\"1\" class=\"dataframe\">\n",
       "  <thead>\n",
       "    <tr style=\"text-align: right;\">\n",
       "      <th></th>\n",
       "      <th>user_id</th>\n",
       "      <th>time</th>\n",
       "      <th>bet</th>\n",
       "      <th>win</th>\n",
       "      <th>net</th>\n",
       "      <th>email</th>\n",
       "      <th>geo</th>\n",
       "    </tr>\n",
       "  </thead>\n",
       "  <tbody>\n",
       "    <tr>\n",
       "      <th>459</th>\n",
       "      <td>user_999</td>\n",
       "      <td>2019-02-02 15:28:36</td>\n",
       "      <td>0.0</td>\n",
       "      <td>0.0</td>\n",
       "      <td>0.0</td>\n",
       "      <td>Stacile@yahoo.com</td>\n",
       "      <td>Казань</td>\n",
       "    </tr>\n",
       "    <tr>\n",
       "      <th>471</th>\n",
       "      <td>user_982</td>\n",
       "      <td>2019-02-28 04:20:30</td>\n",
       "      <td>500.0</td>\n",
       "      <td>0.0</td>\n",
       "      <td>-500.0</td>\n",
       "      <td>Magazinetc@yahoo.com</td>\n",
       "      <td>Ставрополь</td>\n",
       "    </tr>\n",
       "  </tbody>\n",
       "</table>\n",
       "</div>"
      ],
      "text/plain": [
       "      user_id                time    bet  win    net                 email  \\\n",
       "459  user_999 2019-02-02 15:28:36    0.0  0.0    0.0     Stacile@yahoo.com   \n",
       "471  user_982 2019-02-28 04:20:30  500.0  0.0 -500.0  Magazinetc@yahoo.com   \n",
       "\n",
       "            geo  \n",
       "459      Казань  \n",
       "471  Ставрополь  "
      ]
     },
     "execution_count": 4,
     "metadata": {},
     "output_type": "execute_result"
    }
   ],
   "source": [
    "log_us = pd.merge(log, users, how = 'inner', on = 'user_id')\n",
    "log_us.sample(2)"
   ]
  },
  {
   "cell_type": "markdown",
   "metadata": {},
   "source": [
    "### Задание:\n",
    "Сколько раз пользователи приходили в букмекерскую контору в каждом городе?"
   ]
  },
  {
   "cell_type": "code",
   "execution_count": 5,
   "metadata": {},
   "outputs": [
    {
     "data": {
      "text/plain": [
       "geo\n",
       "Санкт-Петербург    115\n",
       "Арзангелтск         96\n",
       "Ярославль           89\n",
       "Воронеж             88\n",
       "Краснодар           86\n",
       "Казань              66\n",
       "Москва              61\n",
       "Ижевск              61\n",
       "Хабаровск           60\n",
       "Красноярск          56\n",
       "Пермь               55\n",
       "Екатеринбург        49\n",
       "Ставрополь          36\n",
       "Тюмень              32\n",
       "Name: user_id, dtype: int64"
      ]
     },
     "execution_count": 5,
     "metadata": {},
     "output_type": "execute_result"
    }
   ],
   "source": [
    "#группировка по городу с подсчетом количества заходов в букмекерсую контору\n",
    "sample2 = log_us.groupby('geo').user_id.count()\n",
    "sample2.sort_values(ascending = False)"
   ]
  },
  {
   "cell_type": "markdown",
   "metadata": {},
   "source": [
    "### Задание:\n",
    "Во сколько раз различаются максимальное и минимальное значение средней ставки по городам?"
   ]
  },
  {
   "cell_type": "code",
   "execution_count": 6,
   "metadata": {},
   "outputs": [
    {
     "data": {
      "text/plain": [
       "127.82"
      ]
     },
     "execution_count": 6,
     "metadata": {},
     "output_type": "execute_result"
    }
   ],
   "source": [
    "#вычисление максимального и минимального значения средней ставки по всем городам\n",
    "mean_bet_geo_max = log_us.query('bet > 0').groupby('geo').bet.mean().max()\n",
    "mean_bet_geo_min = log_us.query('bet > 0').groupby('geo').bet.mean().min()\n",
    "\n",
    "result = mean_bet_geo_max / mean_bet_geo_min\n",
    "\n",
    "round(result, 2)"
   ]
  },
  {
   "cell_type": "markdown",
   "metadata": {},
   "source": [
    "### Задание:\n",
    "Сравнить общий процент выигрыша и проигрыша в данной букмекерской конторе"
   ]
  },
  {
   "cell_type": "code",
   "execution_count": 7,
   "metadata": {},
   "outputs": [
    {
     "name": "stdout",
     "output_type": "stream",
     "text": [
      "Только 28.2% пользователей, совершивших ставку, выигрывает. В то же время проигрывает 71.8% пользователей\n"
     ]
    }
   ],
   "source": [
    "#сравнение % выигрыша и проигрыша\n",
    "winner = round(len(log[log['net'] > 0].net) / len(log[log['bet'] > 0].net) * 100, 1)\n",
    "loser = round(len(log[log['net'] < 0].net) / len(log[log['bet'] > 0].net) * 100, 1)\n",
    "\n",
    "print('Только {}% пользователей, совершивших ставку, выигрывает. В то же время проигрывает {}% пользователей' \\\n",
    "      .format(winner, loser))"
   ]
  },
  {
   "cell_type": "markdown",
   "metadata": {},
   "source": [
    "### Задание:\n",
    "Сколько в среднем времени проходит между появлением человека в сервисе и первой ставкой? Считать нужно только тех, кто делал ставку и у кого в файле зарегистрирован первый визит без ставки."
   ]
  },
  {
   "cell_type": "code",
   "execution_count": 8,
   "metadata": {},
   "outputs": [
    {
     "data": {
      "text/plain": [
       "Timedelta('49 days 13:01:38.873684210')"
      ]
     },
     "execution_count": 8,
     "metadata": {},
     "output_type": "execute_result"
    }
   ],
   "source": [
    "#создание списка с минимальным временем для каждого пользователя\n",
    "first_time = log_us.groupby('user_id', as_index = False).agg({'time':'min'}).time.tolist()\n",
    "\n",
    "#создание датафрейма только с минимальным временем, где первый визит без ставки\n",
    "log_us2 = log_us[log_us.time.isin(first_time)]\n",
    "log_us2 = log_us2[log_us2.bet == 0][['user_id', 'time']]\n",
    "\n",
    "#список всех пользователей, у кого первый визит без ставки\n",
    "first_time_us = log_us2.user_id.tolist()\n",
    "\n",
    "#создание датафрейма с первой ненулевой ставкой по пользователям, у кого первый визит без ставки\n",
    "log_us3 = log_us[log_us.user_id.isin(first_time_us)].query('bet > 0').groupby('user_id', as_index = False).agg({'time':'min'})\n",
    "\n",
    "#объединение 2х датафреймов, вычисление среднего значения\n",
    "itog = pd.merge(log_us2, log_us3, on='user_id')\n",
    "(itog['time_y']-itog['time_x']).mean()"
   ]
  }
 ],
 "metadata": {
  "kernelspec": {
   "display_name": "Python 3",
   "language": "python",
   "name": "python3"
  },
  "language_info": {
   "codemirror_mode": {
    "name": "ipython",
    "version": 3
   },
   "file_extension": ".py",
   "mimetype": "text/x-python",
   "name": "python",
   "nbconvert_exporter": "python",
   "pygments_lexer": "ipython3",
   "version": "3.8.5"
  }
 },
 "nbformat": 4,
 "nbformat_minor": 4
}
