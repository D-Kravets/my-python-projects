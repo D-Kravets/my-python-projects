{
 "cells": [
  {
   "cell_type": "markdown",
   "metadata": {},
   "source": [
    "## Задание - провести исследование и предобработку имеющихся данных по букмекерской компании с целью дальнейшей работы с данными\n",
    "Данные по букмекерской конмпании представлены в двух файлах:  \n",
    "- ***log.csv***  - данные по времени, ставкам и выигрышам по каждому пользователю\n",
    "- ***user.csv*** - данные по местонахождению и email адресу по каждому пользователю"
   ]
  },
  {
   "cell_type": "code",
   "execution_count": 1,
   "metadata": {},
   "outputs": [
    {
     "data": {
      "text/html": [
       "<div>\n",
       "<style scoped>\n",
       "    .dataframe tbody tr th:only-of-type {\n",
       "        vertical-align: middle;\n",
       "    }\n",
       "\n",
       "    .dataframe tbody tr th {\n",
       "        vertical-align: top;\n",
       "    }\n",
       "\n",
       "    .dataframe thead th {\n",
       "        text-align: right;\n",
       "    }\n",
       "</style>\n",
       "<table border=\"1\" class=\"dataframe\">\n",
       "  <thead>\n",
       "    <tr style=\"text-align: right;\">\n",
       "      <th></th>\n",
       "      <th>0</th>\n",
       "      <th>1</th>\n",
       "      <th>2</th>\n",
       "      <th>3</th>\n",
       "    </tr>\n",
       "  </thead>\n",
       "  <tbody>\n",
       "    <tr>\n",
       "      <th>0</th>\n",
       "      <td>Запись пользователя № - user_919</td>\n",
       "      <td>[2019-01-01 14:06:51</td>\n",
       "      <td>NaN</td>\n",
       "      <td>NaN</td>\n",
       "    </tr>\n",
       "    <tr>\n",
       "      <th>1</th>\n",
       "      <td>Запись пользователя № - user_973</td>\n",
       "      <td>[2019-01-01 14:51:16</td>\n",
       "      <td>NaN</td>\n",
       "      <td>NaN</td>\n",
       "    </tr>\n",
       "  </tbody>\n",
       "</table>\n",
       "</div>"
      ],
      "text/plain": [
       "                                  0                     1   2   3\n",
       "0  Запись пользователя № - user_919  [2019-01-01 14:06:51 NaN NaN\n",
       "1  Запись пользователя № - user_973  [2019-01-01 14:51:16 NaN NaN"
      ]
     },
     "metadata": {},
     "output_type": "display_data"
    },
    {
     "data": {
      "text/html": [
       "<div>\n",
       "<style scoped>\n",
       "    .dataframe tbody tr th:only-of-type {\n",
       "        vertical-align: middle;\n",
       "    }\n",
       "\n",
       "    .dataframe tbody tr th {\n",
       "        vertical-align: top;\n",
       "    }\n",
       "\n",
       "    .dataframe thead th {\n",
       "        text-align: right;\n",
       "    }\n",
       "</style>\n",
       "<table border=\"1\" class=\"dataframe\">\n",
       "  <thead>\n",
       "    <tr style=\"text-align: right;\">\n",
       "      <th></th>\n",
       "      <th>Юзверь</th>\n",
       "      <th>мейл</th>\n",
       "      <th>Гео</th>\n",
       "    </tr>\n",
       "  </thead>\n",
       "  <tbody>\n",
       "    <tr>\n",
       "      <th>0</th>\n",
       "      <td>User_943</td>\n",
       "      <td>Accumanst@gmail.com</td>\n",
       "      <td>Ижевск</td>\n",
       "    </tr>\n",
       "    <tr>\n",
       "      <th>1</th>\n",
       "      <td>User_908</td>\n",
       "      <td>Advismowr@mail.ru</td>\n",
       "      <td>Ижевск</td>\n",
       "    </tr>\n",
       "  </tbody>\n",
       "</table>\n",
       "</div>"
      ],
      "text/plain": [
       "     Юзверь                 мейл     Гео\n",
       "0  User_943  Accumanst@gmail.com  Ижевск\n",
       "1  User_908    Advismowr@mail.ru  Ижевск"
      ]
     },
     "metadata": {},
     "output_type": "display_data"
    }
   ],
   "source": [
    "import pandas as pd\n",
    "\n",
    "log = pd.read_csv('log.csv', header=None)\n",
    "display(log.head(2))\n",
    "\n",
    "users = pd.read_csv('users.csv', encoding='koi8-r', sep='\\t')\n",
    "display(users.head(2))"
   ]
  },
  {
   "cell_type": "markdown",
   "metadata": {},
   "source": [
    "Подготовка к работе файла ***log.csv*** :"
   ]
  },
  {
   "cell_type": "code",
   "execution_count": 2,
   "metadata": {},
   "outputs": [
    {
     "data": {
      "text/html": [
       "<div>\n",
       "<style scoped>\n",
       "    .dataframe tbody tr th:only-of-type {\n",
       "        vertical-align: middle;\n",
       "    }\n",
       "\n",
       "    .dataframe tbody tr th {\n",
       "        vertical-align: top;\n",
       "    }\n",
       "\n",
       "    .dataframe thead th {\n",
       "        text-align: right;\n",
       "    }\n",
       "</style>\n",
       "<table border=\"1\" class=\"dataframe\">\n",
       "  <thead>\n",
       "    <tr style=\"text-align: right;\">\n",
       "      <th></th>\n",
       "      <th>user_id</th>\n",
       "      <th>time</th>\n",
       "      <th>bet</th>\n",
       "      <th>win</th>\n",
       "      <th>net</th>\n",
       "    </tr>\n",
       "  </thead>\n",
       "  <tbody>\n",
       "    <tr>\n",
       "      <th>837</th>\n",
       "      <td>user_998</td>\n",
       "      <td>2019-04-03 15:02:50</td>\n",
       "      <td>1000.0</td>\n",
       "      <td>0.0</td>\n",
       "      <td>-1000.0</td>\n",
       "    </tr>\n",
       "    <tr>\n",
       "      <th>192</th>\n",
       "      <td>user_986</td>\n",
       "      <td>2019-01-21 21:15:46</td>\n",
       "      <td>0.0</td>\n",
       "      <td>0.0</td>\n",
       "      <td>0.0</td>\n",
       "    </tr>\n",
       "  </tbody>\n",
       "</table>\n",
       "</div>"
      ],
      "text/plain": [
       "      user_id                time     bet  win     net\n",
       "837  user_998 2019-04-03 15:02:50  1000.0  0.0 -1000.0\n",
       "192  user_986 2019-01-21 21:15:46     0.0  0.0     0.0"
      ]
     },
     "execution_count": 2,
     "metadata": {},
     "output_type": "execute_result"
    }
   ],
   "source": [
    "# переименование столбцов\n",
    "log.columns = ['user_id', 'time', 'bet', 'win']\n",
    "\n",
    "# заполнение пустых ячеек в столбцах \"bet\" и \"win\" нулями\n",
    "log.bet = log['bet'].fillna(0)\n",
    "log.win = log['win'].fillna(0)\n",
    "\n",
    "# создание столбца \"net\" - как результата по текущей ставке\n",
    "log['net'] = log['win'] - log['bet']\n",
    "\n",
    "# приведение столбца user_id к удобному виду \"user_***\" и удаление ошибочных данных \"#error\"\n",
    "log.user_id = log.user_id.apply(lambda x: x.replace('Запись пользователя № - ',''))\n",
    "log = log[log.user_id != '#error']\n",
    "\n",
    "# преобразование столбца \"time\" \n",
    "log.time = log.time.str.strip('[')\n",
    "log['time'] = pd.to_datetime(log['time'])\n",
    "\n",
    "log.sample(2)"
   ]
  },
  {
   "cell_type": "markdown",
   "metadata": {},
   "source": [
    "Подготовка к работе файла ***users.csv*** :"
   ]
  },
  {
   "cell_type": "code",
   "execution_count": 3,
   "metadata": {},
   "outputs": [
    {
     "data": {
      "text/html": [
       "<div>\n",
       "<style scoped>\n",
       "    .dataframe tbody tr th:only-of-type {\n",
       "        vertical-align: middle;\n",
       "    }\n",
       "\n",
       "    .dataframe tbody tr th {\n",
       "        vertical-align: top;\n",
       "    }\n",
       "\n",
       "    .dataframe thead th {\n",
       "        text-align: right;\n",
       "    }\n",
       "</style>\n",
       "<table border=\"1\" class=\"dataframe\">\n",
       "  <thead>\n",
       "    <tr style=\"text-align: right;\">\n",
       "      <th></th>\n",
       "      <th>user_id</th>\n",
       "      <th>email</th>\n",
       "      <th>geo</th>\n",
       "    </tr>\n",
       "  </thead>\n",
       "  <tbody>\n",
       "    <tr>\n",
       "      <th>83</th>\n",
       "      <td>user_925</td>\n",
       "      <td>Sianscot@yandex.ru</td>\n",
       "      <td>Тюмень</td>\n",
       "    </tr>\n",
       "    <tr>\n",
       "      <th>1</th>\n",
       "      <td>user_908</td>\n",
       "      <td>Advismowr@mail.ru</td>\n",
       "      <td>Ижевск</td>\n",
       "    </tr>\n",
       "  </tbody>\n",
       "</table>\n",
       "</div>"
      ],
      "text/plain": [
       "     user_id               email     geo\n",
       "83  user_925  Sianscot@yandex.ru  Тюмень\n",
       "1   user_908   Advismowr@mail.ru  Ижевск"
      ]
     },
     "execution_count": 3,
     "metadata": {},
     "output_type": "execute_result"
    }
   ],
   "source": [
    "# переименование столбцов\n",
    "users.columns = ['user_id', 'email', 'geo']\n",
    "\n",
    "# преобразование стобца \"user_id\" к одному виду с df log\n",
    "users.user_id = users.user_id.apply(lambda x: x.lower())\n",
    "users.sample(2)"
   ]
  },
  {
   "cell_type": "markdown",
   "metadata": {},
   "source": [
    "Объединение 2х получившихся датафреймов по полю ***user_id*** :"
   ]
  },
  {
   "cell_type": "code",
   "execution_count": 4,
   "metadata": {},
   "outputs": [
    {
     "data": {
      "text/html": [
       "<div>\n",
       "<style scoped>\n",
       "    .dataframe tbody tr th:only-of-type {\n",
       "        vertical-align: middle;\n",
       "    }\n",
       "\n",
       "    .dataframe tbody tr th {\n",
       "        vertical-align: top;\n",
       "    }\n",
       "\n",
       "    .dataframe thead th {\n",
       "        text-align: right;\n",
       "    }\n",
       "</style>\n",
       "<table border=\"1\" class=\"dataframe\">\n",
       "  <thead>\n",
       "    <tr style=\"text-align: right;\">\n",
       "      <th></th>\n",
       "      <th>user_id</th>\n",
       "      <th>time</th>\n",
       "      <th>bet</th>\n",
       "      <th>win</th>\n",
       "      <th>net</th>\n",
       "      <th>email</th>\n",
       "      <th>geo</th>\n",
       "    </tr>\n",
       "  </thead>\n",
       "  <tbody>\n",
       "    <tr>\n",
       "      <th>800</th>\n",
       "      <td>user_959</td>\n",
       "      <td>2019-02-06 05:49:12</td>\n",
       "      <td>0.0</td>\n",
       "      <td>0.0</td>\n",
       "      <td>0.0</td>\n",
       "      <td>UpdatesCurious@yahoo.com</td>\n",
       "      <td>Тюмень</td>\n",
       "    </tr>\n",
       "    <tr>\n",
       "      <th>480</th>\n",
       "      <td>user_928</td>\n",
       "      <td>2019-02-17 14:48:14</td>\n",
       "      <td>0.0</td>\n",
       "      <td>0.0</td>\n",
       "      <td>0.0</td>\n",
       "      <td>FraserBlue@mail.ru</td>\n",
       "      <td>Хабаровск</td>\n",
       "    </tr>\n",
       "  </tbody>\n",
       "</table>\n",
       "</div>"
      ],
      "text/plain": [
       "      user_id                time  bet  win  net                     email  \\\n",
       "800  user_959 2019-02-06 05:49:12  0.0  0.0  0.0  UpdatesCurious@yahoo.com   \n",
       "480  user_928 2019-02-17 14:48:14  0.0  0.0  0.0        FraserBlue@mail.ru   \n",
       "\n",
       "           geo  \n",
       "800     Тюмень  \n",
       "480  Хабаровск  "
      ]
     },
     "execution_count": 4,
     "metadata": {},
     "output_type": "execute_result"
    }
   ],
   "source": [
    "log_us = pd.merge(log, users, how = 'inner', on = 'user_id')\n",
    "log_us.sample(2)"
   ]
  },
  {
   "cell_type": "markdown",
   "metadata": {},
   "source": [
    "### Задание:\n",
    "Сколько раз пользователи приходили в букмекерскую контору в каждом городе?"
   ]
  },
  {
   "cell_type": "code",
   "execution_count": 5,
   "metadata": {},
   "outputs": [
    {
     "data": {
      "text/plain": [
       "geo\n",
       "Санкт-Петербург    115\n",
       "Арзангелтск         96\n",
       "Ярославль           89\n",
       "Воронеж             88\n",
       "Краснодар           86\n",
       "Казань              66\n",
       "Москва              61\n",
       "Ижевск              61\n",
       "Хабаровск           60\n",
       "Красноярск          56\n",
       "Пермь               55\n",
       "Екатеринбург        49\n",
       "Ставрополь          36\n",
       "Тюмень              32\n",
       "Name: user_id, dtype: int64"
      ]
     },
     "execution_count": 5,
     "metadata": {},
     "output_type": "execute_result"
    }
   ],
   "source": [
    "# группировка по городу с подсчетом количества заходов в букмекерсую контору\n",
    "sample2 = log_us.groupby('geo').user_id.count()\n",
    "sample2.sort_values(ascending = False)"
   ]
  },
  {
   "cell_type": "markdown",
   "metadata": {},
   "source": [
    "### Задание:\n",
    "Во сколько раз различаются максимальное и минимальное значение средней ставки по городам?"
   ]
  },
  {
   "cell_type": "code",
   "execution_count": 6,
   "metadata": {},
   "outputs": [
    {
     "data": {
      "text/plain": [
       "127.82"
      ]
     },
     "execution_count": 6,
     "metadata": {},
     "output_type": "execute_result"
    }
   ],
   "source": [
    "# вычисление максимального и минимального значения средней ставки по всем городам\n",
    "mean_bet_geo_max = log_us.query('bet > 0').groupby('geo').bet.mean().max()\n",
    "mean_bet_geo_min = log_us.query('bet > 0').groupby('geo').bet.mean().min()\n",
    "\n",
    "result = mean_bet_geo_max / mean_bet_geo_min\n",
    "\n",
    "round(result, 2)"
   ]
  },
  {
   "cell_type": "markdown",
   "metadata": {},
   "source": [
    "### Задание:\n",
    "Сравнить общий процент выигрыша и проигрыша в данной букмекерской конторе"
   ]
  },
  {
   "cell_type": "code",
   "execution_count": 7,
   "metadata": {},
   "outputs": [
    {
     "name": "stdout",
     "output_type": "stream",
     "text": [
      "Только 28.2% пользователей, совершивших ставку, выигрывает. В то же время проигрывает 71.8% пользователей\n"
     ]
    }
   ],
   "source": [
    "# сравнение % выигрыша и проигрыша\n",
    "winner = round(len(log[log['net'] > 0].net) / len(log[log['bet'] > 0].net) * 100, 1)\n",
    "loser = round(len(log[log['net'] < 0].net) / len(log[log['bet'] > 0].net) * 100, 1)\n",
    "\n",
    "print('Только {}% пользователей, совершивших ставку, выигрывает. В то же время проигрывает {}% пользователей' \\\n",
    "      .format(winner, loser))"
   ]
  },
  {
   "cell_type": "markdown",
   "metadata": {},
   "source": [
    "### Задание:\n",
    "Сколько в среднем времени проходит между появлением человека в сервисе и первой ставкой? Считать нужно только тех, кто делал ставку и у кого в файле зарегистрирован первый визит без ставки."
   ]
  },
  {
   "cell_type": "code",
   "execution_count": 8,
   "metadata": {},
   "outputs": [
    {
     "data": {
      "text/plain": [
       "Timedelta('49 days 13:01:38.873684210')"
      ]
     },
     "execution_count": 8,
     "metadata": {},
     "output_type": "execute_result"
    }
   ],
   "source": [
    "# создание списка с минимальным временем для каждого пользователя\n",
    "first_time = log_us.groupby('user_id', as_index = False).agg({'time':'min'}).time.tolist()\n",
    "\n",
    "# создание датафрейма только с минимальным временем, где первый визит без ставки\n",
    "log_us2 = log_us[log_us.time.isin(first_time)]\n",
    "log_us2 = log_us2[log_us2.bet == 0][['user_id', 'time']]\n",
    "\n",
    "# список всех пользователей, у кого первый визит без ставки\n",
    "first_time_us = log_us2.user_id.tolist()\n",
    "\n",
    "# создание датафрейма с первой ненулевой ставкой по пользователям, у кого первый визит без ставки\n",
    "log_us3 = log_us[log_us.user_id.isin(first_time_us)].query('bet > 0').groupby('user_id', as_index = False).agg({'time':'min'})\n",
    "\n",
    "# объединение 2х датафреймов, вычисление среднего значения\n",
    "itog = pd.merge(log_us2, log_us3, on='user_id')\n",
    "(itog['time_y']-itog['time_x']).mean()"
   ]
  }
 ],
 "metadata": {
  "kernelspec": {
   "display_name": "Python 3",
   "language": "python",
   "name": "python3"
  },
  "language_info": {
   "codemirror_mode": {
    "name": "ipython",
    "version": 3
   },
   "file_extension": ".py",
   "mimetype": "text/x-python",
   "name": "python",
   "nbconvert_exporter": "python",
   "pygments_lexer": "ipython3",
   "version": "3.8.5"
  }
 },
 "nbformat": 4,
 "nbformat_minor": 4
}
